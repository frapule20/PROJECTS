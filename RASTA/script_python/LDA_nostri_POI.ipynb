{
  "cells": [
    {
      "cell_type": "markdown",
      "metadata": {
        "id": "2HhEsP2H1ICz"
      },
      "source": [
        "# LDA - Pronto per i nostri POI"
      ]
    },
    {
      "cell_type": "markdown",
      "metadata": {
        "id": "1F8fCMUO1IC4"
      },
      "source": [
        "## Optimization"
      ]
    },
    {
      "cell_type": "code",
      "execution_count": null,
      "metadata": {
        "colab": {
          "base_uri": "https://localhost:8080/"
        },
        "id": "D9t7z_D98kkZ",
        "outputId": "949d9d06-6027-4928-9657-b7557ca01dba"
      },
      "outputs": [
        {
          "name": "stdout",
          "output_type": "stream",
          "text": [
            "Requirement already satisfied: scikit-learn in /usr/local/lib/python3.10/dist-packages (1.3.2)\n",
            "Requirement already satisfied: numpy<2.0,>=1.17.3 in /usr/local/lib/python3.10/dist-packages (from scikit-learn) (1.25.2)\n",
            "Requirement already satisfied: scipy>=1.5.0 in /usr/local/lib/python3.10/dist-packages (from scikit-learn) (1.13.1)\n",
            "Requirement already satisfied: joblib>=1.1.1 in /usr/local/lib/python3.10/dist-packages (from scikit-learn) (1.4.2)\n",
            "Requirement already satisfied: threadpoolctl>=2.0.0 in /usr/local/lib/python3.10/dist-packages (from scikit-learn) (3.5.0)\n"
          ]
        }
      ],
      "source": [
        "!pip install scikit-learn\n",
        "!pip install octis\n",
        "!pip install chardet"
      ]
    },
    {
      "cell_type": "code",
      "execution_count": 1,
      "metadata": {
        "id": "PsSzR56L1IC5"
      },
      "outputs": [],
      "source": [
        "from octis.models.LDA import LDA\n",
        "from octis.dataset.dataset import Dataset\n",
        "from octis.evaluation_metrics.diversity_metrics import TopicDiversity\n",
        "from octis.evaluation_metrics.coherence_metrics import Coherence"
      ]
    },
    {
      "cell_type": "code",
      "execution_count": 2,
      "metadata": {
        "id": "xdHOQgbz1IC6"
      },
      "outputs": [],
      "source": [
        "# percorsi\n",
        "dataset_save = '../datasetNostriPOI/dataset_LDA_zipf'\n",
        "risultati_TD = '../risultati/NostriPOI/LDA/results_TD'\n",
        "risultati_npmi = '../risultati/NostriPOI/LDA/results_npmi'"
      ]
    },
    {
      "cell_type": "code",
      "execution_count": 4,
      "metadata": {},
      "outputs": [],
      "source": [
        "from octis.dataset.dataset import Dataset\n",
        "from pathlib import Path\n",
        "\n",
        "class CustomDataset(Dataset):\n",
        "    def _load_vocabulary(self, file_name):\n",
        "        \"\"\"\n",
        "        Loads vocabulary from a file\n",
        "        Parameters\n",
        "        ----------\n",
        "        file_name : name of the file to read\n",
        "        \"\"\"\n",
        "        vocabulary = []\n",
        "        file = Path(file_name)\n",
        "        if file.is_file():\n",
        "            with open(file_name, 'r', encoding='utf-8') as vocabulary_file:\n",
        "                for line in vocabulary_file:\n",
        "                    vocabulary.append(line.strip())\n",
        "            self.__vocabulary = vocabulary\n",
        "        else:\n",
        "            raise Exception(\"error in loading vocabulary\")\n",
        "\n",
        "    # Sovrascrivi anche altri metodi se necessario per la gestione della codifica\n",
        "\n",
        "# Usa la tua classe CustomDataset\n",
        "dataset = CustomDataset()\n",
        "dataset.load_custom_dataset_from_folder(dataset_save)\n"
      ]
    },
    {
      "cell_type": "code",
      "execution_count": 5,
      "metadata": {
        "colab": {
          "base_uri": "https://localhost:8080/"
        },
        "id": "9aTUJkgOStu_",
        "outputId": "b560941e-94bc-47d4-c926-cebfcc0759ec"
      },
      "outputs": [
        {
          "name": "stdout",
          "output_type": "stream",
          "text": [
            "3141\n"
          ]
        }
      ],
      "source": [
        "print(len(dataset.get_corpus()))"
      ]
    },
    {
      "cell_type": "markdown",
      "metadata": {
        "id": "QZgJbs3I1IC8"
      },
      "source": [
        "### Train a Model"
      ]
    },
    {
      "cell_type": "code",
      "execution_count": 6,
      "metadata": {
        "id": "tztcIU7x1IC8"
      },
      "outputs": [],
      "source": [
        "# Create Model\n",
        "model = LDA(num_topics=12)\n",
        "model.partitioning(False)"
      ]
    },
    {
      "cell_type": "code",
      "execution_count": 7,
      "metadata": {
        "colab": {
          "base_uri": "https://localhost:8080/"
        },
        "id": "GiSf_URT1IC8",
        "outputId": "73554182-6fce-428d-cb6e-d07a7e8ba9d2"
      },
      "outputs": [],
      "source": [
        "from octis.dataset.dataset import Dataset\n",
        "from octis.models.LDA import LDA\n",
        "\n",
        "model_output = model.train_model(dataset)"
      ]
    },
    {
      "cell_type": "code",
      "execution_count": 8,
      "metadata": {
        "colab": {
          "base_uri": "https://localhost:8080/"
        },
        "id": "oVPWwjC3MWHp",
        "outputId": "0e7fcb86-133b-43f2-8993-d8e09d71be63"
      },
      "outputs": [
        {
          "data": {
            "text/plain": [
              "{'topic-word-matrix': array([[3.2246512e-04, 2.6479016e-05, 1.2162337e-05, ..., 4.9066040e-07,\n",
              "         4.9066040e-07, 4.9066040e-07],\n",
              "        [2.2931951e-04, 3.4636880e-05, 2.0792879e-05, ..., 8.9146971e-07,\n",
              "         8.9146971e-07, 8.9146971e-07],\n",
              "        [5.0112722e-04, 2.8497152e-05, 7.3638166e-06, ..., 3.7777605e-07,\n",
              "         3.7777605e-07, 3.7777605e-07],\n",
              "        ...,\n",
              "        [2.9277790e-04, 1.7811775e-05, 1.9249712e-05, ..., 8.9732089e-07,\n",
              "         8.9732089e-07, 8.9732089e-07],\n",
              "        [3.0511583e-04, 1.6544720e-05, 2.0258356e-05, ..., 2.0711491e-06,\n",
              "         2.0711491e-06, 2.0711491e-06],\n",
              "        [1.7123454e-04, 2.5807714e-05, 2.3337900e-05, ..., 9.9596218e-07,\n",
              "         9.9596218e-07, 9.9596218e-07]], dtype=float32),\n",
              " 'topics': [['primo',\n",
              "   'anno',\n",
              "   'antico',\n",
              "   'centro',\n",
              "   'romano',\n",
              "   'opera',\n",
              "   'museo',\n",
              "   'grande',\n",
              "   'storico',\n",
              "   'centrale'],\n",
              "  ['stazione',\n",
              "   'anno',\n",
              "   'url',\n",
              "   'servizio',\n",
              "   'noto',\n",
              "   'ferroviario',\n",
              "   'abruzzo',\n",
              "   'linea',\n",
              "   'provincia',\n",
              "   'primo'],\n",
              "  ['palazzo',\n",
              "   'castello',\n",
              "   'aquila',\n",
              "   'romano',\n",
              "   'portale',\n",
              "   'antico',\n",
              "   'primo',\n",
              "   'abruzzo',\n",
              "   'archeologico',\n",
              "   'facciata'],\n",
              "  ['stazione',\n",
              "   'castello',\n",
              "   'primo',\n",
              "   'anno',\n",
              "   'antico',\n",
              "   'porre',\n",
              "   'tre',\n",
              "   'storico',\n",
              "   'ferroviario',\n",
              "   'ferrovia'],\n",
              "  ['castello',\n",
              "   'primo',\n",
              "   'borgo',\n",
              "   'centro',\n",
              "   'anno',\n",
              "   'valle',\n",
              "   'alcuno',\n",
              "   'grande',\n",
              "   'paese',\n",
              "   'molto'],\n",
              "  ['riserva',\n",
              "   'naturale',\n",
              "   'abruzzo',\n",
              "   'anno',\n",
              "   'primo',\n",
              "   'area',\n",
              "   'parco',\n",
              "   'valle',\n",
              "   'centro',\n",
              "   'alcuno'],\n",
              "  ['anno',\n",
              "   'primo',\n",
              "   'opera',\n",
              "   'romano',\n",
              "   'centro',\n",
              "   'luogo',\n",
              "   'grande',\n",
              "   'antico',\n",
              "   'realizzare',\n",
              "   'lungo'],\n",
              "  ['paese',\n",
              "   'centro',\n",
              "   'anno',\n",
              "   'antico',\n",
              "   'abruzzo',\n",
              "   'storico',\n",
              "   'primo',\n",
              "   'mare',\n",
              "   'valle',\n",
              "   'nome'],\n",
              "  ['anno',\n",
              "   'teramo',\n",
              "   'primo',\n",
              "   'abruzzo',\n",
              "   'centro',\n",
              "   'antico',\n",
              "   'navata',\n",
              "   'facciata',\n",
              "   'edificio',\n",
              "   'altare'],\n",
              "  ['castello',\n",
              "   'torre',\n",
              "   'primo',\n",
              "   'storia',\n",
              "   'borgo',\n",
              "   'anno',\n",
              "   'abruzzo',\n",
              "   'centro',\n",
              "   'alcuno',\n",
              "   'valle'],\n",
              "  ['anno',\n",
              "   'castello',\n",
              "   'primo',\n",
              "   'paese',\n",
              "   'antico',\n",
              "   'affresco',\n",
              "   'progetto',\n",
              "   'famiglia',\n",
              "   'opera',\n",
              "   'tre'],\n",
              "  ['area',\n",
              "   'anno',\n",
              "   'provincia',\n",
              "   'aquila',\n",
              "   'primo',\n",
              "   'abruzzo',\n",
              "   'alcuno',\n",
              "   'stazione',\n",
              "   'centro',\n",
              "   'noto']],\n",
              " 'topic-document-matrix': array([[5.28920151e-04, 6.20125793e-04, 4.24126280e-04, ...,\n",
              "         2.87776493e-04, 3.03572888e-04, 7.51713337e-03],\n",
              "        [5.24014652e-01, 2.17526145e-02, 4.24126454e-04, ...,\n",
              "         2.87775561e-04, 3.03573295e-04, 9.71985166e-04],\n",
              "        [5.28913224e-04, 6.20123988e-04, 7.01728612e-02, ...,\n",
              "         1.42949760e-01, 9.96660769e-01, 3.96137744e-01],\n",
              "        ...,\n",
              "        [5.28910605e-04, 6.20125735e-04, 4.24129481e-04, ...,\n",
              "         2.87776580e-04, 3.03572946e-04, 9.71972884e-04],\n",
              "        [5.28909324e-04, 6.20122009e-04, 4.24125959e-04, ...,\n",
              "         2.87774048e-04, 3.03570763e-04, 9.71979345e-04],\n",
              "        [5.28913399e-04, 6.20124978e-04, 4.24124766e-04, ...,\n",
              "         2.87773611e-04, 3.03571200e-04, 9.71981790e-04]])}"
            ]
          },
          "execution_count": 8,
          "metadata": {},
          "output_type": "execute_result"
        }
      ],
      "source": [
        "model_output"
      ]
    },
    {
      "cell_type": "code",
      "execution_count": 9,
      "metadata": {
        "colab": {
          "base_uri": "https://localhost:8080/"
        },
        "id": "mrcoZAyAQwf6",
        "outputId": "ac2515ec-0e1b-4543-b736-12e39475106f"
      },
      "outputs": [
        {
          "data": {
            "text/plain": [
              "(12, 3141)"
            ]
          },
          "execution_count": 9,
          "metadata": {},
          "output_type": "execute_result"
        }
      ],
      "source": [
        "model._get_topic_document_matrix().shape"
      ]
    },
    {
      "cell_type": "code",
      "execution_count": 10,
      "metadata": {
        "colab": {
          "base_uri": "https://localhost:8080/"
        },
        "id": "MOKpYZYDL3Bn",
        "outputId": "a8e5cc87-52e3-4988-cbc0-bbf7d9e4a580"
      },
      "outputs": [
        {
          "data": {
            "text/plain": [
              "[['primo',\n",
              "  'anno',\n",
              "  'antico',\n",
              "  'centro',\n",
              "  'romano',\n",
              "  'opera',\n",
              "  'museo',\n",
              "  'grande',\n",
              "  'storico',\n",
              "  'centrale'],\n",
              " ['stazione',\n",
              "  'anno',\n",
              "  'url',\n",
              "  'servizio',\n",
              "  'noto',\n",
              "  'ferroviario',\n",
              "  'abruzzo',\n",
              "  'linea',\n",
              "  'provincia',\n",
              "  'primo'],\n",
              " ['palazzo',\n",
              "  'castello',\n",
              "  'aquila',\n",
              "  'romano',\n",
              "  'portale',\n",
              "  'antico',\n",
              "  'primo',\n",
              "  'abruzzo',\n",
              "  'archeologico',\n",
              "  'facciata'],\n",
              " ['stazione',\n",
              "  'castello',\n",
              "  'primo',\n",
              "  'anno',\n",
              "  'antico',\n",
              "  'porre',\n",
              "  'tre',\n",
              "  'storico',\n",
              "  'ferroviario',\n",
              "  'ferrovia'],\n",
              " ['castello',\n",
              "  'primo',\n",
              "  'borgo',\n",
              "  'centro',\n",
              "  'anno',\n",
              "  'valle',\n",
              "  'alcuno',\n",
              "  'grande',\n",
              "  'paese',\n",
              "  'molto'],\n",
              " ['riserva',\n",
              "  'naturale',\n",
              "  'abruzzo',\n",
              "  'anno',\n",
              "  'primo',\n",
              "  'area',\n",
              "  'parco',\n",
              "  'valle',\n",
              "  'centro',\n",
              "  'alcuno'],\n",
              " ['anno',\n",
              "  'primo',\n",
              "  'opera',\n",
              "  'romano',\n",
              "  'centro',\n",
              "  'luogo',\n",
              "  'grande',\n",
              "  'antico',\n",
              "  'realizzare',\n",
              "  'lungo'],\n",
              " ['paese',\n",
              "  'centro',\n",
              "  'anno',\n",
              "  'antico',\n",
              "  'abruzzo',\n",
              "  'storico',\n",
              "  'primo',\n",
              "  'mare',\n",
              "  'valle',\n",
              "  'nome'],\n",
              " ['anno',\n",
              "  'teramo',\n",
              "  'primo',\n",
              "  'abruzzo',\n",
              "  'centro',\n",
              "  'antico',\n",
              "  'navata',\n",
              "  'facciata',\n",
              "  'edificio',\n",
              "  'altare'],\n",
              " ['castello',\n",
              "  'torre',\n",
              "  'primo',\n",
              "  'storia',\n",
              "  'borgo',\n",
              "  'anno',\n",
              "  'abruzzo',\n",
              "  'centro',\n",
              "  'alcuno',\n",
              "  'valle'],\n",
              " ['anno',\n",
              "  'castello',\n",
              "  'primo',\n",
              "  'paese',\n",
              "  'antico',\n",
              "  'affresco',\n",
              "  'progetto',\n",
              "  'famiglia',\n",
              "  'opera',\n",
              "  'tre'],\n",
              " ['area',\n",
              "  'anno',\n",
              "  'provincia',\n",
              "  'aquila',\n",
              "  'primo',\n",
              "  'abruzzo',\n",
              "  'alcuno',\n",
              "  'stazione',\n",
              "  'centro',\n",
              "  'noto']]"
            ]
          },
          "execution_count": 10,
          "metadata": {},
          "output_type": "execute_result"
        }
      ],
      "source": [
        "model._get_topics_words(topk = 10)"
      ]
    },
    {
      "cell_type": "markdown",
      "metadata": {
        "id": "5gIjZnR11IC9"
      },
      "source": [
        "### Evaluate a Model"
      ]
    },
    {
      "cell_type": "code",
      "execution_count": 11,
      "metadata": {
        "colab": {
          "base_uri": "https://localhost:8080/"
        },
        "id": "eScDVlK_1IC9",
        "outputId": "3ede17e4-f4fa-48d4-8c35-21b701a4dd6f"
      },
      "outputs": [
        {
          "name": "stdout",
          "output_type": "stream",
          "text": [
            "primo anno antico centro romano opera museo grande storico centrale\n",
            "stazione anno url servizio noto ferroviario abruzzo linea provincia primo\n",
            "palazzo castello aquila romano portale antico primo abruzzo archeologico facciata\n",
            "stazione castello primo anno antico porre tre storico ferroviario ferrovia\n",
            "castello primo borgo centro anno valle alcuno grande paese molto\n",
            "riserva naturale abruzzo anno primo area parco valle centro alcuno\n",
            "anno primo opera romano centro luogo grande antico realizzare lungo\n",
            "paese centro anno antico abruzzo storico primo mare valle nome\n",
            "anno teramo primo abruzzo centro antico navata facciata edificio altare\n",
            "castello torre primo storia borgo anno abruzzo centro alcuno valle\n",
            "anno castello primo paese antico affresco progetto famiglia opera tre\n",
            "area anno provincia aquila primo abruzzo alcuno stazione centro noto\n"
          ]
        }
      ],
      "source": [
        "for t in model_output['topics']:\n",
        "  print(\" \".join(t))"
      ]
    },
    {
      "cell_type": "code",
      "execution_count": 12,
      "metadata": {
        "colab": {
          "base_uri": "https://localhost:8080/"
        },
        "id": "g1Wl5Cr11IC-",
        "outputId": "739123f5-821f-426d-b1ef-8b4fa388ec08"
      },
      "outputs": [
        {
          "data": {
            "text/plain": [
              "12"
            ]
          },
          "execution_count": 12,
          "metadata": {},
          "output_type": "execute_result"
        }
      ],
      "source": [
        "len(model_output['topics'])"
      ]
    },
    {
      "cell_type": "code",
      "execution_count": 13,
      "metadata": {
        "id": "GzhYx-rP1IC-"
      },
      "outputs": [],
      "source": [
        "# Initialize metric\n",
        "npmi = Coherence(texts=dataset.get_corpus(), topk=10, measure='c_npmi')"
      ]
    },
    {
      "cell_type": "code",
      "execution_count": 14,
      "metadata": {
        "id": "-NMK4YvQ1IC-"
      },
      "outputs": [],
      "source": [
        "# Initialize metric\n",
        "topic_diversity = TopicDiversity(topk=10)"
      ]
    },
    {
      "cell_type": "code",
      "execution_count": 15,
      "metadata": {
        "colab": {
          "base_uri": "https://localhost:8080/"
        },
        "id": "yQK5aG1c1IC-",
        "outputId": "86fcf302-86ee-4bc5-abb0-92306ce0c723"
      },
      "outputs": [
        {
          "name": "stdout",
          "output_type": "stream",
          "text": [
            "Topic diversity: 0.4166666666666667\n",
            "Coherence: 0.0031130679145168626\n"
          ]
        }
      ],
      "source": [
        "# Retrieve metrics score\n",
        "topic_diversity_score = topic_diversity.score(model_output)\n",
        "print(\"Topic diversity: \"+str(topic_diversity_score))\n",
        "\n",
        "npmi_score = npmi.score(model_output)\n",
        "print(\"Coherence: \"+str(npmi_score))"
      ]
    },
    {
      "cell_type": "markdown",
      "metadata": {
        "id": "0RSFwz0v1IC_"
      },
      "source": [
        "### Hyperparameter Optimization"
      ]
    },
    {
      "cell_type": "code",
      "execution_count": 16,
      "metadata": {
        "id": "fmbneh1Z1IC_"
      },
      "outputs": [],
      "source": [
        "from octis.optimization.optimizer import Optimizer\n",
        "from skopt.space.space import Real\n",
        "from skopt.space.space import Real, Integer"
      ]
    },
    {
      "cell_type": "markdown",
      "metadata": {
        "id": "IDyjTnlo1IC_"
      },
      "source": [
        "### Topic Diversity"
      ]
    },
    {
      "cell_type": "code",
      "execution_count": 17,
      "metadata": {
        "colab": {
          "base_uri": "https://localhost:8080/"
        },
        "id": "WBQFx3g-1IC_",
        "outputId": "684c6ca2-bace-4cc8-c58e-dba87adf682b"
      },
      "outputs": [
        {
          "name": "stdout",
          "output_type": "stream",
          "text": [
            "Current call:  0\n",
            "Current call:  1\n",
            "Current call:  2\n",
            "Current call:  3\n",
            "Current call:  4\n",
            "Current call:  5\n",
            "Current call:  6\n",
            "Current call:  7\n",
            "Current call:  8\n",
            "Current call:  9\n",
            "Current call:  10\n",
            "Current call:  11\n",
            "Current call:  12\n",
            "Current call:  13\n",
            "Current call:  14\n",
            "Current call:  15\n",
            "Current call:  16\n",
            "Current call:  17\n",
            "Current call:  18\n",
            "Current call:  19\n",
            "Current call:  20\n",
            "Current call:  21\n",
            "Current call:  22\n",
            "Current call:  23\n",
            "Current call:  24\n",
            "Current call:  25\n",
            "Current call:  26\n",
            "Current call:  27\n",
            "Current call:  28\n",
            "Current call:  29\n"
          ]
        }
      ],
      "source": [
        "# Define the search space. To see which hyperparameters to optimize, see the topic model's initialization signature\n",
        "search_space = {\"alpha\": Real(low=0.001, high=5.0), \"eta\": Real(low=0.001, high=5.0), \"num_topics\": Integer(low=5, high=12)}\n",
        "\n",
        "# Initialize an optimizer object and start the optimization.\n",
        "optimizer=Optimizer()\n",
        "optResult=optimizer.optimize(model, dataset, topic_diversity, search_space, save_path=risultati_TD, # path to store the results\n",
        "                             number_of_call=30, # number of optimization iterations\n",
        "                             model_runs=5,save_models=False) # number of runs of the topic model\n",
        "#save the results of th optimization in a csv file\n",
        "optResult.save_to_csv(risultati_TD + r'\\result_TD.csv')"
      ]
    },
    {
      "cell_type": "code",
      "execution_count": 18,
      "metadata": {
        "colab": {
          "base_uri": "https://localhost:8080/"
        },
        "id": "bLzjQmC81IC_",
        "outputId": "3665f337-7ea1-4499-fff4-7ea512867b15"
      },
      "outputs": [
        {
          "data": {
            "text/plain": [
              "dict_keys(['dataset_name', 'dataset_path', 'is_cached', 'kernel', 'acq_func', 'surrogate_model', 'optimization_type', 'model_runs', 'save_models', 'save_step', 'save_name', 'save_path', 'early_stop', 'early_step', 'plot_model', 'plot_best_seen', 'plot_name', 'log_scale_plot', 'search_space', 'model_name', 'model_attributes', 'use_partitioning', 'metric_name', 'extra_metric_names', 'metric_attributes', 'extra_metric_attributes', 'current_call', 'number_of_call', 'random_state', 'x0', 'y0', 'n_random_starts', 'initial_point_generator', 'topk', 'time_eval', 'dict_model_runs', 'f_val', 'x_iters'])"
            ]
          },
          "execution_count": 18,
          "metadata": {},
          "output_type": "execute_result"
        }
      ],
      "source": [
        "import json\n",
        "res = json.load(open(risultati_TD + r\"/result.json\",'r'))\n",
        "res.keys()"
      ]
    },
    {
      "cell_type": "code",
      "execution_count": 20,
      "metadata": {
        "colab": {
          "base_uri": "https://localhost:8080/"
        },
        "id": "Ncrng4rM1IC_",
        "outputId": "8e1bd07f-1846-4d63-88cc-8ed375eccbc2"
      },
      "outputs": [
        {
          "name": "stdout",
          "output_type": "stream",
          "text": [
            "Valore migliore di Topic Diversity ottenuto: \n",
            "0.54\n",
            "Numero di iterazione: \n",
            "25\n",
            "Valore di alpha:\n",
            "0.051072239988815764\n",
            "Valore di eta:\n",
            "0.11907836593940381\n",
            "Numero di topic:\n",
            "5\n"
          ]
        }
      ],
      "source": [
        "# valuto qual è l'iterazione migliore\n",
        "print(\"Valore migliore di Topic Diversity ottenuto: \" )\n",
        "print(max(res[\"f_val\"]))\n",
        "print(\"Numero di iterazione: \")\n",
        "i = 0\n",
        "for j in res[\"f_val\"]:\n",
        "  if(j == max(res[\"f_val\"])):\n",
        "    i += 1\n",
        "    print(i)\n",
        "    break\n",
        "  else:\n",
        "    i += 1\n",
        "alpha = res['x_iters']['alpha'][i-1]\n",
        "eta = res['x_iters']['eta'][i-1]\n",
        "topic = res['x_iters']['num_topics'][i-1]\n",
        "#topic = int(topic[0]) # Access the first element of the array and convert to an integer\n",
        "print(\"Valore di alpha:\")\n",
        "print(alpha)\n",
        "print(\"Valore di eta:\")\n",
        "print(eta)\n",
        "print(\"Numero di topic:\")\n",
        "print(topic)"
      ]
    },
    {
      "cell_type": "code",
      "execution_count": 21,
      "metadata": {
        "id": "DPQCiAq21IDA"
      },
      "outputs": [],
      "source": [
        "# Create Model\n",
        "model_TD = LDA(num_topics= topic, alpha= alpha, eta= eta)\n",
        "model_TD.partitioning(False)"
      ]
    },
    {
      "cell_type": "code",
      "execution_count": 22,
      "metadata": {
        "colab": {
          "base_uri": "https://localhost:8080/"
        },
        "id": "qVBs7uQo1IDA",
        "outputId": "a04cae16-2be3-4a31-c8fa-1971719a9f03"
      },
      "outputs": [],
      "source": [
        "model_output_TD = model_TD.train_model(dataset)"
      ]
    },
    {
      "cell_type": "code",
      "execution_count": 23,
      "metadata": {
        "id": "r4JwQDQ-1IDA"
      },
      "outputs": [
        {
          "name": "stdout",
          "output_type": "stream",
          "text": [
            "topic-word-matrix\n",
            "topics\n",
            "topic-document-matrix\n"
          ]
        }
      ],
      "source": [
        "print(*list(model_output_TD.keys()), sep=\"\\n\") # Print the output identifiers"
      ]
    },
    {
      "cell_type": "code",
      "execution_count": 24,
      "metadata": {
        "colab": {
          "base_uri": "https://localhost:8080/"
        },
        "id": "m-pioAFDO1mi",
        "outputId": "78339ab2-c379-47f7-c801-fe905b26bae6"
      },
      "outputs": [
        {
          "data": {
            "text/plain": [
              "array([[3.25102650e-04, 5.98093122e-03, 2.60677567e-04, ...,\n",
              "        1.76678383e-04, 9.59068686e-02, 5.65565586e-01],\n",
              "       [3.25102650e-04, 3.86364729e-04, 2.60677567e-04, ...,\n",
              "        1.76678383e-04, 1.86262769e-04, 6.01823267e-04],\n",
              "       [3.25102650e-04, 1.37362629e-01, 9.13459361e-01, ...,\n",
              "        9.99293327e-01, 9.03534412e-01, 6.01823267e-04],\n",
              "       [9.98699605e-01, 3.86364758e-04, 8.57585967e-02, ...,\n",
              "        1.76678383e-04, 1.86262769e-04, 6.01823325e-04],\n",
              "       [3.25102650e-04, 8.55883658e-01, 2.60677567e-04, ...,\n",
              "        1.76678383e-04, 1.86262769e-04, 4.32628989e-01]])"
            ]
          },
          "execution_count": 24,
          "metadata": {},
          "output_type": "execute_result"
        }
      ],
      "source": [
        "model_TD._get_topic_document_matrix()"
      ]
    },
    {
      "cell_type": "code",
      "execution_count": 25,
      "metadata": {
        "id": "FZvQgVMJQkAJ"
      },
      "outputs": [
        {
          "data": {
            "text/plain": [
              "(5, 3141)"
            ]
          },
          "execution_count": 25,
          "metadata": {},
          "output_type": "execute_result"
        }
      ],
      "source": [
        "model_TD._get_topic_document_matrix().shape"
      ]
    },
    {
      "cell_type": "code",
      "execution_count": 26,
      "metadata": {
        "id": "KG0T8ycG1IDA"
      },
      "outputs": [
        {
          "name": "stdout",
          "output_type": "stream",
          "text": [
            "primo paese castello parco palazzo esterno antico collegamento anno valle\n",
            "abruzzo anno primo parco storico centro castello noto grande situare\n",
            "anno antico centro primo facciata teramo portale storico opera palazzo\n",
            "stazione anno paese primo castello centro nuovo valle edificio torre\n",
            "antico centro paese anno castello primo borgo museo abruzzo valle\n"
          ]
        }
      ],
      "source": [
        "import pandas as pd\n",
        "\n",
        "for t in model_output_TD['topics']:\n",
        "  print(\" \".join(t))\n",
        "\n",
        "topics = pd.DataFrame(model_output_TD['topics'])\n",
        "topics.to_excel(risultati_TD + r'\\topics.xlsx', index=False)"
      ]
    },
    {
      "cell_type": "code",
      "execution_count": 29,
      "metadata": {
        "id": "e2Xe1-_W1IDB"
      },
      "outputs": [],
      "source": [
        "vocabolario = []\n",
        "with open('../datasetNostriPOI/dataset_LDA_zipf/vocabulary.txt', 'r', encoding='utf-8') as file:\n",
        "    for word in file:\n",
        "        vocabolario.append(word)\n"
      ]
    },
    {
      "cell_type": "code",
      "execution_count": 32,
      "metadata": {
        "id": "nIklA4Ij1IDB"
      },
      "outputs": [
        {
          "name": "stdout",
          "output_type": "stream",
          "text": [
            "                         0             1             2             3   \n",
            "aas\\n         2.929709e-04  2.798155e-04  5.105260e-04  3.934858e-04  \\\n",
            "aavv\\n        3.006485e-05  1.294896e-05  2.154045e-05  2.726271e-05   \n",
            "aba\\n         1.977526e-05  1.812946e-05  1.568843e-05  1.444660e-05   \n",
            "abaco\\n       8.008343e-05  1.097989e-04  5.351538e-05  1.897432e-04   \n",
            "abacucre\\n    1.737983e-04  2.111978e-04  2.251752e-04  2.570481e-04   \n",
            "...                    ...           ...           ...           ...   \n",
            "vibrazione\\n  9.978583e-07  4.108640e-07  2.529775e-07  3.769091e-07   \n",
            "vibrazioni\\n  9.978583e-07  4.108640e-07  2.529775e-07  3.769091e-07   \n",
            "viburno\\n     1.038853e-06  4.079670e-07  2.485970e-07  3.763760e-07   \n",
            "viburnum\\n    1.038853e-06  4.079670e-07  2.485970e-07  3.763760e-07   \n",
            "vibus\\n       1.038853e-06  4.079670e-07  2.485970e-07  3.763760e-07   \n",
            "\n",
            "                         4  \n",
            "aas\\n         3.080914e-04  \n",
            "aavv\\n        2.598135e-05  \n",
            "aba\\n         1.491455e-05  \n",
            "abaco\\n       2.827586e-04  \n",
            "abacucre\\n    2.037615e-04  \n",
            "...                    ...  \n",
            "vibrazione\\n  4.662853e-07  \n",
            "vibrazioni\\n  4.662853e-07  \n",
            "viburno\\n     4.662853e-07  \n",
            "viburnum\\n    4.662853e-07  \n",
            "vibus\\n       4.662853e-07  \n",
            "\n",
            "[65372 rows x 5 columns]\n"
          ]
        }
      ],
      "source": [
        "# Carica la matrice topic-word in un DataFrame pandas\n",
        "topic_word_matrix = pd.DataFrame(model_output_TD['topic-word-matrix'])\n",
        "\n",
        "# Imposta i nomi delle colonne come parole\n",
        "\n",
        "# Ottieni i primi k termini da ciascuna riga come nomi di colonna\n",
        "topic_word_matrix.columns = [vocabolario[i] for i in range(topic_word_matrix.shape[1])]\n",
        "\n",
        "# inverto il colonne e righe\n",
        "inverted_topic_word_matrix = topic_word_matrix.transpose()\n",
        "\n",
        "# Stampa il DataFrame\n",
        "print(inverted_topic_word_matrix)\n",
        "\n",
        "inverted_topic_word_matrix.to_excel('../risultati/NostriPOI/LDA/results_td/topic_word_matrix.xlsx', index=False)"
      ]
    },
    {
      "cell_type": "code",
      "execution_count": 33,
      "metadata": {
        "id": "69k9F6es1IDB"
      },
      "outputs": [],
      "source": [
        "import pandas as pd\n",
        "\n",
        "corpus_processed = pd.read_csv(r'../datasetNostriPOI/dataset_LDA_zipf/corpus.tsv', sep='\\t', header=None)\n",
        "corpus_processed\n",
        "new_df = pd.DataFrame(corpus_processed[0])"
      ]
    },
    {
      "cell_type": "code",
      "execution_count": 34,
      "metadata": {
        "id": "IGkTu7BWPYOO"
      },
      "outputs": [
        {
          "data": {
            "text/plain": [
              "array([[3.25102708e-04, 4.29754378e-03, 2.60730478e-04, ...,\n",
              "        1.76678368e-04, 1.01315401e-01, 5.74399233e-01],\n",
              "       [3.25102679e-04, 3.86359694e-04, 2.60730478e-04, ...,\n",
              "        1.76678368e-04, 1.86262536e-04, 6.01807435e-04],\n",
              "       [3.25102679e-04, 1.36814281e-01, 9.25914347e-01, ...,\n",
              "        9.99293327e-01, 8.98125827e-01, 6.01807435e-04],\n",
              "       [9.98699605e-01, 3.86359723e-04, 7.33034536e-02, ...,\n",
              "        1.76678368e-04, 1.86262536e-04, 6.01807493e-04],\n",
              "       [3.25102679e-04, 8.58115435e-01, 2.60730478e-04, ...,\n",
              "        1.76678368e-04, 1.86262536e-04, 4.23795342e-01]])"
            ]
          },
          "execution_count": 34,
          "metadata": {},
          "output_type": "execute_result"
        }
      ],
      "source": [
        "model_output_TD['topic-document-matrix']"
      ]
    },
    {
      "cell_type": "code",
      "execution_count": 35,
      "metadata": {
        "id": "GmmdxF3uPwp5"
      },
      "outputs": [
        {
          "name": "stdout",
          "output_type": "stream",
          "text": [
            "[3.25102708e-04 4.29754378e-03 2.60730478e-04 ... 1.76678368e-04\n",
            " 1.01315401e-01 5.74399233e-01]\n",
            "[0.0003251  0.00038636 0.00026073 ... 0.00017668 0.00018626 0.00060181]\n",
            "[3.25102679e-04 1.36814281e-01 9.25914347e-01 ... 9.99293327e-01\n",
            " 8.98125827e-01 6.01807435e-04]\n",
            "[9.98699605e-01 3.86359723e-04 7.33034536e-02 ... 1.76678368e-04\n",
            " 1.86262536e-04 6.01807493e-04]\n",
            "[3.25102679e-04 8.58115435e-01 2.60730478e-04 ... 1.76678368e-04\n",
            " 1.86262536e-04 4.23795342e-01]\n"
          ]
        }
      ],
      "source": [
        "for topic in model_output_TD['topic-document-matrix']:\n",
        "  print(topic)"
      ]
    },
    {
      "cell_type": "code",
      "execution_count": 36,
      "metadata": {
        "id": "MXqOAnRt1IDB"
      },
      "outputs": [
        {
          "data": {
            "text/html": [
              "<div>\n",
              "<style scoped>\n",
              "    .dataframe tbody tr th:only-of-type {\n",
              "        vertical-align: middle;\n",
              "    }\n",
              "\n",
              "    .dataframe tbody tr th {\n",
              "        vertical-align: top;\n",
              "    }\n",
              "\n",
              "    .dataframe thead th {\n",
              "        text-align: right;\n",
              "    }\n",
              "</style>\n",
              "<table border=\"1\" class=\"dataframe\">\n",
              "  <thead>\n",
              "    <tr style=\"text-align: right;\">\n",
              "      <th></th>\n",
              "      <th>0</th>\n",
              "      <th>1</th>\n",
              "      <th>2</th>\n",
              "      <th>3</th>\n",
              "      <th>4</th>\n",
              "      <th>5</th>\n",
              "    </tr>\n",
              "  </thead>\n",
              "  <tbody>\n",
              "    <tr>\n",
              "      <th>0</th>\n",
              "      <td>stazione acquasparta stazione ferroviario serv...</td>\n",
              "      <td>0.000325</td>\n",
              "      <td>0.000325</td>\n",
              "      <td>0.000325</td>\n",
              "      <td>0.998700</td>\n",
              "      <td>0.000325</td>\n",
              "    </tr>\n",
              "    <tr>\n",
              "      <th>1</th>\n",
              "      <td>scoppio frazione disabitato acquasparta sire c...</td>\n",
              "      <td>0.004298</td>\n",
              "      <td>0.000386</td>\n",
              "      <td>0.136814</td>\n",
              "      <td>0.000386</td>\n",
              "      <td>0.858115</td>\n",
              "    </tr>\n",
              "    <tr>\n",
              "      <th>2</th>\n",
              "      <td>cecilia parrocchiale acquasparta provincia ter...</td>\n",
              "      <td>0.000261</td>\n",
              "      <td>0.000261</td>\n",
              "      <td>0.925914</td>\n",
              "      <td>0.073303</td>\n",
              "      <td>0.000261</td>\n",
              "    </tr>\n",
              "    <tr>\n",
              "      <th>3</th>\n",
              "      <td>palazzo cese situare luogo antico rocca acquas...</td>\n",
              "      <td>0.000187</td>\n",
              "      <td>0.752016</td>\n",
              "      <td>0.247422</td>\n",
              "      <td>0.000187</td>\n",
              "      <td>0.000187</td>\n",
              "    </tr>\n",
              "    <tr>\n",
              "      <th>4</th>\n",
              "      <td>acquasparto italiano abitante provincia terno ...</td>\n",
              "      <td>0.102861</td>\n",
              "      <td>0.820087</td>\n",
              "      <td>0.000185</td>\n",
              "      <td>0.039203</td>\n",
              "      <td>0.037664</td>\n",
              "    </tr>\n",
              "    <tr>\n",
              "      <th>...</th>\n",
              "      <td>...</td>\n",
              "      <td>...</td>\n",
              "      <td>...</td>\n",
              "      <td>...</td>\n",
              "      <td>...</td>\n",
              "      <td>...</td>\n",
              "    </tr>\n",
              "    <tr>\n",
              "      <th>3136</th>\n",
              "      <td>costantinopoli sire piazza rocco dire localmen...</td>\n",
              "      <td>0.000389</td>\n",
              "      <td>0.000389</td>\n",
              "      <td>0.998444</td>\n",
              "      <td>0.000389</td>\n",
              "      <td>0.000389</td>\n",
              "    </tr>\n",
              "    <tr>\n",
              "      <th>3137</th>\n",
              "      <td>saneustachio sire scanno provincia aquila inti...</td>\n",
              "      <td>0.000202</td>\n",
              "      <td>0.000202</td>\n",
              "      <td>0.999193</td>\n",
              "      <td>0.000202</td>\n",
              "      <td>0.000202</td>\n",
              "    </tr>\n",
              "    <tr>\n",
              "      <th>3138</th>\n",
              "      <td>rocco dire carmine scanno provincia aquila sto...</td>\n",
              "      <td>0.000177</td>\n",
              "      <td>0.000177</td>\n",
              "      <td>0.999293</td>\n",
              "      <td>0.000177</td>\n",
              "      <td>0.000177</td>\n",
              "    </tr>\n",
              "    <tr>\n",
              "      <th>3139</th>\n",
              "      <td>palazzo rienzo sire scanno provincia aquila pa...</td>\n",
              "      <td>0.101315</td>\n",
              "      <td>0.000186</td>\n",
              "      <td>0.898126</td>\n",
              "      <td>0.000186</td>\n",
              "      <td>0.000186</td>\n",
              "    </tr>\n",
              "    <tr>\n",
              "      <th>3140</th>\n",
              "      <td>giove appartenere subappennino teramare provin...</td>\n",
              "      <td>0.574399</td>\n",
              "      <td>0.000602</td>\n",
              "      <td>0.000602</td>\n",
              "      <td>0.000602</td>\n",
              "      <td>0.423795</td>\n",
              "    </tr>\n",
              "  </tbody>\n",
              "</table>\n",
              "<p>3141 rows × 6 columns</p>\n",
              "</div>"
            ],
            "text/plain": [
              "                                                      0         1         2   \n",
              "0     stazione acquasparta stazione ferroviario serv...  0.000325  0.000325  \\\n",
              "1     scoppio frazione disabitato acquasparta sire c...  0.004298  0.000386   \n",
              "2     cecilia parrocchiale acquasparta provincia ter...  0.000261  0.000261   \n",
              "3     palazzo cese situare luogo antico rocca acquas...  0.000187  0.752016   \n",
              "4     acquasparto italiano abitante provincia terno ...  0.102861  0.820087   \n",
              "...                                                 ...       ...       ...   \n",
              "3136  costantinopoli sire piazza rocco dire localmen...  0.000389  0.000389   \n",
              "3137  saneustachio sire scanno provincia aquila inti...  0.000202  0.000202   \n",
              "3138  rocco dire carmine scanno provincia aquila sto...  0.000177  0.000177   \n",
              "3139  palazzo rienzo sire scanno provincia aquila pa...  0.101315  0.000186   \n",
              "3140  giove appartenere subappennino teramare provin...  0.574399  0.000602   \n",
              "\n",
              "             3         4         5  \n",
              "0     0.000325  0.998700  0.000325  \n",
              "1     0.136814  0.000386  0.858115  \n",
              "2     0.925914  0.073303  0.000261  \n",
              "3     0.247422  0.000187  0.000187  \n",
              "4     0.000185  0.039203  0.037664  \n",
              "...        ...       ...       ...  \n",
              "3136  0.998444  0.000389  0.000389  \n",
              "3137  0.999193  0.000202  0.000202  \n",
              "3138  0.999293  0.000177  0.000177  \n",
              "3139  0.898126  0.000186  0.000186  \n",
              "3140  0.000602  0.000602  0.423795  \n",
              "\n",
              "[3141 rows x 6 columns]"
            ]
          },
          "execution_count": 36,
          "metadata": {},
          "output_type": "execute_result"
        }
      ],
      "source": [
        "num = 1\n",
        "for topic in model_output_TD['topic-document-matrix']:\n",
        "  for i in range(0,len(topic)):\n",
        "    new_df.loc[i,num] = topic[i]\n",
        "  num = num+1\n",
        "new_df"
      ]
    },
    {
      "cell_type": "code",
      "execution_count": 37,
      "metadata": {
        "id": "ZWpABNPo1IDB"
      },
      "outputs": [],
      "source": [
        "# la salvo\n",
        "new_df.to_excel('../risultati/NostriPOI/LDA/results_td/topic-document-matrix.xlsx', index=False)"
      ]
    },
    {
      "cell_type": "code",
      "execution_count": 38,
      "metadata": {
        "colab": {
          "base_uri": "https://localhost:8080/"
        },
        "id": "hXqD3JAQ1IDC",
        "outputId": "19e3679b-7874-4940-f936-d6ed5d222fc6"
      },
      "outputs": [
        {
          "name": "stdout",
          "output_type": "stream",
          "text": [
            "Topic diversity: 0.52\n",
            "Coherence: -0.0034062730436794767\n"
          ]
        }
      ],
      "source": [
        "# Retrieve metrics score\n",
        "topic_diversity_score = topic_diversity.score(model_output_TD)\n",
        "print(\"Topic diversity: \"+str(topic_diversity_score))\n",
        "\n",
        "npmi_score = npmi.score(model_output_TD)\n",
        "print(\"Coherence: \"+str(npmi_score))"
      ]
    },
    {
      "cell_type": "markdown",
      "metadata": {
        "id": "qQN-URqr1IDC"
      },
      "source": [
        "### Topic Coherence"
      ]
    },
    {
      "cell_type": "code",
      "execution_count": 39,
      "metadata": {
        "colab": {
          "base_uri": "https://localhost:8080/",
          "height": 497
        },
        "id": "Yq7h5PQM1IDC",
        "outputId": "3afac877-160e-4ccb-f872-3b59fbe38a3c"
      },
      "outputs": [
        {
          "name": "stdout",
          "output_type": "stream",
          "text": [
            "Current call:  0\n",
            "Current call:  1\n",
            "Current call:  2\n",
            "Current call:  3\n",
            "Current call:  4\n",
            "Current call:  5\n",
            "Current call:  6\n",
            "Current call:  7\n",
            "Current call:  8\n",
            "Current call:  9\n",
            "Current call:  10\n",
            "Current call:  11\n",
            "Current call:  12\n",
            "Current call:  13\n",
            "Current call:  14\n",
            "Current call:  15\n",
            "Current call:  16\n",
            "Current call:  17\n",
            "Current call:  18\n",
            "Current call:  19\n",
            "Current call:  20\n",
            "Current call:  21\n",
            "Current call:  22\n",
            "Current call:  23\n",
            "Current call:  24\n",
            "Current call:  25\n",
            "Current call:  26\n",
            "Current call:  27\n",
            "Current call:  28\n",
            "Current call:  29\n"
          ]
        }
      ],
      "source": [
        "# Define the search space. To see which hyperparameters to optimize, see the topic model's initialization signature\n",
        "search_space = {\"alpha\": Real(low=0.001, high=5.0), \"eta\": Real(low=0.001, high=5.0), \"num_topics\": Integer(low=5, high=15)}\n",
        "\n",
        "# Initialize an optimizer object and start the optimization.\n",
        "optimizer=Optimizer()\n",
        "optResult=optimizer.optimize(model, dataset, npmi, search_space, save_path= risultati_npmi, # path to store the results\n",
        "                             number_of_call=30, # number of optimization iterations\n",
        "                             model_runs=5,save_models=False) # number of runs of the topic model\n"
      ]
    },
    {
      "cell_type": "code",
      "execution_count": 41,
      "metadata": {
        "id": "t2jctgCPo3ZM"
      },
      "outputs": [],
      "source": [
        "#save the results of th optimization in a csv file\n",
        "optResult.save_to_csv(\"../risultati/NostriPOI/LDA/results_npmi/result_npmi.csv\")"
      ]
    },
    {
      "cell_type": "code",
      "execution_count": 42,
      "metadata": {
        "colab": {
          "base_uri": "https://localhost:8080/"
        },
        "id": "3YUPoX2O1IDD",
        "outputId": "52f47f54-56b0-49cd-fd1a-95864ae09ace"
      },
      "outputs": [
        {
          "data": {
            "text/plain": [
              "dict_keys(['dataset_name', 'dataset_path', 'is_cached', 'kernel', 'acq_func', 'surrogate_model', 'optimization_type', 'model_runs', 'save_models', 'save_step', 'save_name', 'save_path', 'early_stop', 'early_step', 'plot_model', 'plot_best_seen', 'plot_name', 'log_scale_plot', 'search_space', 'model_name', 'model_attributes', 'use_partitioning', 'metric_name', 'extra_metric_names', 'metric_attributes', 'extra_metric_attributes', 'current_call', 'number_of_call', 'random_state', 'x0', 'y0', 'n_random_starts', 'initial_point_generator', 'topk', 'time_eval', 'dict_model_runs', 'f_val', 'x_iters'])"
            ]
          },
          "execution_count": 42,
          "metadata": {},
          "output_type": "execute_result"
        }
      ],
      "source": [
        "import json\n",
        "res = json.load(open(\"../risultati/NostriPOI/LDA/results_npmi/result.json\",'r'))\n",
        "res.keys()"
      ]
    },
    {
      "cell_type": "code",
      "execution_count": 43,
      "metadata": {
        "colab": {
          "base_uri": "https://localhost:8080/"
        },
        "id": "DUwVrD8C1IDD",
        "outputId": "e6ae06b1-3d0b-40e1-e033-ac60cc9066c2"
      },
      "outputs": [
        {
          "name": "stdout",
          "output_type": "stream",
          "text": [
            "Valore migliore di Topic Coherence ottenuto: \n",
            "0.0084841240732935\n",
            "Numero di iterazione: \n",
            "17\n",
            "Valore di alpha:\n",
            "0.14078484605497166\n",
            "Valore di eta:\n",
            "4.893753716997072\n",
            "Numero di topic:\n",
            "14\n"
          ]
        }
      ],
      "source": [
        "# valuto qual è l'iterazione migliore\n",
        "print(\"Valore migliore di Topic Coherence ottenuto: \" )\n",
        "print(max(res[\"f_val\"]))\n",
        "print(\"Numero di iterazione: \")\n",
        "i = 0\n",
        "for j in res[\"f_val\"]:\n",
        "  if(j == max(res[\"f_val\"])):\n",
        "    i += 1\n",
        "    print(i)\n",
        "    break\n",
        "  else:\n",
        "    i += 1\n",
        "alpha = res['x_iters']['alpha'][i-1]\n",
        "eta = res['x_iters']['eta'][i-1]\n",
        "topic = res['x_iters']['num_topics'][i-1]\n",
        "print(\"Valore di alpha:\")\n",
        "print(alpha)\n",
        "print(\"Valore di eta:\")\n",
        "print(eta)\n",
        "print(\"Numero di topic:\")\n",
        "print(topic)"
      ]
    },
    {
      "cell_type": "code",
      "execution_count": 44,
      "metadata": {
        "id": "O_wm2CXT1IDD"
      },
      "outputs": [],
      "source": [
        "# Create Model\n",
        "model_npmi = LDA(num_topics= topic, alpha= alpha, eta= eta)\n",
        "model_npmi.partitioning(False)"
      ]
    },
    {
      "cell_type": "code",
      "execution_count": 45,
      "metadata": {
        "colab": {
          "base_uri": "https://localhost:8080/"
        },
        "id": "n0-oyr2d1IDD",
        "outputId": "3dc4269e-4cb1-4e44-ed4d-6ec8e63dbe74"
      },
      "outputs": [],
      "source": [
        "model_output_npmi = model_npmi.train_model(dataset)"
      ]
    },
    {
      "cell_type": "code",
      "execution_count": 46,
      "metadata": {
        "id": "fJZ9SkMGpLhU"
      },
      "outputs": [],
      "source": [
        "import pandas as pd"
      ]
    },
    {
      "cell_type": "code",
      "execution_count": 48,
      "metadata": {
        "colab": {
          "base_uri": "https://localhost:8080/"
        },
        "id": "ncNMRUzJ1IDE",
        "outputId": "37200e55-069b-44d3-928c-595ca2a6fd32"
      },
      "outputs": [
        {
          "name": "stdout",
          "output_type": "stream",
          "text": [
            "primo paese centro antico castello anno contenere alto piccolo luogo\n",
            "anno castello paese valle primo romano alcuno antico lungo affresco\n",
            "castello provincia anno primo centro mandamento storico paese costruire storia\n",
            "primo centro castello anno paese palazzo storico antico italiano famiglia\n",
            "paese anno castello primo antico torre grande alcuno opera centro\n",
            "anno primo paese abruzzo castello antico centro teramo facciata tre\n",
            "anno primo paese museo noto antico centro spoleto storia italiano\n",
            "parco valle naturale area riserva abruzzo lago provincia castello situare\n",
            "castello primo paese anno centro antico noto alcuno romano opera\n",
            "primo anno antico castello paese lungo alcuno lago abitante altare\n",
            "anno primo lago spoleto opera storia castello alcuno stazione antico\n",
            "centro anno antico primo abruzzo storico nuovo strada romano paese\n",
            "museo primo anno centro abruzzo antico storico archeologico paese borgo\n",
            "anno castello antico primo alcuno molto paese progetto immagine storia\n"
          ]
        }
      ],
      "source": [
        "for t in model_output_npmi['topics']:\n",
        "  print(\" \".join(t))\n",
        "\n",
        "topics = pd.DataFrame(model_output_npmi['topics'])\n",
        "topics.to_excel('../risultati/NostriPOI/LDA/results_npmi/topics.xlsx', index=False)"
      ]
    },
    {
      "cell_type": "code",
      "execution_count": 52,
      "metadata": {
        "colab": {
          "base_uri": "https://localhost:8080/",
          "height": 1000
        },
        "id": "FQyyo5g-1IDE",
        "outputId": "61dc2e40-fc56-4fe4-f5ca-396061f5e3c6"
      },
      "outputs": [
        {
          "name": "stdout",
          "output_type": "stream",
          "text": [
            "       aas\\n    aavv\\n     aba\\n   abaco\\n  abacucre\\n  abamonte\\n  abamore\\n   \n",
            "0   0.000035  0.000016  0.000018  0.000026    0.000026    0.000045   0.000016  \\\n",
            "1   0.000041  0.000016  0.000017  0.000020    0.000027    0.000053   0.000016   \n",
            "2   0.000038  0.000016  0.000019  0.000022    0.000036    0.000070   0.000017   \n",
            "3   0.000034  0.000017  0.000016  0.000020    0.000027    0.000056   0.000016   \n",
            "4   0.000045  0.000016  0.000019  0.000026    0.000041    0.000066   0.000018   \n",
            "5   0.000333  0.000018  0.000007  0.000067    0.000183    0.000364   0.000031   \n",
            "6   0.000050  0.000016  0.000018  0.000024    0.000033    0.000052   0.000018   \n",
            "7   0.000046  0.000016  0.000017  0.000026    0.000028    0.000191   0.000014   \n",
            "8   0.000044  0.000016  0.000021  0.000023    0.000030    0.000056   0.000017   \n",
            "9   0.000047  0.000016  0.000018  0.000022    0.000033    0.000092   0.000019   \n",
            "10  0.000034  0.000016  0.000017  0.000021    0.000027    0.000048   0.000018   \n",
            "11  0.000140  0.000022  0.000012  0.000158    0.000096    0.000162   0.000044   \n",
            "12  0.000078  0.000016  0.000017  0.000026    0.000041    0.000074   0.000018   \n",
            "13  0.000043  0.000015  0.000017  0.000018    0.000039    0.000077   0.000016   \n",
            "\n",
            "     abare\\n    abas\\n   abase\\n  ...  vibratella\\n  vibratiano\\n  vibrato\\n   \n",
            "0   0.000026  0.000020  0.000034  ...      0.000014      0.000014   0.000014  \\\n",
            "1   0.000019  0.000016  0.000028  ...      0.000014      0.000014   0.000014   \n",
            "2   0.000019  0.000016  0.000033  ...      0.000014      0.000014   0.000014   \n",
            "3   0.000021  0.000015  0.000025  ...      0.000014      0.000014   0.000014   \n",
            "4   0.000019  0.000017  0.000019  ...      0.000014      0.000014   0.000014   \n",
            "5   0.000138  0.000034  0.000225  ...      0.000006      0.000006   0.000006   \n",
            "6   0.000023  0.000020  0.000046  ...      0.000014      0.000014   0.000014   \n",
            "7   0.000019  0.000017  0.000032  ...      0.000011      0.000011   0.000011   \n",
            "8   0.000028  0.000019  0.000065  ...      0.000014      0.000014   0.000014   \n",
            "9   0.000028  0.000017  0.000042  ...      0.000014      0.000014   0.000014   \n",
            "10  0.000021  0.000018  0.000064  ...      0.000014      0.000014   0.000014   \n",
            "11  0.000071  0.000128  0.000170  ...      0.000008      0.000008   0.000008   \n",
            "12  0.000024  0.000016  0.000039  ...      0.000013      0.000013   0.000013   \n",
            "13  0.000022  0.000015  0.000020  ...      0.000014      0.000014   0.000014   \n",
            "\n",
            "    vibratore\\n  vibratorio\\n  vibrazione\\n  vibrazioni\\n  viburno\\n   \n",
            "0      0.000014      0.000014      0.000014      0.000014   0.000014  \\\n",
            "1      0.000014      0.000014      0.000014      0.000014   0.000014   \n",
            "2      0.000014      0.000014      0.000014      0.000014   0.000014   \n",
            "3      0.000014      0.000014      0.000014      0.000014   0.000014   \n",
            "4      0.000014      0.000014      0.000014      0.000014   0.000014   \n",
            "5      0.000006      0.000006      0.000006      0.000006   0.000006   \n",
            "6      0.000014      0.000014      0.000014      0.000014   0.000014   \n",
            "7      0.000011      0.000011      0.000011      0.000011   0.000011   \n",
            "8      0.000014      0.000014      0.000014      0.000014   0.000014   \n",
            "9      0.000014      0.000014      0.000014      0.000014   0.000014   \n",
            "10     0.000014      0.000014      0.000014      0.000014   0.000014   \n",
            "11     0.000008      0.000008      0.000008      0.000008   0.000008   \n",
            "12     0.000013      0.000013      0.000013      0.000013   0.000013   \n",
            "13     0.000014      0.000014      0.000014      0.000014   0.000014   \n",
            "\n",
            "    viburnum\\n   vibus\\n  \n",
            "0     0.000014  0.000014  \n",
            "1     0.000014  0.000014  \n",
            "2     0.000014  0.000014  \n",
            "3     0.000014  0.000014  \n",
            "4     0.000014  0.000014  \n",
            "5     0.000006  0.000006  \n",
            "6     0.000014  0.000014  \n",
            "7     0.000011  0.000011  \n",
            "8     0.000014  0.000014  \n",
            "9     0.000014  0.000014  \n",
            "10    0.000014  0.000014  \n",
            "11    0.000008  0.000008  \n",
            "12    0.000013  0.000013  \n",
            "13    0.000014  0.000014  \n",
            "\n",
            "[14 rows x 65372 columns]\n",
            "                    0         1         2         3         4         5    \n",
            "aas\\n         0.000035  0.000041  0.000038  0.000034  0.000045  0.000333  \\\n",
            "aavv\\n        0.000016  0.000016  0.000016  0.000017  0.000016  0.000018   \n",
            "aba\\n         0.000018  0.000017  0.000019  0.000016  0.000019  0.000007   \n",
            "abaco\\n       0.000026  0.000020  0.000022  0.000020  0.000026  0.000067   \n",
            "abacucre\\n    0.000026  0.000027  0.000036  0.000027  0.000041  0.000183   \n",
            "...                ...       ...       ...       ...       ...       ...   \n",
            "vibrazione\\n  0.000014  0.000014  0.000014  0.000014  0.000014  0.000006   \n",
            "vibrazioni\\n  0.000014  0.000014  0.000014  0.000014  0.000014  0.000006   \n",
            "viburno\\n     0.000014  0.000014  0.000014  0.000014  0.000014  0.000006   \n",
            "viburnum\\n    0.000014  0.000014  0.000014  0.000014  0.000014  0.000006   \n",
            "vibus\\n       0.000014  0.000014  0.000014  0.000014  0.000014  0.000006   \n",
            "\n",
            "                    6         7         8         9         10        11   \n",
            "aas\\n         0.000050  0.000046  0.000044  0.000047  0.000034  0.000140  \\\n",
            "aavv\\n        0.000016  0.000016  0.000016  0.000016  0.000016  0.000022   \n",
            "aba\\n         0.000018  0.000017  0.000021  0.000018  0.000017  0.000012   \n",
            "abaco\\n       0.000024  0.000026  0.000023  0.000022  0.000021  0.000158   \n",
            "abacucre\\n    0.000033  0.000028  0.000030  0.000033  0.000027  0.000096   \n",
            "...                ...       ...       ...       ...       ...       ...   \n",
            "vibrazione\\n  0.000014  0.000011  0.000014  0.000014  0.000014  0.000008   \n",
            "vibrazioni\\n  0.000014  0.000011  0.000014  0.000014  0.000014  0.000008   \n",
            "viburno\\n     0.000014  0.000011  0.000014  0.000014  0.000014  0.000008   \n",
            "viburnum\\n    0.000014  0.000011  0.000014  0.000014  0.000014  0.000008   \n",
            "vibus\\n       0.000014  0.000011  0.000014  0.000014  0.000014  0.000008   \n",
            "\n",
            "                    12        13  \n",
            "aas\\n         0.000078  0.000043  \n",
            "aavv\\n        0.000016  0.000015  \n",
            "aba\\n         0.000017  0.000017  \n",
            "abaco\\n       0.000026  0.000018  \n",
            "abacucre\\n    0.000041  0.000039  \n",
            "...                ...       ...  \n",
            "vibrazione\\n  0.000013  0.000014  \n",
            "vibrazioni\\n  0.000013  0.000014  \n",
            "viburno\\n     0.000013  0.000014  \n",
            "viburnum\\n    0.000013  0.000014  \n",
            "vibus\\n       0.000013  0.000014  \n",
            "\n",
            "[65372 rows x 14 columns]\n"
          ]
        }
      ],
      "source": [
        "# Carica la matrice topic-word in un DataFrame pandas\n",
        "topic_word_matrix = pd.DataFrame(model_output_npmi['topic-word-matrix'])\n",
        "\n",
        "# Imposta i nomi delle colonne come parole\n",
        "\n",
        "# Ottieni i primi k termini da ciascuna riga come nomi di colonna\n",
        "topic_word_matrix.columns = [vocabolario[i] for i in range(topic_word_matrix.shape[1])]\n",
        "\n",
        "# Stampa il DataFrame\n",
        "print(topic_word_matrix)\n",
        "\n",
        "# inverto il colonne e righe\n",
        "inverted_topic_word_matrix = topic_word_matrix.transpose()\n",
        "\n",
        "# Stampa il DataFrame\n",
        "print(inverted_topic_word_matrix)\n",
        "\n",
        "\n",
        "inverted_topic_word_matrix.to_excel('../risultati/NostriPOI/LDA/results_npmi/topic_word_matrix.xlsx', index=False)"
      ]
    },
    {
      "cell_type": "code",
      "execution_count": 53,
      "metadata": {
        "colab": {
          "base_uri": "https://localhost:8080/",
          "height": 1000
        },
        "id": "Sd-slXIF1IDE",
        "outputId": "62883254-3190-4d32-fdf5-294cb02caa29"
      },
      "outputs": [
        {
          "data": {
            "text/html": [
              "<div>\n",
              "<style scoped>\n",
              "    .dataframe tbody tr th:only-of-type {\n",
              "        vertical-align: middle;\n",
              "    }\n",
              "\n",
              "    .dataframe tbody tr th {\n",
              "        vertical-align: top;\n",
              "    }\n",
              "\n",
              "    .dataframe thead th {\n",
              "        text-align: right;\n",
              "    }\n",
              "</style>\n",
              "<table border=\"1\" class=\"dataframe\">\n",
              "  <thead>\n",
              "    <tr style=\"text-align: right;\">\n",
              "      <th></th>\n",
              "      <th>0</th>\n",
              "      <th>1</th>\n",
              "      <th>2</th>\n",
              "      <th>3</th>\n",
              "      <th>4</th>\n",
              "      <th>5</th>\n",
              "      <th>6</th>\n",
              "      <th>7</th>\n",
              "      <th>8</th>\n",
              "      <th>9</th>\n",
              "      <th>10</th>\n",
              "      <th>11</th>\n",
              "      <th>12</th>\n",
              "      <th>13</th>\n",
              "      <th>14</th>\n",
              "    </tr>\n",
              "  </thead>\n",
              "  <tbody>\n",
              "    <tr>\n",
              "      <th>0</th>\n",
              "      <td>stazione acquasparta stazione ferroviario serv...</td>\n",
              "      <td>0.000888</td>\n",
              "      <td>0.000888</td>\n",
              "      <td>0.000888</td>\n",
              "      <td>0.000888</td>\n",
              "      <td>0.000888</td>\n",
              "      <td>0.988451</td>\n",
              "      <td>0.000888</td>\n",
              "      <td>0.000889</td>\n",
              "      <td>0.000888</td>\n",
              "      <td>0.000888</td>\n",
              "      <td>0.000888</td>\n",
              "      <td>0.000890</td>\n",
              "      <td>0.000888</td>\n",
              "      <td>0.000888</td>\n",
              "    </tr>\n",
              "    <tr>\n",
              "      <th>1</th>\n",
              "      <td>scoppio frazione disabitato acquasparta sire c...</td>\n",
              "      <td>0.001020</td>\n",
              "      <td>0.001020</td>\n",
              "      <td>0.001020</td>\n",
              "      <td>0.001020</td>\n",
              "      <td>0.001020</td>\n",
              "      <td>0.986738</td>\n",
              "      <td>0.001020</td>\n",
              "      <td>0.001021</td>\n",
              "      <td>0.001020</td>\n",
              "      <td>0.001020</td>\n",
              "      <td>0.001020</td>\n",
              "      <td>0.001021</td>\n",
              "      <td>0.001020</td>\n",
              "      <td>0.001020</td>\n",
              "    </tr>\n",
              "    <tr>\n",
              "      <th>2</th>\n",
              "      <td>cecilia parrocchiale acquasparta provincia ter...</td>\n",
              "      <td>0.000703</td>\n",
              "      <td>0.000703</td>\n",
              "      <td>0.000704</td>\n",
              "      <td>0.000703</td>\n",
              "      <td>0.000704</td>\n",
              "      <td>0.990853</td>\n",
              "      <td>0.000704</td>\n",
              "      <td>0.000704</td>\n",
              "      <td>0.000703</td>\n",
              "      <td>0.000704</td>\n",
              "      <td>0.000703</td>\n",
              "      <td>0.000704</td>\n",
              "      <td>0.000704</td>\n",
              "      <td>0.000703</td>\n",
              "    </tr>\n",
              "    <tr>\n",
              "      <th>3</th>\n",
              "      <td>palazzo cese situare luogo antico rocca acquas...</td>\n",
              "      <td>0.000507</td>\n",
              "      <td>0.000507</td>\n",
              "      <td>0.000507</td>\n",
              "      <td>0.000507</td>\n",
              "      <td>0.000507</td>\n",
              "      <td>0.993413</td>\n",
              "      <td>0.000507</td>\n",
              "      <td>0.000507</td>\n",
              "      <td>0.000507</td>\n",
              "      <td>0.000507</td>\n",
              "      <td>0.000507</td>\n",
              "      <td>0.000507</td>\n",
              "      <td>0.000507</td>\n",
              "      <td>0.000507</td>\n",
              "    </tr>\n",
              "    <tr>\n",
              "      <th>4</th>\n",
              "      <td>acquasparto italiano abitante provincia terno ...</td>\n",
              "      <td>0.000501</td>\n",
              "      <td>0.000501</td>\n",
              "      <td>0.000501</td>\n",
              "      <td>0.000501</td>\n",
              "      <td>0.000501</td>\n",
              "      <td>0.993475</td>\n",
              "      <td>0.000501</td>\n",
              "      <td>0.000501</td>\n",
              "      <td>0.000501</td>\n",
              "      <td>0.000501</td>\n",
              "      <td>0.000501</td>\n",
              "      <td>0.000511</td>\n",
              "      <td>0.000501</td>\n",
              "      <td>0.000501</td>\n",
              "    </tr>\n",
              "    <tr>\n",
              "      <th>...</th>\n",
              "      <td>...</td>\n",
              "      <td>...</td>\n",
              "      <td>...</td>\n",
              "      <td>...</td>\n",
              "      <td>...</td>\n",
              "      <td>...</td>\n",
              "      <td>...</td>\n",
              "      <td>...</td>\n",
              "      <td>...</td>\n",
              "      <td>...</td>\n",
              "      <td>...</td>\n",
              "      <td>...</td>\n",
              "      <td>...</td>\n",
              "      <td>...</td>\n",
              "      <td>...</td>\n",
              "    </tr>\n",
              "    <tr>\n",
              "      <th>3136</th>\n",
              "      <td>costantinopoli sire piazza rocco dire localmen...</td>\n",
              "      <td>0.001030</td>\n",
              "      <td>0.001030</td>\n",
              "      <td>0.001030</td>\n",
              "      <td>0.001030</td>\n",
              "      <td>0.001030</td>\n",
              "      <td>0.986602</td>\n",
              "      <td>0.001030</td>\n",
              "      <td>0.001031</td>\n",
              "      <td>0.001030</td>\n",
              "      <td>0.001031</td>\n",
              "      <td>0.001030</td>\n",
              "      <td>0.001032</td>\n",
              "      <td>0.001031</td>\n",
              "      <td>0.001030</td>\n",
              "    </tr>\n",
              "    <tr>\n",
              "      <th>3137</th>\n",
              "      <td>saneustachio sire scanno provincia aquila inti...</td>\n",
              "      <td>0.000543</td>\n",
              "      <td>0.000543</td>\n",
              "      <td>0.000543</td>\n",
              "      <td>0.000543</td>\n",
              "      <td>0.000543</td>\n",
              "      <td>0.992937</td>\n",
              "      <td>0.000543</td>\n",
              "      <td>0.000543</td>\n",
              "      <td>0.000543</td>\n",
              "      <td>0.000543</td>\n",
              "      <td>0.000543</td>\n",
              "      <td>0.000544</td>\n",
              "      <td>0.000543</td>\n",
              "      <td>0.000543</td>\n",
              "    </tr>\n",
              "    <tr>\n",
              "      <th>3138</th>\n",
              "      <td>rocco dire carmine scanno provincia aquila sto...</td>\n",
              "      <td>0.000478</td>\n",
              "      <td>0.000478</td>\n",
              "      <td>0.000478</td>\n",
              "      <td>0.000478</td>\n",
              "      <td>0.000478</td>\n",
              "      <td>0.993780</td>\n",
              "      <td>0.000478</td>\n",
              "      <td>0.000479</td>\n",
              "      <td>0.000478</td>\n",
              "      <td>0.000478</td>\n",
              "      <td>0.000478</td>\n",
              "      <td>0.000479</td>\n",
              "      <td>0.000479</td>\n",
              "      <td>0.000478</td>\n",
              "    </tr>\n",
              "    <tr>\n",
              "      <th>3139</th>\n",
              "      <td>palazzo rienzo sire scanno provincia aquila pa...</td>\n",
              "      <td>0.000496</td>\n",
              "      <td>0.000496</td>\n",
              "      <td>0.000496</td>\n",
              "      <td>0.000496</td>\n",
              "      <td>0.000496</td>\n",
              "      <td>0.993555</td>\n",
              "      <td>0.000496</td>\n",
              "      <td>0.000496</td>\n",
              "      <td>0.000496</td>\n",
              "      <td>0.000496</td>\n",
              "      <td>0.000496</td>\n",
              "      <td>0.000497</td>\n",
              "      <td>0.000496</td>\n",
              "      <td>0.000496</td>\n",
              "    </tr>\n",
              "    <tr>\n",
              "      <th>3140</th>\n",
              "      <td>giove appartenere subappennino teramare provin...</td>\n",
              "      <td>0.001624</td>\n",
              "      <td>0.001624</td>\n",
              "      <td>0.001624</td>\n",
              "      <td>0.001624</td>\n",
              "      <td>0.001624</td>\n",
              "      <td>0.978878</td>\n",
              "      <td>0.001624</td>\n",
              "      <td>0.001626</td>\n",
              "      <td>0.001624</td>\n",
              "      <td>0.001624</td>\n",
              "      <td>0.001624</td>\n",
              "      <td>0.001628</td>\n",
              "      <td>0.001625</td>\n",
              "      <td>0.001624</td>\n",
              "    </tr>\n",
              "  </tbody>\n",
              "</table>\n",
              "<p>3141 rows × 15 columns</p>\n",
              "</div>"
            ],
            "text/plain": [
              "                                                     0         1         2    \n",
              "0     stazione acquasparta stazione ferroviario serv...  0.000888  0.000888  \\\n",
              "1     scoppio frazione disabitato acquasparta sire c...  0.001020  0.001020   \n",
              "2     cecilia parrocchiale acquasparta provincia ter...  0.000703  0.000703   \n",
              "3     palazzo cese situare luogo antico rocca acquas...  0.000507  0.000507   \n",
              "4     acquasparto italiano abitante provincia terno ...  0.000501  0.000501   \n",
              "...                                                 ...       ...       ...   \n",
              "3136  costantinopoli sire piazza rocco dire localmen...  0.001030  0.001030   \n",
              "3137  saneustachio sire scanno provincia aquila inti...  0.000543  0.000543   \n",
              "3138  rocco dire carmine scanno provincia aquila sto...  0.000478  0.000478   \n",
              "3139  palazzo rienzo sire scanno provincia aquila pa...  0.000496  0.000496   \n",
              "3140  giove appartenere subappennino teramare provin...  0.001624  0.001624   \n",
              "\n",
              "            3         4         5         6         7         8         9    \n",
              "0     0.000888  0.000888  0.000888  0.988451  0.000888  0.000889  0.000888  \\\n",
              "1     0.001020  0.001020  0.001020  0.986738  0.001020  0.001021  0.001020   \n",
              "2     0.000704  0.000703  0.000704  0.990853  0.000704  0.000704  0.000703   \n",
              "3     0.000507  0.000507  0.000507  0.993413  0.000507  0.000507  0.000507   \n",
              "4     0.000501  0.000501  0.000501  0.993475  0.000501  0.000501  0.000501   \n",
              "...        ...       ...       ...       ...       ...       ...       ...   \n",
              "3136  0.001030  0.001030  0.001030  0.986602  0.001030  0.001031  0.001030   \n",
              "3137  0.000543  0.000543  0.000543  0.992937  0.000543  0.000543  0.000543   \n",
              "3138  0.000478  0.000478  0.000478  0.993780  0.000478  0.000479  0.000478   \n",
              "3139  0.000496  0.000496  0.000496  0.993555  0.000496  0.000496  0.000496   \n",
              "3140  0.001624  0.001624  0.001624  0.978878  0.001624  0.001626  0.001624   \n",
              "\n",
              "            10        11        12        13        14  \n",
              "0     0.000888  0.000888  0.000890  0.000888  0.000888  \n",
              "1     0.001020  0.001020  0.001021  0.001020  0.001020  \n",
              "2     0.000704  0.000703  0.000704  0.000704  0.000703  \n",
              "3     0.000507  0.000507  0.000507  0.000507  0.000507  \n",
              "4     0.000501  0.000501  0.000511  0.000501  0.000501  \n",
              "...        ...       ...       ...       ...       ...  \n",
              "3136  0.001031  0.001030  0.001032  0.001031  0.001030  \n",
              "3137  0.000543  0.000543  0.000544  0.000543  0.000543  \n",
              "3138  0.000478  0.000478  0.000479  0.000479  0.000478  \n",
              "3139  0.000496  0.000496  0.000497  0.000496  0.000496  \n",
              "3140  0.001624  0.001624  0.001628  0.001625  0.001624  \n",
              "\n",
              "[3141 rows x 15 columns]"
            ]
          },
          "execution_count": 53,
          "metadata": {},
          "output_type": "execute_result"
        }
      ],
      "source": [
        "num = 1\n",
        "for topic in model_output_npmi['topic-document-matrix']:\n",
        "  for i in range(0,len(topic)):\n",
        "    new_df.loc[i,num] = topic[i]\n",
        "  num = num+1\n",
        "new_df"
      ]
    },
    {
      "cell_type": "code",
      "execution_count": null,
      "metadata": {
        "id": "aUeymKuJ1IDK"
      },
      "outputs": [],
      "source": [
        "# la salvo\n",
        "new_df.to_excel('../risultati/NostriPOI/LDA/results_npmi/topic-document-matrix.xlsx', index=False)"
      ]
    },
    {
      "cell_type": "code",
      "execution_count": null,
      "metadata": {
        "colab": {
          "base_uri": "https://localhost:8080/"
        },
        "id": "tAYNamFB1IDK",
        "outputId": "961d1558-fe52-4a04-ed1c-73b23a93fec4"
      },
      "outputs": [
        {
          "name": "stdout",
          "output_type": "stream",
          "text": [
            "Topic diversity: 0.30714285714285716\n",
            "Coherence: -0.008732089028663712\n"
          ]
        }
      ],
      "source": [
        "# Retrieve metrics score\n",
        "topic_diversity_score = topic_diversity.score(model_output_npmi)\n",
        "print(\"Topic diversity: \"+str(topic_diversity_score))\n",
        "\n",
        "npmi_score = npmi.score(model_output_npmi)\n",
        "print(\"Coherence: \"+str(npmi_score))"
      ]
    }
  ],
  "metadata": {
    "colab": {
      "provenance": []
    },
    "kernelspec": {
      "display_name": "Python 3",
      "language": "python",
      "name": "python3"
    },
    "language_info": {
      "codemirror_mode": {
        "name": "ipython",
        "version": 3
      },
      "file_extension": ".py",
      "mimetype": "text/x-python",
      "name": "python",
      "nbconvert_exporter": "python",
      "pygments_lexer": "ipython3",
      "version": "3.10.8"
    }
  },
  "nbformat": 4,
  "nbformat_minor": 0
}
