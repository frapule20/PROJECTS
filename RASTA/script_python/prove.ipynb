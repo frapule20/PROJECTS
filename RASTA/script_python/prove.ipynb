{
 "cells": [
  {
   "cell_type": "markdown",
   "metadata": {},
   "source": [
    "# Codice per effettuare delle prove"
   ]
  },
  {
   "cell_type": "code",
   "execution_count": 78,
   "metadata": {},
   "outputs": [],
   "source": [
    "import json\n",
    "\n",
    "with open('recensioni_per_location.json', 'r', encoding = 'utf-8') as file:\n",
    "    recensioni = json.load(file)\n"
   ]
  },
  {
   "cell_type": "code",
   "execution_count": 79,
   "metadata": {},
   "outputs": [
    {
     "data": {
      "text/plain": [
       "1011"
      ]
     },
     "execution_count": 79,
     "metadata": {},
     "output_type": "execute_result"
    }
   ],
   "source": [
    "len(recensioni.keys())"
   ]
  },
  {
   "cell_type": "markdown",
   "metadata": {},
   "source": [
    "Per capire quali POI sono maggiormente recensiti:"
   ]
  },
  {
   "cell_type": "code",
   "execution_count": 81,
   "metadata": {},
   "outputs": [],
   "source": [
    "# Inizializzo un dizionario vuoto per memorizzare gli ID e i nomi dei POI\n",
    "poi_dict = {}\n",
    "\n",
    "# Leggo il contenuto del file POI riga per riga\n",
    "with open('poi.txt', 'r', encoding='utf-8') as file:\n",
    "    for line in file:\n",
    "        # Divido la riga usando ': ' come separatore solo alla prima occorrenza\n",
    "        id, resto = line.strip().split(': ', 1)\n",
    "        nome = resto.split(', ')[0]\n",
    "        poi_dict[id] = nome"
   ]
  },
  {
   "cell_type": "code",
   "execution_count": 82,
   "metadata": {},
   "outputs": [
    {
     "data": {
      "text/plain": [
       "5188"
      ]
     },
     "execution_count": 82,
     "metadata": {},
     "output_type": "execute_result"
    }
   ],
   "source": [
    "len(poi_dict.keys())"
   ]
  },
  {
   "cell_type": "code",
   "execution_count": 92,
   "metadata": {},
   "outputs": [
    {
     "name": "stdout",
     "output_type": "stream",
     "text": [
      "{'13436625': 'Chiesa di Santa Cecilia', '8666261': 'Palazzo Cesi', '21223808': 'Lago Di Arezzo', '19071050': 'Frantoio Oleario Palmadori Massimo', '2016179': 'Carsulae - Parco Archeologico', '19485030': 'Chiesa di Sant’Apollinare', '19487544': 'Chiesa San Bernardino', '21389509': 'Chiesa San Faustino', '17785314': \"Pieve di Sant'Antonio Abate\", '17780645': \"Chiesa di Sant'Antonio Abate\", '17781582': \"Chiesa Di Sant'antonio Abate\", '11851556': 'Bottega del Castello della Sale', '10384019': 'Cirulli - Aziende Agricole', '12673247': 'Castello di Madonna Antonia', '17780814': 'chiesa della S.S. Annunziata', '13436641': 'Museo dei Cicli Geologici', '13436639': 'Chiesa di San Michele Arcangelo', '4828006': 'Borgo Antico Bar', '13436560': \"Chiesa della Madonna dell'Acqua\", '26628676': 'Le Fontane - Lavatoio pubblico', '10727071': 'Chiesa Santa Maria Assunta', '26437754': 'Shiatsuqi di Natascia Minciarelli', '17780615': 'Antica Pieve di Santa Maria', '23498616': 'Rocca', '26454141': 'Terrecotte Fattorini', '17784926': 'Chiesa di Santa Maria Vecchia', '23603031': 'Centro Storico', '17785149': 'Chiesa di Santa Maria Nuova', '23527414': 'Artespontanea', '8442796': 'Castello di Torre Alfina', '6362879': 'Bosco Del Sasseto', '10751519': 'Osservatorio Astronomico \"Nuova Pegasus\"', '23736060': 'Convento Di San Francesco', '6873086': 'Musei del Castello di Alviano', '13506803': \"Castello d'Alviano\", '13908621': 'Borgo di Lugnano in Teverina', '5988820': 'Collegiata Di Santa Maria Assunta', '15234702': 'Chiesa e Convento di San Francesco', '8818259': 'Museo Storico della Grande Guerra 1915-1918', '19486021': 'Chiesa S. Egidio', '21129953': 'Eremo Francescano Di Santa Illuminata In Guardea', '19485904': 'Chiesa Santi Pietro e Cesareo', '15234713': 'Chiesa della Maestae', '7927400': 'Lago di Alviano', '12827750': 'Parrocchia S. Martino Vescovo', '5937150': '\"Il Barretto\"', '19635998': 'Palazzo Orsini', '26858943': 'Centro storico', '26848269': 'Cappella Baglioni', '13908574': 'Chiesa Parrocchiale di Santa Maria Assunta', '10717566': 'Chiesa di San Matteo Apostolo ed Evangelista', '23590891': 'Brina Tartufi', '24077147': 'Percorso Circolare Collicello', '21129964': 'Castello di Frattuccia – Guardea', '15582326': 'Chiesa di Santa Maria in Posterola', '19485106': 'Chiesa di San Vitale de Murellis', '15582334': 'Monastero benedettino di San Magno', '15582304': 'Chiesa del Santissimo Crocifisso', '12941174': 'Chiesa di Santa Lucia', '12941300': \"Chiesa di Sant'Agostino\", '20943988': 'Parco Fluviale Urbano Del Rio Grande', '4178733': 'Cisterne Romane', '5924199': \"Il Chicco D'Oro\", '17567725': 'Banderari Amelia & Regoladarte', '15582352': 'Chiesa di San Michele Arcangelo', '15582323': 'Chiesa di Santa Maria di Porta', '9974289': 'Teatro Sociale di Amelia', '14902761': 'Centro Storico', '10536774': 'Palazzo Petrignani', '15582310': 'Chiesa di Santa Monica', '21330796': 'Chiesa Di Santa Chiara', '21341167': 'Chiesa Madonna Di Loreto', '23430519': 'Centro Storico Di Roccella Ionica', '4103928': 'Museo Civico Archeologico e Pinacoteca Edilberto Rosa', '20947702': 'Biblioteca Comunale Di Amelia \"luciano Lama\"', '10125575': 'Chiesa di San Francesco o dei Santi Filippo e Giacomo', '7117226': 'Mura Poligonali', '10120122': 'Porta Romana', '1583158': 'Italy Art Workshops', '23430908': \"Chiesa Di Sant'antonio\", '21341166': 'Chiesa Maria Santissima Di Porto Salvo', '21330795': 'Porta Stefanina', '23066524': 'Centro Storico Di Rogliano', '21272422': 'Monastero di Santa Chiara', '23919722': 'Uno Nove Nove', '21329537': 'Centro Storico Di Stilo', '21330794': 'Chiesa Della Divina Pastorella', '21341156': 'Centro Storico Di Monasterace', '21341165': 'Duomo Di Monasterace', '23082361': 'Centro Storico', '4131906': 'Grotta Bella', '23410936': 'Monte Pizzoccolo', '19485109': \"Chiesa di Sant'Apollinare\\xa0\", '15843151': 'Umbria in Mountain Bike', '6878472': 'Maneggio Jolly Horse', '10821335': 'Parco Fluviale del Nera', '10820447': 'Chiesa di Santa Maria Assunta', '12819225': 'Umbria rafting e canoa', '19940269': 'Collegiata di Santa Maria Assunta', '10820353': 'Chiesa di S. Giovanni Battista', '10820435': 'Borgo Medioevale e Rocca', '19344024': 'Chiesa della Madonna del Carmine', '10342709': 'Cinema 6D Cascata delle Marmore', '23682565': 'Piazzale G. Byron', '1392223': 'Cascata delle Marmore', '24033005': 'Hydra - Museo Multimediale Cascata Delle Marmore', '25336273': 'Museo Del Flipper e Del Modernariato Dino Merluzzi', '3400132': 'Umbria Outdoor', '20724089': 'Le Libertà Di Giulio Turcato', '20724098': 'Pro-loco Di Piediluco', '11502819': 'Santuario di San Francesco', '13436659': 'Chiesa Parrocchiale di Santa Maria del Colle', '18315108': 'Giardini Don Mario Baciarelli', '14165315': 'Spiaggia Miralago', '15081066': 'Giro del lago in battello', '6609189': 'Lago di Piediluco', '13436668': 'Rocca di Piediluco', '19119802': \"Eremo di Sant'Antonio\", '19344021': 'Chiesa San Nicola di Bari', '19261480': 'fontana Castelli', '19344023': 'Chiesa San Michele Arcangelo', '10817106': \"Museo dell'Appennino Umbro\", '2343589': 'Chiesa di Santo Stefano - Mummie di Ferentillo', '4162048': 'Museo delle Mummie di Ferentillo', '10532117': 'Nera Adventure River', '6592096': 'Abbazia di San Pietro in Valle', '15064795': 'Le Rocche Raccontano', '196180': 'San Damiano', '17528819': 'Fonte di San Nicolo', '23514141': 'Assisi Tour by Asisium Travel', '7161120': 'Enoteca Lombardi', '8530540': 'La Bottega del Monastero', '13089541': 'Porta Nuovo', '4765104': 'Segway Assisi', '18189776': 'Pierini Ugo: Maioliche artistiche', '10169190': 'Assisi Tour By Asisium Travel', '17539891': 'Portella di San Giorgio', '196154': 'Basilica di Santa Chiara', '25214614': 'Fontana Di Santa Chiara', '24878195': 'Piazza Santa Chiara', '23958061': 'Cibó Assisi Food&drink', '12283255': 'Parco Regina Margherita', '14292725': 'Iacopi', '8073317': 'Piero Pieri', '12810910': 'Arco di Via Santa Chiara', '12861989': 'Fontana di San Rufino', '3545788': 'Bottega del Bongustaio', '14063164': 'Gambacorta Bottega del Buongustaio', '196227': 'Cattedrale di San Rufino', '17373452': 'I Profumi Di Assisi', '6893881': 'la Bottega di Malastrana', '24026663': 'V&m Enjoy', '10355416': 'Museo Diocesano e Cripta di San Rufino', '24154470': 'Basilica Di Assisi', '13388028': 'Centro Storico Di Assisi', '6054683': 'Nun Spa Museum', '25132791': 'Tartufaio Per Un Giorno Assisi', '12962833': 'Anfiteatro Romano', '12623498': 'Piazza del Vescovado', '13987521': 'Fontanella del Lione', '14106441': 'Museo della Memoria', '10458498': 'Parrocchia Santa Maria Maggiore - Frati Cappuccini Assisi', '6923036': 'Monastero di Bose San Masseo', '14000610': 'Monastero Clarisse S. Quirico', '13198747': 'Monastero di San Giuseppe', '25214567': 'Chiesa Di San Leonardo ( Assisi )', '13198761': 'Monastero Santa Colette', '5963656': 'Oratorio S. Francesco Piccolino', '10340710': \"D'Olivo\", '27120317': 'Acqua ai Fiori di Spello', '24878348': 'Plateola Sancti Francisci Parvuli', '13982117': \"Chiesa di Sant'Antonio\", '17542904': \"Museo Arti e Mestieri dell'Umbria\", '8154255': 'Assisi Galleria 6C', '17412696': \"Galleria d'arte Perna Alessandro\", '27120446': 'Alice Laboratorio Artistico Di Scaglia Alice', '2492458': 'Chiesa Nuova - World Heritage Site', '13089869': 'Il Duomo Arredi Sacri', '12605431': 'Palazzo dei Priori', '2340266': 'Farmers Market at the Chiesa Di San Pietro', '22893862': 'Humilis Made In Assisi (boutique Assisi P.za Del Comune)', '3791271': 'B.A.T. Assisi art store', '5321485': 'Il Lavandeto di Assisi', '10440952': 'Michelangelo Art and Crafts', '12603515': 'Palazzo del Capitano del Popolo', '196168': 'Museo e Foro Romano', '9865651': 'Palazzo Bonacquisti', '3997240': 'La Bottega dei Sapori', '12318316': 'Libreria Marco Zubboli', '25041874': 'Bottega Cose Nostre', '4260106': 'Panetteria 87 Wine Bar', '2650283': 'Camere Catia  Assisi', '3359691': 'Umbria by Bike', '12373703': 'Cuoiart', '4922878': 'Teatro Metastasio musical Chiara di Dio', '24095143': 'Marino Pilates Di Maria Lara Marino', '21352706': 'TUI Musement', '19616727': 'Italian Aroma', '19122723': 'ARTexplorer Italy', '12100945': 'Museo Della Porziuncola', '196229': 'Basilica di Santa Maria degli Angeli', '15309616': 'Libreria Internazionale Francescana', '4007731': \"Sapori dall'Umbria\", '6849366': 'Terra Umbra Antica', '16929203': 'SORPRENDIMI UMBRIA', '2700486': 'Teatro Lyrick Assisi', '12420181': \"Bottega d'Arte\", '4470249': 'Volta Pinta', '1838996': 'Azienda Agraria Saio', '8128482': 'Enoteca Hotel La Quiete', '26310190': 'Scelta Di Vino', '13427931': 'Noleggio E-Bike Biciclette Elettriche Assisi Umbria', '6481309': 'Fiori E Fantasia', '15696957': \"Porta Sant'Angelo\", '15691063': 'Umbria guida turistica ed escursionistica', '15528611': 'Chiesa Collegiata di Santa Croce', '15554760': 'Cinema Esperia', '12673235': 'Chiesa di San Michele Arcangelo', '12676882': \"Chiesa di Sant'Angelo\", '23697332': 'Biblioteca Comunale Di Bastia Umbra', '19356860': \"Monastero di Sant'Anna\", '26640562': 'La bottega delle Monache', '4599007': 'Assisi Jewels', '24994166': 'Travelmate Assisi', '27504908': 'Diwine Assisi', '4606328': 'I Tre Archi Assisi', '9841592': 'Il Sole Souvenir', '12810956': 'Porta San Pietro', '12093890': 'Art Leather', '12810902': 'Porta San Francesco', '23543620': 'Delizie Francescane', '25214616': 'Statua Di San Francesco', '3927129': 'Basilica Papale e Sacro Convento di San Francesco in Assisi', '23443722': 'Biblioteca del Sacro Convento di San Francesco in Assisi', '21224361': 'AutonoleggioSpigarelli', '12546429': 'Piazza Superiore di San Francesco', '12540611': 'Piazza Inferiore di San Francesco', '13108309': 'Cripta di San Francesco', '198768': 'Via Portica', '196224': 'Palazzo Giacobetti', '17526701': 'Porta Cappuccini', '198765': 'Eremo delle Carceri', '13090148': 'VizEat', '13421791': 'Parapendio in Due', '3404729': 'Ecologico Tours & Meravigliosa Umbria', '23826612': 'Chiesa Di San Leonardo Alle Montarelle', '23826613': 'Castello Di Armenzano', '2540158': 'Parco del Monte Subasio', '6923125': 'Mostra Permanente degli Antichi Mestieri e della Civilta Contadina', '1551567': \"Anne's Italy\", '23697322': 'Rocca Baglionesca', '23698944': 'Abbazia di San Paolo delle Abbadesse', '12605392': 'Torre del Popolo', '10240067': 'Umbria Wine Tour', '26588999': 'Festa Delle Salvie E Del Giardino', '26587049': 'Festa Delle Salvie e Del Giardino', '25455483': 'Il Lavandeto Di Assisi', '8539992': 'Ramba Zamba', '21359344': 'Pasta al Pesto', '28005790': 'Volaway', '28108867': \"Autonoleggio Le vie dell'Umbria\", '27524460': 'Parco Degli Orti Jacobilli', '18716743': 'HUMILIS Made in Assisi (Boutique Assisi S. Francesco)', '10676766': 'Museo Missionario Indios', '13198774': 'Palazzo Bernabei', '4588594': \"Wine Assisi Tesori dell'Umbria\", '3746064': 'Frame la Mediateca Francescana', '196222': 'Via San Francesco', '13198773': \"Monastero di Sant'Andrea\", '6599228': 'Il Tapiro', '13198765': 'Piccolo Teatro degli Instabili', '23142494': 'Chiesa Santa Maria Assunta', '23142496': 'Chiesa di San Pietro Apostolo', '23142495': 'Chiesa di Pasano', '3411504': 'Borgo Antico di Colle Pino', '9795047': 'Acquedotto Romano di Spello', '12527654': 'Parrocchia di Maria SS. Assunta in Pieve Fanonica', '12815827': 'Parchi di Studio e Riflessione', '13908554': 'Chiesa di San Lorenzo Martire', '13908579': 'Castello di Giove', '13908558': 'Chiesa Parrocchiale di Santa Maria Assunta', '20793972': 'Cappella Di San Rocco', '20810938': 'Chiesa della Madonna del Perugino', '10817679': 'La Bottega degli Orsini', '242598': 'Parco dei Mostri', '4802018': 'Palazzo Orsini di Bomarzo', '12827667': 'Chiesa di Santa Maria Assunta', '6495583': 'Piramide Etrusca Bomarzo o Sasso del Predicatore', '4173911': 'Foresta Fossile', '3203671': 'Centro di Paleontologia Vegetale della  Foresta Fossile di Dunarobba', '12734285': 'Chiesa della Santissima Trinità', '19485105': 'Chiesa di San Biagio\\xa0', '19475319': 'Castello di Melezzole', '12818713': 'SEVEN7QUAD', '19485095': 'Ruderi del Castello di Carnano', '2214326': \"Bartolomei Frantoio & Museo dell'Olio\", '6889814': 'Antiquarium comunale di Tenaglie', '26332277': 'Cantina Famiglia Cotarella', '19485088': 'Chiesa Santa Maria Assunta', '19485104': 'Palazzo Ancajani', '25569864': 'Panchine del pellegrino', '21124907': 'Palazzo Municipale di Baschi', '6105370': 'Chiesa di San Nicolò', '6902371': 'Antiquarium Comunale di Baschi', '3649302': 'Barberani Wine', '5279917': 'MUVIS - Museo del Vino', '24117489': 'In Piazza Di Zannini Serena', '19460273': 'Chiesa San Filippo E Giacomo', '18955343': 'Rocca Monaldeschi', '8723635': 'Fattoria Madonna delle Macchie', '10384861': 'Castello di Corbara', '7127485': 'Lago di Corbara', '17654373': 'Camp Joy Village', '4438314': 'Santuario Madonna della Pasquarella', '7066889': \"Museo dell'Ovo Pinto\", '21124840': 'Arco Di Diomede In Civitella Del Lago', '12524610': 'Tenuta di Salviano', '21160465': 'Umbriatransfer', '12526923': 'Centro Commerciale Collestrada', '17380376': 'Parco Sculture di Brufa', '13550660': 'Terre Margaritelli', '8442472': 'Borgobrufa SPA', '12107116': 'Centro Storico di Bettona', '6962222': 'Museo Pinacoteca della Città di Bettona', '10800040': 'Oratorio S. Andrea', '12103662': 'Fontana di Piazza Garibaldi', '10802075': 'Biblioteca Internazionale di Bettona', '25132874': 'Vetunna - Viticoltori Umbri Dal 1960', '27492268': 'Game Over Perugia', '2021594': 'Archeologica di Collemancio', '7098425': 'WonderUmbria', '2336266': \"MOO Museo dell'Olivo e dell'Olio\", '23142490': 'Parrocchia San Bartolomeo', '2336264': 'MUVIT Museo del Vino', '2422093': 'Cantina Lungarotti - Torgiano', '5932606': 'Fabbrica della Birra Perugia', '4455065': 'Il Lavandeto di Assisi giardino e vivaio', '7274627': 'Cantina Di Filippo', '12731768': 'Edicola di Piandarca', '10399840': 'Teatro Francesco Torti', '8434036': 'ProLoco Bevagna', '23715142': \"Lavatoio Dell'accolta\", '7186451': 'Chiesa di San Michele Arcangelo', '7159956': 'Piazza Silvestri', '7160090': 'La Malchiera', '6776053': 'Compagnia delle Arti', '3811917': 'Chiesa di San Silvestro', '12268417': 'Biblioteca Comunale \"F. Torti\"', '2316731': 'Museo di Bevagna', '12420205': 'La Casa di Cecco Il Mercante', '27803051': 'Tasselli Cashmere', '12727942': 'Chiesa di Santa Maria Laurentia', '7161474': 'Badiali Cashmere Bevagna', '12731672': 'Chiesa e Monastero di S. Maria del Monte', '12727993': 'Chiesa di Santa Margherita', '12727963': 'Chiesa di Santa Maria della Consolazione', '8298580': 'Chiesa di San Francesco', '12727994': 'Teatro Romano', '12727976': 'Porta Cannara', '26631164': 'Teatro Romano I sec d.c.', '12731698': 'Palazzo Municipale', '14079476': 'Greenways Italy Tours', '3696558': 'Antico Frantoio Nunzi', '8293066': 'Balloon Adventures Italy', '3805983': 'Cantina Dionigi', '26266762': 'Panchina Gigante - Big Bench #272 Bevagna', '4403752': 'Tenuta Bellafonte', '2536575': 'Azienda Agraria e Frantoio Ronci', '24488404': 'Agricola Mevante', '3263831': 'Fattoria Colsanto', '12728252': \"Convento dell'Annunziata a Capro di Bevagna\", '3381701': 'Tenuta Castelbuono', '2413263': \"Cantina Terre de' Trinci\", '7076525': 'Badiali Cashmere', '12527659': 'Parrocchia di San Giovanni Evangelista', '12527666': 'Parrocchia di Santo Stefano in Maceratola', '12268558': \"Chiesa di Sant'Andrea\", '23764135': 'Chiesa Di Santa Maria Di Agello', '27963502': 'Castello Di San Savino', '10737293': 'Rocca Sonora', '14157745': 'Museo del Monastero delle Orsoline', '14157730': 'Chiesa di Santa Maria Assunta', '12734569': 'Chiesa di Santa Brigida', '14157778': 'Chiesa di Sant’Antonio Abate', '12734893': 'Chiesa della Santissima Trinità', '7274891': 'Borgo Medievale di Fianello', '13683477': 'Chiesa di Santa Maria Assunta', '15091148': 'Chiesa di Santa Maria Assunta', '10681741': 'Terrazza Della Sabina', '10715540': 'Chiesa San GIovanni Evangelista', '23617766': 'Chiesa Della Madonna Di Loreto', '10804882': 'Chiesa di Santa Maria Assunta di Configni', '12815384': \"Chiesa dell'Annunziata\", '25562639': 'Olive Hill Sabina', '10755338': 'Villa di Orazio', '10818281': 'Fonte Bandusia', '10804685': 'Chiesa di S. Stefano di Vacone', '4173454': 'Sacro Speco di San Francesco', '12150527': 'Chiesa di San Girolamo', '10244345': 'Chiesa di San Francesco', '4311285': 'Antico Frantoio Carletti', '23603038': 'La Caletta', '8858442': 'Tempietto del Clitunno', '2658749': 'Le Fonti del Clitunno', '19274782': 'Chiesa di San Cipriano', '12968940': 'Oratorio di San Sebastiano', '27980543': 'Frantoio Gaudenzi', '17539784': 'Chiesa Santa Maria di Pietrarossa', '10663992': 'Tartufi e Funghi Fortunati Antonio', '11921065': 'Beverly Pepper – Il dono di Icaro', '17412884': 'Castello Di Acera', '10430948': 'Rafting Nomad', '12150560': 'Chiesa di San Matteo', '2350938': 'Life Italian Style', '12152069': 'Chiesa di San Biagio', '19450426': 'Chiesa di Sant′Apollinare', '8861974': 'Majoliche Fanny', '19888846': 'Tili 21', '7040073': 'Chiesa di Santa Maria della Visitazione', '8756435': 'Statua Di Santa Rita', '6628840': 'Chiesa di San Francesco', '6403608': 'Zafferano Purissimo di Cascia', '12094246': 'Ufficio Informazione e Accoglienza Turistica', '6518184': 'Aperto da Venerdi a Domenica ', '2536580': 'Basilica di Santa Rita', '10801284': 'Monastero di Santa Rita da Cascia', '7151853': 'Magrelli Prodotti Tipici', '15266006': 'Casa Natale di Santa Rita', '7113543': 'Il Lazzaretto', '7095132': 'Orto Del Miracolo', '7116524': 'Chiesa di San Montano', '7153555': 'Casa Maritale Di Santa Rita', '4891851': 'Scoglio della Preghiera', '7116527': \"Grotta d'Oro\", '4283975': 'Roccaporena', '8408723': 'Eremo della Madonna della Stella', '12734892': 'Chiesa di San Pancrazio Martire', '261421': \"A Pilgrims' Way\", '11919414': 'Cappella di Santa Maria del Tempio o Cappella dei Cavalieri di Malta', '3208367': 'Museo del Fiore', '18190801': 'Yacht Club Bolsena', '15558149': 'Bolsenatour', '14980187': 'Azienda Agricola e Frantoio Battaglini - Frantoio Antica Tuscia', '3343163': 'Lago di Bolsena', '8599103': 'Spiaggetta di Masi Michele', '8398873': 'La Medusa', '23301387': 'Palazzo del Drago', '8453176': 'Museo Territoliale Del Lago Di Bolsena', '5888214': 'acquario di bolsena', '10843072': 'Fontana di San Rocco', '19516576': 'Chiesa San Lorenzo Martire', '12258752': 'Piazza Europa', '19516577': 'Chiesa della Madonna di Torano', '12268409': 'Biblioteca Comunale \"Corrado Spaziani\"', '21287686': 'Piazza Partigiani', '12673321': 'Pieve di San Gregorio Magno', '10697229': 'Pista karting Arcobaleno', '3225997': 'Azienda Vinicola Tabarrini', '5945229': 'Cantine Il Gheppio Winery', '2538096': 'Bocale Vini', '25054434': 'Tenuta Alzatura', '21277246': 'Castello Di Fabbri', '7078676': 'Azienda Agraria Brunozzi', '7113520': 'Tenuta Lungarotti', '12003425': 'Santuario Madonna della Stella', '19094672': 'Chiesa di San Michele Arcangelo', '20245328': 'Chiesa di San Michele Arcangelo', '11737653': 'Frantoio Speranza', '19091998': 'Abbazia di San Donato de Ierna', '19094667': 'Chiesa di San Donato', '20245343': 'Chiesa San Filippo Neri', '12811749': 'Chiesa di San Lorenzo', '6733083': 'Painting Under the Tuscan sun', '23295431': 'Chiesa dei Santi Apostoli Pietro e Paolo e Santa Maria delle Grazie', '23564676': 'San Michele Arcangelo', '7070452': 'Lago di Chiusi', '3320015': 'Cantina Madrevite', '5608028': 'Fioroni Cashmere', '17294992': 'Santuario della Madonna della Carraia', '4790567': 'Beautytu', '2691802': 'Laboratorio Linguistico', '5321486': 'Mani di Fata di Massaro Ilaria', '7912837': 'Taste and Slow Italy', '27953404': 'Monumenti Ai Caduti', '11921186': 'Santa Lucia Palace', '27960795': \"Fontana Dell'avis\", '26221683': 'Cicli Marinelli Ferrettini', '26826268': 'Poggio Santa Maria', '23505974': 'Il Melograno', '27660957': 'Enoteca Poggiani', '23514837': 'Terrazza Panoramica', '23816584': \"L'Angolo del Buon Gustaio Shop\", '19112205': 'Pista Ciclabile del Trasimeno', '12094370': 'Ufficio Informazioni e Accoglienza Turistica del Comprensorio Trasimeno', '23514853': 'Fontana Di Piazza Mazzini', '12713630': 'Motonautica Carli', '4005511': 'Kitemaniak', '23514789': 'Lungolago', '4173166': 'Lidolamerangola', '24526574': 'Via Belvedere', '196174': 'Chiesa di San Domenico', '12449165': 'Chiesa di San Domenico', '17501650': 'Centro storico', '10826428': 'Chiesa di Santa Maria Maddalena', '20808927': 'Porta Senese', '14199793': 'Stefania Ceramiche', '23514810': 'Municipio', '2540151': 'Rocca del Leone', '17465911': 'Frantoio San Giuseppe', '3359507': 'Centro Storico di Chiusdino', '21186717': 'Chiesa San Giovanni Battista', '24051383': 'Monastero e Chiesa Di San Secondo', '2099122': 'Isola Polvese', '27963489': 'Monumento Ai Caduti', '21079444': 'Chiesa Di San Feliciano Di Magione', '14998559': 'Cooperativa Pescatori del Trasimeno', '19142263': 'Centro di Esperienza Ambientale di Isola Polvese', '14039527': 'Lungolago', '196157': 'Museo della Pesca e del lago Trasimeno', '23529145': 'Chiesa Di San Giulio', '4327963': 'Zocco Beach', '23328235': 'Laguna Park', '27984894': 'Le Storie Di Loz', '4889257': 'La Valle - Oasi Naturalistica', '1924900': 'Umbria in Vespa', '10826210': 'Azienda Agricola Pucciarella', '12731891': 'Chiesa Parrocchiale di San Giacomo Maggiore', '27946173': 'Rupe Tremante', '12728166': 'Chiesa di San Lorenzo', '28014867': 'Chiesa Di Santa Maria Assunta In Cielo', '12728130': 'Chiesa di Santa Maria Assunta', '12728135': 'Chiesa della Madonna del Buon Consiglio', '7051888': 'Citerne Romaine', '21235121': 'Masseria Felicia', '17608585': 'Chiesa della Madonna delle Grazie', '12396460': 'Antares', '9996809': 'The Space Cinema', '9979773': 'Gherlinda', '11800559': 'Quasar Village', '6406955': 'Magix Parco Giochi', '5928833': 'Kiss Kiss Bar', '12870596': 'Namasté', '8539716': 'Bucciotteria', '23142487': 'Chiesa di Santa Maria della Speranza in Olmo', '15052550': 'Noleggio Auto Cerimonia', '13204980': 'Chiesa di San Giovanni Battista', '12310120': 'Golf Club Perugia', '2241704': 'Città della Domenica', '10499462': 'Percorso Verde', '12696219': 'Palasport Evangelisti', '27734521': 'Pala Barton', '28140625': 'Lido Da Franca', '26154427': 'Giostra a cavalli a 2 piani Vassallo', '1176204': 'Umbriacooks4u', '19847227': 'Exploring Umbria', '12818583': 'Stadio Renato Curi', '11672939': 'A.C. Perugia Calcio Museo', '13196022': 'Teatro Bertolt Brecht', '23837837': 'Galera - Cocktail Room', '4105621': 'Vinoteca Perugia San Sisto', '27702858': 'Parco \"Alessandro Pedetti\"', '12696924': \"Massagg'Arti\", '27705327': 'Parco \"Alessandro Pedetti\"', '14136772': 'Perugia Wake Park', '5963660': 'Ospedale di Santa Maria della Misericordia', '196147': 'Casa del Cioccolato Perugina', '10185537': 'Adventure Rooms', '2016184': 'Ipogeo Di S. Manno', '11945983': 'Brocani Gardens', '12275841': 'Parco Chico Mendez', '19066167': 'Roompicapo Escape Room', '11800681': 'UCI Cinemas', '21390050': 'Chiesa Della Madonna Del Vanese', '2016178': 'Necropoli di Strozzacapponi', '15513730': 'Veatles Group', '15220372': 'CooksApp', '10801882': 'Palazzo del Capitano del Popolo', '10801964': 'Piazza Coragino', '10801846': 'Museo della Casa Contadina di Corciano', '10801330': 'Chiesa di Santa Maria Assunta', '10801931': 'Mura e Torri del Borgo di Corciano', '10801927': 'Ufficio Informazioni Turistiche di Corciano', '2175941': 'Antiquarium di Corciano', '10801894': 'Palazzo dei Priori di Corciano', '10801856': 'Palazzo Comunale di Corciano', '10801839': 'Porta Santa Maria di Corciano', '10801868': 'Chiesa di San Francesco di Corciano', '21080923': 'Chiesa di San Donato', '12263688': 'Castello di Costacciaro', '3249660': 'Grotta di Monte Cucco', '23142471': 'Chiesa Parrocchiale di San Marco Evangelista', '20728973': 'Chiesa Di Santa Maria Assunta Di Scirca', '17412804': 'Caseificio Facchini Walter', '13908700': \"Chiesa di Sant'Agostino\", '20728118': \"Chiesa Di Sant'andrea Apostolo\", '13908607': \"Monastero di Sant'Anna\", '20670569': 'Comune di Sigillo', '5928728': 'Gardenbar', '20634721': 'Biblioteca comunale di Sigillo', '20728464': 'Chiesa Della Madonna Del Prato', '20728979': 'Monte Cucco In Volo', '18967234': 'Arenas Dance Club', '23793181': 'Eremo Di San Girolamo', '13908613': 'Chiesa dei Santi Filippo e Giacomo', '10414817': \"Maioliche d'arte Gina Pelli\", '11741697': 'Pinacoteca Comunale di Deruta', '13188150': 'Palazzo dei Consoli', '12735369': 'Centro Storico di Deruta', '15639256': 'Maioliche El Frate', '7131980': 'Ceramiche EL Fraste', '10765501': 'Chiesa di San Francesco', '13188147': \"Chiesa di Sant'Antonio Abate\", '15922271': \"Porta Sant'Angelo\", '10354545': 'CF Ceramiche Favaroni Carlo Deruta', '23912443': 'Scalinata Dei Ceramisti', '4946040': 'Maioliche Binaglia', '10265673': 'La Gioconda', '526109': 'Museo Regionale della Ceramica di Deruta', '5823353': 'Ceramiche Sambuco Mario', '17766681': 'Miriam Ceramiche', '2478509': 'Antica Fornace Deruta', '23104420': 'Sermat Ceramiche', '10463057': 'Grazia Maioliche', '3199616': 'Maioliche Nulli', '13954794': 'D&G Design', '4951402': 'Maioliche Pia', '12958206': 'Deruta Placens Maioliche Artistiche di Mordenti Annalisa', '13991217': 'Museo di Storia Naturale', '13945841': 'CI....BI', '3381786': 'Santuario Madonna del Bagno', '21337667': 'Ceramiche Ferrieri', '5828018': 'MOD-Maioliche Oiginali Deruta', '12448988': 'Geribi Deruta - Italian Hand Painted Ceramics', '7131983': 'Ceramiche Terrecotte Deruta Bettini', '12433783': 'Geribi Ceramiche', '10439759': 'Ceramiche Fratelli Contardi', '12879887': 'Ceramiche Artistiche Gialletti Giulio S.n.c.', '10681711': 'Castello delle Forme di Marsciano', '21502387': \"Chiesa Parrocchiale di Sant'Angelo di Celle\", '13188158': 'Castello di Castelleone', '10680270': 'Chiesa di San Benedetto di Lugana', '12731805': 'Chiesa Parrocchiale di S. Maria Assunta', '5613408': 'Relais Il Canalicchio Spa', '7724959': 'Piccola Cantina Rossi', '3214095': 'Voglie di Bosco Moretti', '14203823': 'Castello di Fabro', '18452915': 'Chiesa di San Martino', '18452919': 'Chiesa Ss. Cuore di Gesú', '23478566': 'Produttore Agricolo Massimo Corato', '10311837': 'Chiesa dei SS. Apostoli Pietro e Paolo', '23862333': \"Torre Dell'Orologio\", '23860806': 'Centro Di Documentazione Attilio Parelli', '7709599': 'Teatro dei Rustici', '20360765': 'Curioseety SRLS', '19094649': 'Chiesa di Santa Maria Assunta', '17714230': 'Bagno Del Diavolo', '10291383': 'Chiesa di Maria SS. Delle Grazie', '10289584': 'Castello di Mantegabbione', '10289594': 'Chiesa di Maria SS. Assunta in Cielo', '10376952': 'Frazione Valle San Martino', '6406842': 'La Somma', '23832556': 'Cascata Schioppo', '12527617': 'Chiesa di San Salvatore', '12205107': 'Collezione della Fondazione Cassa di Risparmio di Foligno', '26727050': \"Chiesa di Sant'Agostino\", '6774247': 'Eremo Santa Maria Giacobbe', '12527644': 'Osservatorio Astronomico Di Foligno', '7072745': 'Porta San Felicianetto', '12527616': 'Palazzo Giusti - Orfini', '7060274': 'Oratorio Della Nunziatella', '12527808': 'Corso Camillo Benso Conte di Cavour', '5922870': 'Via del Corso IL BAR', '7052021': 'Calamita Cosmica - Centro Italiano Arte Contemporanea', '12524996': 'Multisala Politeama Clarici', '7640306': 'Santuario della Madonna del Pianto', '12524975': 'Biblioteca Jacobilli', '12527630': 'Casa Beata Angelina', '12527682': 'Campo Sportivo Comunale \"Alessandro Macellari\"', '3767456': 'Museo Capitolare Diocesano e Cripta di San Feliciano', '12527610': 'Palazzo Comunale', '12527622': 'Piazza Della Repubblica', '19542324': 'Museo Rionale Societas Juctorum', '2421944': 'Cattedrale di San Feliciano', '12527627': 'Palazzo del Podestà', '23598932': 'Enoteca Artemisia', '2054856': 'Palazzo Trinci', '12527715': '\"A Ruota Libera\" - Servizio Noleggio Biciclette', '12527804': 'Piazza Matteotti', '19257632': 'Frantoio - Azienda Agricola Sassovivo Foligno', '12095331': 'Servizio Turismo FRONT OFFICE', '196231': 'Abbazia di Sassovivo', '12527657': 'Parrocchia di Santa Maria', '6765469': 'Chiesa di San Francesco', '19945902': 'Oratorio Madonna del Gonfalone', '12527809': 'Palazzo Brunetti Candiotti', '2052722': 'Auditorium San Domenico', '23910600': 'Museo Della Quintana', '10178613': 'Microclima Vini & Vinili', '12524984': 'Teatro San Carlo', '11778305': 'Piazza Don Minzoni', '12526952': 'Palazzo Deli', '12527801': 'Piazza del Grano', '12524971': 'Biblioteca Comunale \"Dante Alighieri\"', '12527619': 'Archivio di Stato', '7137605': 'Chiesa di San Nicolò', '7395669': 'Pinacoteca Civica di Spello', '7085176': 'Chiesa di Santa Maria Infraportas', '17405958': 'Chiesa di Santa Maria di Pistia', '7104233': 'Auditorium Santa Caterina', '2053341': 'CIAC Centro Italiano Arte Contemporanea', '4555813': 'Monastero San Pietro E Paolo', '7119906': 'Il Borgo dei Ruscelli', '3210353': 'Nuova Chiesa di San Paolo a Foligno', '7105826': 'Santuario Madonna delle Grazie', '12262144': 'Valle del Menotre Outdoor & Fun', '6848697': 'Le Cascate del Menotre', '23617149': 'Chiesa di Sant′Apollinare', '4588575': \"Gira l'Umbria\", '5928597': 'Coffee-House La Dolce Vita', '12527634': 'Porta Romana', '4817287': \"Centro Olistico Stella D'oriente\", '10756267': 'Bernetti Enoteca', '12528081': 'Stazione Foligno', '7072738': 'Piscina di Foligno', '12527687': 'Palazzetto dello Sport Giuseppe Paternesi', '4594293': 'Marco zona acconciature', '12527679': 'Stadio Comunale Enzo Blasone', '7071933': 'Parco dei Canapè', '12527652': 'Parrocchia di San Egidio in Borroni', '26329210': 'Marta Gregori Yoga', '12527651': 'Parrocchia di San Giovanni Battista in San Giovanni Profiamma', '10435355': 'Birriﬁcio Fratelli Perugini', '6154915': 'Nikka & Figo', '10804871': 'Palazzo Comunale di Sellano', '10804868': 'Chiesa di Santa Maria Assunta', '28105081': 'Ponte Tibetano', '20346506': 'Chiesa di San Nicolò di Valcaldara', '10836044': 'Fondazione Barbanera 1762', '14997170': 'Ciao Andiamo', '12048725': 'Porta Consolare', '14009385': 'Villa dei Mosaici', '12050062': 'Porta Urbica', '2156226': 'Shona', '4942468': 'Extroso Abbigliamento', '12050052': 'Anfiteatro Romano', '12048747': 'Chiesa di San Claudio', '13908603': 'Chiesa di San Cristoforo', '16663429': 'Le rughe', '15849344': 'Torre Pubblica', '13908590': 'Monastero di Santa Maria del Fonte', '8477852': 'La Bottega di Merlino', '12263675': 'Castello di Colmollaro', '19094673': 'Chiesa di San Sabino', '10820499': 'Chiesa della Madonna delle Carceri', '27961387': 'Passeggiata Del Toppo', '10820470': 'Chiesa dei SS. Filippo e Giacomo', '26694357': 'Nuvola il Gatto', '1901717': 'Teatro della Concordia', '4177259': 'Umbria Cucina', '12818896': 'ProLoco Monte Castello Vibio', '10822160': 'Torre di Porta Maggio', '15616671': 'Terramante', '5937675': 'Convento santa Maria della Spineta', '6563005': 'Cantina Conti Faina', '11946133': 'Fattoria di Monticello', '12104795': 'Museo Archeologico Antiquarium', '3157923': 'Cantina Cesarini Sartori', '12854181': 'Olivo Monumentale', '4314551': 'Dani Creazioni', '8657780': 'Ponte Fonnaia', '9567522': 'Catacomba Di Villa San Faustino', '23448185': 'Casale Alessandri', '17247312': 'Chiesa di San Felice', '15081300': 'Spa & Beauty Farm Relais Paradiso', '14803397': 'Còlpetrone', '13431278': 'Chiesa della Madonna del Ponte', '13431175': \"Chiesa di Sant'Andrea Apostolo\", '20805903': 'I Mammalocchi di Penna', '12600601': 'Le Lase', '3316846': 'Terme di Orte', '12823110': \"Chiesa dell'Immacolata Concezione\", '12269651': 'Trekking Tour - Gualdo Cattaneo Anello', '12268560': 'Chiesa dei Santi Antonio e Antonino', '14098636': 'Taste of Umbria', '15832098': 'Fontana del Cardinal del Monte', '12268368': 'Gualdo Tadino Tourist Information Office', '12268540': 'Chiesa di Santa Margherita', '12268326': 'Chiesa Santa Maria del Purgo', '12268277': 'Cattedrale di San Benedetto', '12268320': 'Chiesa di San Francesco', '12268343': 'Palazzo Comunale', '12268299': 'Chiesa di San Rocco', '12268305': 'Chiesa di Santa Chiara', '12268297': 'Chiesa di San Donato', '12268336': 'Eremo di Santo Marzio', '12268364': 'Museo Opificio Rubboli', '12268347': 'Fonte di \"Pulcinella\"', '12268331': 'Convento della Santissima Annunziata', '2040577': 'Museo Civico Rocca Flea', '12268355': 'Palazzo Trecentesco', '7217220': \"Museo Regionale dell'Emigrazione Pietro Conti\", '12268348': 'Palazzo del Podestà e Torre Civica', '12268308': 'Chiesa di Santa Maria dei Raccomandati', '12268374': 'Biblioteca Comunale \"Ruggero Guerrieri\"', '12268344': 'Santuario Madonna del Divino Amore', '12268286': 'Chiesa di San Facondino', '12268285': 'Santuario Madonna di Monte Camera', '12268301': 'Chiesa di San Nicola', '12262835': 'Abbazia di San Pietro in Val di Rasina', '5484768': \"Santuario della Madonna dell'Olmo di Casacastalda\", '7961616': 'Chiesa di Santa Maria Assunta di Casacastalda', '12263698': 'Castello di Magrano', '13815149': 'Chiesa di San Pietro', '12263720': 'Biblioteca Comunale Sperelliana', '10755190': 'Chiesa di Santa Maria della Vittoria (o Vittorina)', '21472165': 'Centro Estetico Bellezza E Benessere', '13815161': 'Monastero di San Girolamo', '13438525': \"Statua di Sant'Ubaldo\", '534401': \"Chiesa di Sant'Agostino\", '13837762': 'Chiesa di Santa Maria Nuova', '7939947': 'Chiesa San Marziale', '13815187': 'Chiesa di Santa Maria dei Servi', '2413261': 'Funivia Colle Eletto', '26259500': 'Placebo Drink Room', '24191046': 'Civico 10.', '13817312': 'Chiesa di San Francesco della Pace', '12263725': 'Biblioteca Diocesana Fonti', '17396428': 'La buca del tartufo', '24146734': 'Papa Tartufi Di Gubbio', '8508034': 'Ceramiche Biagioli', '15121388': 'Monumento ai Caduti', '26301466': 'Piazza Quaranta Martiri', '12848877': 'Chiesa di Santa Maria dei Laici', '534393': 'Chiesa di San Francesco', '12262801': 'Castello di Vallingegno', '13815268': 'Monastero Buon Gesù', '13817276': 'Chiesa della Madonna del Prato', '25428015': 'Centro storico di Gubbio', '12862005': 'Palazzo Pretorio', '18509926': 'Tipici prodotti snc', '10783678': 'Gubbio Express', '17396475': 'ENOTECA ERALDO DENTICI', '196185': 'Palazzo dei Consoli e Museo Civico', '625613': 'Piazza Grande', '10677014': 'Via Galeotti', '17412730': 'Botteghe Caff', '5963657': 'MAUSOLEO DEI 40 MARTIRI', '15121396': 'Monumento a San Francesco e il Lupo', '5775150': 'Museo Diocesano', '17785385': 'Giardini del Voltone', '196186': 'Palazzo Ducale', '10920346': 'La Botte dei Canonici', '312140': 'Duomo di Gubbio', '3177298': \"Basilica di Sant'Ubaldo\", '13815213': \"Monastero di Sant'Antonio\", '12262816': 'Abbazia d’Alfiolo', '4411253': 'Parco Ranghiasci', '8820410': 'Corsa dei ceri Gubbio', '23989272': 'Chiesa Di Santa Croce Della Foce', '10847168': 'Palazzo del Bargello', '4285226': 'Fontana del Bargello', '7131530': 'Il Megalite', '4760939': 'Gypsea', '13815180': 'Porta Metauro', '538015': 'Palazzo del Capitano del Popolo', '12404199': 'Passeggiata Acquedotto Medievale \"Gola del Bottaccione\" Gubbio', '534385': 'Teatro Romano', '5963658': 'CASA DI S. UBALDO', '13815144': 'Stadio Comunale Pietro Barbetti', '24107651': 'Il Vigneto\" Dal Generale\"', '25188028': 'Museo Arti E Mestieri Palazzo Beni', '7262976': 'Chiesa di San Domenico', '13417730': 'Dinosauri in Carne e Ossa', '7981154': 'Ex Monastero e Chiostro di San Benedetto', '2243837': 'Villa Valentina Resort & Spa', '13815084': 'Centro Commerciale La Contessa', '10804686': 'Chiesa Madonna della Luce', '5784611': 'Ceramiche Aldo Fumanti', '14902753': 'Blasi Cantina', '12968757': 'Chiesa Parrocchiale di San Gregorio Magno', '4767389': 'Montone - Centro Storico', '12968767': \"Monastero di Sant'Agnese\", '22825120': 'Alunni Alberto Sculture In Ferro', '10761185': 'Complesso Museale di San Francesco', '21339119': 'Pieve Di San Gregorio', '25574616': 'Castello del Cardaneto', '12968770': 'Rocca di Braccio', '23588796': 'Castello Di Lisciano', '23591697': 'Chiesa di San Donnino o Madonna della Croce', '23591698': 'Percorso Trekking - Comune di Lisciano Niccone', '19460377': 'Chiesa di Santa Maria delle Corti', '23588798': 'Castello Di Pierle', '21230978': 'Chiesa San Pietro Apostolo', '12885279': 'Torre di Vernazzano', '2536585': 'Campo del Sole', '23524904': 'Stazione Ferroviaria', '23789844': \"Madonna Dell'oliveto\", '21393919': 'Visite in Fattoria Km0Tour', '21079437': 'Biblioteca Comunale E. Tribbioli', '23789840': 'San Cristoforo In Pieve', '3478193': 'Porto del Sole Darsena e Scuola di Windsurf e Vela', '23524849': 'Lido Di Passignano', '15081087': 'Libreria Le Pagine Sul Lago', '26707923': 'Torre Triangolare', '23525017': 'Municipio', '10660497': 'Mimuso', '21080895': 'Biblioteca Comunale', '21080835': 'San Giovanni Battista', '19071294': 'Eremo di San Giovanni Battista', '4717601': 'Castello di Magione', '21079454': 'Palazzo Comunale Di Magione', '21079471': 'Teatro Giuseppe Mengoni Di Magione', '7103831': 'Torre dei Lambardi', '27962253': 'Porticciolo E Pontile', '21080894': 'Chiesa della Santissima Annunziata', '18186146': 'Corso Vanucci Factory Outlet', '27950137': 'Chiesa Del Sacro Cuore', '4135393': \"Autodromo dell'Umbria\", '19974253': 'Top Speed Italia', '3765002': 'Cantina Berioli', '21080900': 'La Rocca', '18083354': 'Villa Aganoor Pompilj', '18083394': 'Fattoria Luca Palombaro', '27975124': 'Palazzo Schnabl', '12082330': 'Chiesa di Sant’Andrea', '4584954': 'Acqua Dolce Sailing', '28055729': 'Apicoltura Galli', '21080834': 'Chiesa Parrocchiale di S. Valentino in Villantria', '12495253': 'Alunni Cashmere', '10681710': 'Cerqueto di Marsciano', '10681740': 'Centro medievale di Morcella', '25063309': 'Versosera', '10681745': 'Borgo fortificato di Papiano', '2197384': 'Castello Monte Vibiano Vecchio', '8337681': 'Piscine Comunale Marsciano', '10681715': 'Mercatello di Marsciano', '10681784': 'Museo Dinamico del Laterizio e delle Terrecotte di Marsciano', '10697626': 'Chiesa parrocchiale di San Giovanni Battista', '8330589': 'Cinema Concordia Marsciano', '10681751': 'Castello di Spina - Marsciano', '10698533': 'Castello di Monte Vibiano Nuovo', '10681754': \"Castello di Sant' Apollinare - Marsciano\", '10820423': 'Castello di Civitella dei Conti', '10694816': 'Umbria in Ape Rental', '19261476': 'E-Bike Umbria', '10681720': 'Borgo di Migliano', '10681749': 'Pieve Caina di Marsciano', '13130016': 'Cantina Zazzera', '4882758': \"Santuario dell'Amore Misericordioso\", '8050599': 'Cantina Todini', '14063186': 'Leo Wild Park', '23438858': 'Sorelle Biologiche', '23438021': 'Sorelle Biologiche', '7195228': \"Chiesa di Sant'Agostino\", '9581419': 'El Quero', '15131349': \"Porta Sant'Agostino\", '7184426': 'Chiesa di Santa Lucia', '13908557': 'Chiesa di San Bartolomeo', '27809728': 'Convento Di San Fortunato', '7943059': 'Santuario di Santa Chiara della Croce', '6672198': 'Cantina Fratelli Pardi', '2257497': 'Montioni Frantoio & Cantina', '12659350': 'Cantina Colle Ciocco', '12083908': 'Azienda Agraria Paolo Bettini', '3317687': 'Complesso Museale di San Francesco', '13908576': 'Palazzo Bernardino de Cuppis', '24086369': 'Macelleria Del Corso Montefalco', '2016475': 'Romanelli Agricola', '10331676': 'Centro Storico', '15131353': 'Piazza del comune', '1649098': 'Gusto Wine Tours', '27457317': \"Mercante Dell'arte\", '10843088': 'Bio Fattoria Giorgetti', '15740113': 'Cantina La Veneranda', '19094675': 'Chiesa di San Silvestro Papa', '1793612': 'Museo del Vetro', '19094604': 'Chiesa della Madonna della Crocetta', '3792010': 'La Scarzuola', '10793239': 'Il Vecchio Piantone', '11679922': 'Oratorio di San Bartolomeo', '6888455': 'Santuario della Madonna di Fatima e dei Santi Fanciulli', '18390320': 'Monastero di S. Lucia', '2338367': 'Ufficio Informazioni Turistiche di Città della Pieve', '13990231': \"Chiesa della Confraternita Della Misercordia Di Gesu'\", '28048234': 'Cabocla Gioielli', '3157908': 'Oratorio di Santa Maria dei Bianchi', '8298444': 'Spazio Kossuth', '10832617': 'Palazzo della Corgna', '3357359': 'Palazzo della Corgna - Palazzo Ducale', '26620901': 'Enoteca Coppetta', '6888585': 'Cattedrale Santi Gervasio e Protasio', '15144036': 'Cook by Me Cooking Class', '7085894': 'La Bottega del Vino', '6888469': 'Azienda Agraria Alessandro Mazzuoli', '19343990': 'Chiesa\\xa0di San Giovanni', '23295046': 'Piccolo museo della biga di monteleone di spoleto', '10383214': 'Il Borgo di Monteleone di Spoleto', '19344002': 'Chiesa e Complesso di San Francesco', '19344003': \"Torre dell'Orologio\", '19343995': 'Chiesa di San Gilberto'}\n"
     ]
    }
   ],
   "source": [
    "# prendo solo un sottoinsieme di poi_dict\n",
    "meta_elementi = list(poi_dict.items())[:1000]\n",
    "\n",
    "# Crea un nuovo dizionario con mille degli elementi\n",
    "dizionario = dict(meta_elementi)\n",
    "\n",
    "print(dizionario)"
   ]
  },
  {
   "cell_type": "code",
   "execution_count": 93,
   "metadata": {},
   "outputs": [
    {
     "data": {
      "text/plain": [
       "1000"
      ]
     },
     "execution_count": 93,
     "metadata": {},
     "output_type": "execute_result"
    }
   ],
   "source": [
    "len(dizionario)"
   ]
  },
  {
   "cell_type": "code",
   "execution_count": 94,
   "metadata": {},
   "outputs": [],
   "source": [
    "from dotenv import dotenv_values\n",
    "\n",
    "dotenv = dotenv_values()\n",
    "api_key = dotenv.get(\"API_KEY\")"
   ]
  },
  {
   "cell_type": "code",
   "execution_count": 95,
   "metadata": {},
   "outputs": [],
   "source": [
    "import time\n",
    "import requests\n",
    "\n",
    "rec = []\n",
    "\n",
    "# Itero sui POI selezionati e recupero le recensioni\n",
    "for poi in dizionario.items():\n",
    "    location_id = poi[0]\n",
    "    nome_poi = poi[1]\n",
    "\n",
    "    url = f'https://api.content.tripadvisor.com/api/v1/location/{location_id}/details?key={api_key}&language=it&currency=EUR' \n",
    "    headers = {\"accept\": \"application/json\"}\n",
    "    response = requests.get(url, headers=headers)\n",
    "\n",
    "    if response.status_code != 200:\n",
    "        print(f\"Errore nella richiesta API: {response.status_code}\")\n",
    "        continue\n",
    "\n",
    "    POI = response.json()\n",
    "\n",
    "    # Estrai i dettagli del POI\n",
    "    nome = POI.get('name')\n",
    "    id = POI.get('location_id')\n",
    "    citta = POI.get('address_obj', {}).get('city')\n",
    "    categoria = POI.get('category')\n",
    "    gruppi = POI.get('groups', [])\n",
    "    n_recensioni = int(POI.get('num_reviews') )\n",
    "\n",
    "    if nome and id:\n",
    "        rec.append((id, nome, citta, categoria, gruppi, n_recensioni))\n",
    "    else:\n",
    "        print(f\"Dati mancanti per il POI con ID {location_id}\")\n",
    "    \n",
    "    \n",
    "    time.sleep(1)  # Pausa per evitare di superare i limiti dell'API"
   ]
  },
  {
   "cell_type": "code",
   "execution_count": 96,
   "metadata": {},
   "outputs": [],
   "source": [
    "import pandas as pd\n",
    "\n",
    "# creo un file excel con i dati estratti\n",
    "df = pd.DataFrame(rec, columns=['id', 'nome', 'città', 'categoria', 'gruppi', 'numero recensioni'])\n",
    "df.to_excel('poi.xlsx', index=False)\n",
    "\n"
   ]
  },
  {
   "cell_type": "code",
   "execution_count": 111,
   "metadata": {},
   "outputs": [],
   "source": [
    "# cerco il POI con il maggior numero di recensioni\n",
    "n_rec = df['numero recensioni']\n"
   ]
  },
  {
   "cell_type": "code",
   "execution_count": 117,
   "metadata": {},
   "outputs": [],
   "source": [
    "rec = []\n",
    "for i in n_rec:\n",
    "    rec.append(int(i))"
   ]
  },
  {
   "cell_type": "code",
   "execution_count": 122,
   "metadata": {},
   "outputs": [
    {
     "name": "stdout",
     "output_type": "stream",
     "text": [
      "[9513, 6540, 3967, 3159, 2505, 2376, 2218, 1837, 1580, 1473, 1391, 1329, 1284, 1202, 1107, 1064, 920, 892, 844, 804, 796, 632, 587, 557, 488, 476, 446, 441, 441, 440, 417, 414, 403, 388, 388, 373, 366, 357, 348, 346, 345, 315, 309, 294, 291, 286, 284, 275, 274, 263, 252, 248, 239, 239, 236, 234, 228, 223, 218, 212, 209, 207, 204, 202, 202, 198, 189, 188, 172, 168, 168, 166, 166, 162, 162, 161, 159, 157, 156, 153, 150, 149, 146, 141, 135, 127, 124, 124, 123, 121, 119, 116, 115, 114, 113, 108, 107, 106, 104, 104, 104, 102, 100, 100, 99, 98, 98, 97, 96, 96, 96, 94, 93, 92, 92, 87, 86, 82, 81, 80, 79, 78, 77, 76, 76, 74, 74, 74, 73, 72, 72, 71, 71, 70, 66, 66, 65, 65, 65, 65, 65, 64, 63, 63, 63, 63, 63, 62, 62, 62, 61, 60, 60, 59, 59, 59, 58, 58, 57, 57, 57, 57, 56, 56, 55, 55, 54, 53, 53, 53, 53, 53, 52, 52, 52, 52, 51, 51, 51, 50, 50, 49, 49, 48, 48, 47, 47, 46, 46, 46, 46, 45, 45, 45, 45, 45, 45, 44, 44, 44, 43, 43, 42, 42, 42, 41, 41, 41, 40, 39, 39, 39, 39, 37, 37, 37, 37, 37, 36, 36, 35, 35, 35, 35, 35, 34, 34, 34, 33, 33, 33, 33, 32, 32, 32, 32, 32, 32, 32, 31, 31, 31, 31, 30, 30, 30, 30, 29, 29, 29, 29, 28, 28, 27, 27, 27, 27, 27, 26, 26, 26, 26, 25, 25, 25, 25, 25, 25, 24, 24, 24, 24, 23, 23, 23, 22, 22, 22, 22, 21, 21, 21, 21, 21, 20, 20, 20, 20, 20, 19, 19, 19, 19, 19, 19, 19, 19, 18, 18, 18, 18, 18, 17, 17, 17, 17, 17, 17, 17, 17, 16, 16, 16, 16, 16, 16, 15, 15, 15, 15, 15, 15, 14, 14, 14, 14, 14, 14, 14, 14, 14, 14, 14, 14, 14, 14, 14, 14, 14, 14, 13, 13, 13, 13, 13, 13, 13, 13, 12, 12, 12, 12, 12, 12, 12, 12, 12, 12, 12, 12, 12, 11, 11, 11, 11, 11, 11, 11, 11, 11, 11, 11, 11, 11, 11, 11, 11, 11, 11, 10, 10, 10, 10, 10, 10, 10, 10, 10, 9, 9, 9, 9, 9, 9, 9, 9, 9, 9, 9, 9, 9, 9, 9, 9, 9, 9, 9, 9, 9, 9, 9, 9, 9, 8, 8, 8, 8, 8, 8, 8, 8, 8, 8, 8, 8, 8, 8, 8, 8, 7, 7, 7, 7, 7, 7, 7, 7, 7, 7, 7, 7, 7, 7, 7, 7, 7, 7, 7, 7, 6, 6, 6, 6, 6, 6, 6, 6, 6, 6, 6, 6, 6, 6, 6, 6, 6, 6, 6, 6, 6, 6, 6, 5, 5, 5, 5, 5, 5, 5, 5, 5, 5, 5, 5, 5, 5, 5, 5, 5, 5, 5, 5, 5, 5, 4, 4, 4, 4, 4, 4, 4, 4, 4, 4, 4, 4, 4, 4, 4, 4, 4, 4, 4, 4, 4, 4, 4, 4, 4, 4, 4, 4, 4, 4, 4, 4, 4, 4, 4, 4, 4, 4, 4, 3, 3, 3, 3, 3, 3, 3, 3, 3, 3, 3, 3, 3, 3, 3, 3, 3, 3, 3, 3, 3, 3, 3, 3, 3, 3, 3, 3, 3, 3, 3, 3, 3, 3, 3, 3, 3, 3, 3, 3, 3, 3, 3, 3, 3, 3, 3, 3, 3, 3, 3, 3, 3, 3, 3, 3, 3, 2, 2, 2, 2, 2, 2, 2, 2, 2, 2, 2, 2, 2, 2, 2, 2, 2, 2, 2, 2, 2, 2, 2, 2, 2, 2, 2, 2, 2, 2, 2, 2, 2, 2, 2, 2, 2, 2, 2, 2, 2, 2, 2, 2, 2, 2, 2, 2, 2, 2, 2, 2, 2, 2, 2, 2, 2, 2, 2, 2, 2, 2, 2, 2, 2, 2, 2, 2, 2, 2, 2, 2, 2, 2, 2, 2, 2, 2, 2, 2, 2, 2, 2, 2, 2, 2, 2, 2, 2, 2, 1, 1, 1, 1, 1, 1, 1, 1, 1, 1, 1, 1, 1, 1, 1, 1, 1, 1, 1, 1, 1, 1, 1, 1, 1, 1, 1, 1, 1, 1, 1, 1, 1, 1, 1, 1, 1, 1, 1, 1, 1, 1, 1, 1, 1, 1, 1, 1, 1, 1, 1, 1, 1, 1, 1, 1, 1, 1, 1, 1, 1, 1, 1, 1, 1, 1, 1, 1, 1, 1, 1, 1, 1, 1, 1, 1, 1, 1, 1, 1, 1, 1, 1, 1, 1, 1, 1, 1, 1, 1, 1, 1, 1, 1, 1, 1, 1, 1, 1, 1, 1, 1, 1, 1, 1, 1, 1, 1, 0, 0, 0, 0, 0, 0, 0, 0, 0, 0, 0, 0, 0, 0, 0, 0, 0, 0, 0, 0, 0, 0, 0, 0, 0, 0, 0, 0, 0, 0, 0, 0, 0, 0, 0, 0, 0, 0, 0, 0, 0, 0, 0, 0, 0, 0, 0, 0, 0, 0, 0, 0, 0, 0, 0, 0, 0, 0, 0, 0, 0, 0, 0, 0, 0, 0, 0, 0, 0, 0, 0, 0, 0, 0, 0, 0, 0, 0, 0, 0, 0, 0, 0, 0, 0, 0, 0, 0, 0, 0, 0, 0, 0, 0, 0, 0, 0, 0, 0, 0, 0, 0, 0, 0, 0, 0, 0, 0, 0, 0, 0, 0, 0, 0, 0, 0, 0, 0, 0, 0, 0, 0, 0, 0, 0, 0, 0, 0, 0, 0, 0, 0, 0, 0, 0, 0, 0, 0, 0, 0, 0, 0, 0, 0, 0, 0, 0, 0, 0, 0, 0, 0, 0, 0, 0, 0, 0, 0, 0, 0, 0, 0, 0, 0, 0, 0, 0, 0, 0, 0, 0, 0, 0, 0, 0, 0, 0, 0, 0, 0, 0, 0, 0, 0, 0, 0, 0, 0, 0, 0, 0, 0, 0, 0, 0, 0, 0, 0, 0, 0, 0, 0, 0, 0, 0, 0, 0, 0, 0, 0, 0, 0]\n"
     ]
    }
   ],
   "source": [
    "rec.sort(reverse=True)\n",
    "print(rec)"
   ]
  }
 ],
 "metadata": {
  "kernelspec": {
   "display_name": "Python 3",
   "language": "python",
   "name": "python3"
  },
  "language_info": {
   "codemirror_mode": {
    "name": "ipython",
    "version": 3
   },
   "file_extension": ".py",
   "mimetype": "text/x-python",
   "name": "python",
   "nbconvert_exporter": "python",
   "pygments_lexer": "ipython3",
   "version": "3.10.8"
  }
 },
 "nbformat": 4,
 "nbformat_minor": 2
}
