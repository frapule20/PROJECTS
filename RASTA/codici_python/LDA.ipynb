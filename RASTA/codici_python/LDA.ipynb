{
 "cells": [
  {
   "cell_type": "markdown",
   "metadata": {},
   "source": [
    "# LDA - Latent Dirichlet Allocation"
   ]
  },
  {
   "cell_type": "markdown",
   "metadata": {},
   "source": [
    "## Optimization"
   ]
  },
  {
   "cell_type": "code",
   "execution_count": 21,
   "metadata": {},
   "outputs": [],
   "source": [
    "from octis.models.LDA import LDA\n",
    "from octis.dataset.dataset import Dataset\n",
    "from octis.evaluation_metrics.diversity_metrics import TopicDiversity\n",
    "from octis.evaluation_metrics.coherence_metrics import Coherence"
   ]
  },
  {
   "cell_type": "code",
   "execution_count": 22,
   "metadata": {},
   "outputs": [],
   "source": [
    "# percorsi\n",
    "dataset_save = r'C:\\Users\\franc\\Desktop\\PROJECTS\\PROJECTS\\RASTA\\dataset\\dataset_LDA'\n",
    "risultati_TD = r'C:\\Users\\franc\\Desktop\\PROJECTS\\PROJECTS\\RASTA\\risultati\\LDA\\result_TD'\n",
    "risultati_npmi = r'C:\\Users\\franc\\Desktop\\PROJECTS\\PROJECTS\\RASTA\\risultati\\LDA\\result_npmi'"
   ]
  },
  {
   "cell_type": "code",
   "execution_count": 23,
   "metadata": {},
   "outputs": [],
   "source": [
    "dataset = Dataset()\n",
    "dataset.load_custom_dataset_from_folder(dataset_save)"
   ]
  },
  {
   "cell_type": "markdown",
   "metadata": {},
   "source": [
    "### Train a Model"
   ]
  },
  {
   "cell_type": "code",
   "execution_count": 24,
   "metadata": {},
   "outputs": [],
   "source": [
    "# Create Model\n",
    "model = LDA(num_topics=15, )\n",
    "model.partitioning(False)"
   ]
  },
  {
   "cell_type": "code",
   "execution_count": 25,
   "metadata": {},
   "outputs": [],
   "source": [
    "from octis.dataset.dataset import Dataset\n",
    "from octis.models.LDA import LDA\n",
    "\n",
    "model_output = model.train_model(dataset)"
   ]
  },
  {
   "cell_type": "markdown",
   "metadata": {},
   "source": [
    "### Evaluate a Model"
   ]
  },
  {
   "cell_type": "code",
   "execution_count": 26,
   "metadata": {},
   "outputs": [
    {
     "name": "stdout",
     "output_type": "stream",
     "text": [
      "essere centro castello pia storico arte spoleto citta piazza storia\n",
      "trovare centro pia palazzo antico santo interno secolo storico sorgere\n",
      "situare antico centro origine lungo citta trovare essere avere secolo\n",
      "citta costruire fare essere pia lungo storia origine abbazia piazza\n",
      "dedicare citta storia secolo edificio pia nord sorgere affresco essere\n",
      "museo trovare palazzo medievale pia sorgere avere essere opera presentare\n",
      "trovare piccolo chilometro poco essere circa isola sorgere interno the\n",
      "essere piazza parte palazzo costruire borgo venire museo sorgere castello\n",
      "essere secolo citta castello costruire medievale muro sorgere pia interno\n",
      "antico pia piazza borgo via comune storico essere trovare lungo\n",
      "trovare castello borgo secolo sec sorgere parco spoleto piazza museo\n",
      "secolo centro essere edificio meta trovare citta xiv santo avere\n",
      "essere secolo antico centro palazzo trovare storico xiv sorgere citta\n",
      "centro storico trovare piazza museo perugia palazzo sorgere borgo santo\n",
      "borgo citta piccolo zona rosso palazzo colle ricco convento venire\n"
     ]
    }
   ],
   "source": [
    "for t in model_output['topics']:\n",
    "  print(\" \".join(t))"
   ]
  },
  {
   "cell_type": "code",
   "execution_count": 27,
   "metadata": {},
   "outputs": [
    {
     "data": {
      "text/plain": [
       "15"
      ]
     },
     "execution_count": 27,
     "metadata": {},
     "output_type": "execute_result"
    }
   ],
   "source": [
    "len(model_output['topics'])"
   ]
  },
  {
   "cell_type": "code",
   "execution_count": 28,
   "metadata": {},
   "outputs": [],
   "source": [
    "# Initialize metric\n",
    "npmi = Coherence(texts=dataset.get_corpus(), topk=10, measure='c_npmi')"
   ]
  },
  {
   "cell_type": "code",
   "execution_count": 29,
   "metadata": {},
   "outputs": [],
   "source": [
    "# Initialize metric\n",
    "topic_diversity = TopicDiversity(topk=10)"
   ]
  },
  {
   "cell_type": "code",
   "execution_count": 30,
   "metadata": {},
   "outputs": [
    {
     "name": "stdout",
     "output_type": "stream",
     "text": [
      "Topic diversity: 0.36\n",
      "Coherence: -0.11299859829181431\n"
     ]
    }
   ],
   "source": [
    "# Retrieve metrics score\n",
    "topic_diversity_score = topic_diversity.score(model_output)\n",
    "print(\"Topic diversity: \"+str(topic_diversity_score))\n",
    "\n",
    "npmi_score = npmi.score(model_output)\n",
    "print(\"Coherence: \"+str(npmi_score))"
   ]
  },
  {
   "cell_type": "markdown",
   "metadata": {},
   "source": [
    "### Hyperparameter Optimization"
   ]
  },
  {
   "cell_type": "code",
   "execution_count": 31,
   "metadata": {},
   "outputs": [],
   "source": [
    "from octis.optimization.optimizer import Optimizer\n",
    "from skopt.space.space import Real\n",
    "from skopt.space.space import Real, Integer"
   ]
  },
  {
   "cell_type": "markdown",
   "metadata": {},
   "source": [
    "### Topic Diversity"
   ]
  },
  {
   "cell_type": "code",
   "execution_count": 32,
   "metadata": {},
   "outputs": [
    {
     "name": "stdout",
     "output_type": "stream",
     "text": [
      "Current call:  0\n",
      "Current call:  1\n",
      "Current call:  2\n",
      "Current call:  3\n",
      "Current call:  4\n",
      "Current call:  5\n",
      "Current call:  6\n",
      "Current call:  7\n",
      "Current call:  8\n",
      "Current call:  9\n",
      "Current call:  10\n",
      "Current call:  11\n",
      "Current call:  12\n",
      "Current call:  13\n",
      "Current call:  14\n",
      "Current call:  15\n",
      "Current call:  16\n",
      "Current call:  17\n",
      "Current call:  18\n",
      "Current call:  19\n",
      "Current call:  20\n",
      "Current call:  21\n",
      "Current call:  22\n",
      "Current call:  23\n",
      "Current call:  24\n",
      "Current call:  25\n",
      "Current call:  26\n",
      "Current call:  27\n",
      "Current call:  28\n",
      "Current call:  29\n"
     ]
    }
   ],
   "source": [
    "# Define the search space. To see which hyperparameters to optimize, see the topic model's initialization signature\n",
    "search_space = {\"alpha\": Real(low=0.001, high=5.0), \"eta\": Real(low=0.001, high=5.0), \"num_topics\": Integer(low=5, high=15)}\n",
    "\n",
    "# Initialize an optimizer object and start the optimization.\n",
    "optimizer=Optimizer()\n",
    "optResult=optimizer.optimize(model, dataset, topic_diversity, search_space, save_path=risultati_TD, # path to store the results\n",
    "                             number_of_call=30, # number of optimization iterations\n",
    "                             model_runs=5,save_models=False) # number of runs of the topic model\n",
    "#save the results of th optimization in a csv file\n",
    "optResult.save_to_csv(r\"C:\\Users\\franc\\Desktop\\PROJECTS\\PROJECTS\\RASTA\\risultati\\LDA\\result_TD\\result_TD.csv\")"
   ]
  },
  {
   "cell_type": "code",
   "execution_count": 33,
   "metadata": {},
   "outputs": [
    {
     "data": {
      "text/plain": [
       "dict_keys(['dataset_name', 'dataset_path', 'is_cached', 'kernel', 'acq_func', 'surrogate_model', 'optimization_type', 'model_runs', 'save_models', 'save_step', 'save_name', 'save_path', 'early_stop', 'early_step', 'plot_model', 'plot_best_seen', 'plot_name', 'log_scale_plot', 'search_space', 'model_name', 'model_attributes', 'use_partitioning', 'metric_name', 'extra_metric_names', 'metric_attributes', 'extra_metric_attributes', 'current_call', 'number_of_call', 'random_state', 'x0', 'y0', 'n_random_starts', 'initial_point_generator', 'topk', 'time_eval', 'dict_model_runs', 'f_val', 'x_iters'])"
      ]
     },
     "execution_count": 33,
     "metadata": {},
     "output_type": "execute_result"
    }
   ],
   "source": [
    "import json\n",
    "res = json.load(open(r\"C:\\Users\\franc\\Desktop\\PROJECTS\\PROJECTS\\RASTA\\risultati\\LDA\\result_TD\\result.json\",'r'))\n",
    "res.keys()"
   ]
  },
  {
   "cell_type": "code",
   "execution_count": 34,
   "metadata": {},
   "outputs": [
    {
     "name": "stdout",
     "output_type": "stream",
     "text": [
      "Valore migliore di Topic Diversity ottenuto: \n",
      "0.4666666666666667\n",
      "Numero di iterazione: \n",
      "28\n",
      "Valore di alpha:\n",
      "0.3188824628083212\n",
      "Valore di eta:\n",
      "4.788007201380591\n",
      "Numero di topic:\n",
      "6\n"
     ]
    }
   ],
   "source": [
    "# valuto qual è l'iterazione migliore\n",
    "print(\"Valore migliore di Topic Diversity ottenuto: \" )\n",
    "print(max(res[\"f_val\"]))\n",
    "print(\"Numero di iterazione: \")\n",
    "i = 0\n",
    "for j in res[\"f_val\"]:\n",
    "  if(j == max(res[\"f_val\"])):\n",
    "    i += 1\n",
    "    print(i)\n",
    "    break\n",
    "  else:\n",
    "    i += 1\n",
    "alpha = res['x_iters']['alpha'][i-1]\n",
    "eta = res['x_iters']['eta'][i-1]\n",
    "topic = res['x_iters']['num_topics'][i-1]\n",
    "print(\"Valore di alpha:\")\n",
    "print(alpha)\n",
    "print(\"Valore di eta:\")\n",
    "print(eta)\n",
    "print(\"Numero di topic:\")\n",
    "print(topic)"
   ]
  },
  {
   "cell_type": "code",
   "execution_count": 35,
   "metadata": {},
   "outputs": [],
   "source": [
    "# Create Model\n",
    "model_TD = LDA(num_topics= topic, alpha= alpha, eta= eta)\n",
    "model_TD.partitioning(False)"
   ]
  },
  {
   "cell_type": "code",
   "execution_count": 36,
   "metadata": {},
   "outputs": [],
   "source": [
    "model_output_TD = model_TD.train_model(dataset)"
   ]
  },
  {
   "cell_type": "code",
   "execution_count": 37,
   "metadata": {},
   "outputs": [
    {
     "name": "stdout",
     "output_type": "stream",
     "text": [
      "topic-word-matrix\n",
      "topics\n",
      "topic-document-matrix\n"
     ]
    }
   ],
   "source": [
    "print(*list(model_output_TD.keys()), sep=\"\\n\") # Print the output identifiers"
   ]
  },
  {
   "cell_type": "code",
   "execution_count": 38,
   "metadata": {},
   "outputs": [
    {
     "name": "stdout",
     "output_type": "stream",
     "text": [
      "trovare via secolo pia piazza centro the sorgere lungo palazzo\n",
      "trovare essere secolo costruire palazzo pia borgo centro medievale antico\n",
      "essere trovare centro storico piazza palazzo borgo perugia piccolo comune\n",
      "trovare avere citta museo essere centro castello sede poco area\n",
      "citta secolo antico essere sorgere castello monte situare localita museo\n",
      "storico piazza centro sorgere borgo secolo interno essere pia castello\n"
     ]
    }
   ],
   "source": [
    "import pandas as pd \n",
    "\n",
    "for t in model_output_TD['topics']:\n",
    "  print(\" \".join(t))\n",
    "\n",
    "topics = pd.DataFrame(model_output_TD['topics'])\n",
    "topics.to_excel(r'C:\\Users\\franc\\Desktop\\PROJECTS\\PROJECTS\\RASTA\\risultati\\LDA\\result_TD\\topics.xlsx', index=False)  "
   ]
  },
  {
   "cell_type": "code",
   "execution_count": 39,
   "metadata": {},
   "outputs": [],
   "source": [
    "vocabolario = []\n",
    "with open(r'C:\\Users\\franc\\Desktop\\PROJECTS\\PROJECTS\\RASTA\\dataset\\dataset_LDA\\vocabulary.txt', 'r') as file:\n",
    "    for word in file:\n",
    "        vocabolario.append(word)\n"
   ]
  },
  {
   "cell_type": "code",
   "execution_count": 40,
   "metadata": {},
   "outputs": [
    {
     "name": "stdout",
     "output_type": "stream",
     "text": [
      "   abbadesso\\n  abbandonare\\n  abbastanza\\n  abbazia\\n  abbaziale\\n   \n",
      "0     0.000342       0.000392      0.000337   0.000867     0.000337  \\\n",
      "1     0.000423       0.000440      0.000327   0.000768     0.000327   \n",
      "2     0.000434       0.000336      0.000333   0.000856     0.000333   \n",
      "3     0.000414       0.000826      0.000414   0.001106     0.000414   \n",
      "4     0.000411       0.000467      0.000339   0.000565     0.000339   \n",
      "5     0.000335       0.000400      0.000332   0.000515     0.000332   \n",
      "\n",
      "   abitare\\n  abitativo\\n  abitato\\n  abitazione\\n  abolitare\\n  ...   \n",
      "0   0.000337     0.000337   0.000363      0.000354     0.000338  ...  \\\n",
      "1   0.000393     0.000327   0.000690      0.000425     0.000409  ...   \n",
      "2   0.000335     0.000333   0.000379      0.000399     0.000395  ...   \n",
      "3   0.000415     0.000414   0.000432      0.000452     0.000459  ...   \n",
      "4   0.000339     0.000339   0.000341      0.000403     0.000355  ...   \n",
      "5   0.000333     0.000332   0.000427      0.000467     0.000335  ...   \n",
      "\n",
      "   vicinanza\\n  vicino\\n    vico\\n  vicolo\\n   vicus\\n  vigilare\\n     vii\\n   \n",
      "0     0.000337  0.000338  0.000406  0.000406  0.000406    0.000343  0.000343  \\\n",
      "1     0.000327  0.000328  0.000327  0.000327  0.000327    0.000388  0.000388   \n",
      "2     0.000376  0.000333  0.000333  0.000333  0.000333    0.000333  0.000333   \n",
      "3     0.000344  0.000345  0.000344  0.000344  0.000344    0.000345  0.000345   \n",
      "4     0.000347  0.000406  0.000339  0.000339  0.000339    0.000339  0.000339   \n",
      "5     0.000349  0.000332  0.000332  0.000332  0.000332    0.000332  0.000332   \n",
      "\n",
      "    villa\\n  villaggio\\n     vin\\n  \n",
      "0  0.000340     0.000340  0.000403  \n",
      "1  0.000330     0.000333  0.000328  \n",
      "2  0.000335     0.000335  0.000333  \n",
      "3  0.000473     0.000466  0.000345  \n",
      "4  0.000341     0.000342  0.000339  \n",
      "5  0.000335     0.000337  0.000333  \n",
      "\n",
      "[6 rows x 2712 columns]\n"
     ]
    }
   ],
   "source": [
    "# Carica la matrice topic-word in un DataFrame pandas\n",
    "topic_word_matrix = pd.DataFrame(model_output_TD['topic-word-matrix'])\n",
    "\n",
    "# Imposta i nomi delle colonne come parole\n",
    "\n",
    "# Ottieni i primi k termini da ciascuna riga come nomi di colonna\n",
    "topic_word_matrix.columns = [vocabolario[i] for i in range(topic_word_matrix.shape[1])]\n",
    "\n",
    "# Stampa il DataFrame\n",
    "print(topic_word_matrix)\n",
    "\n",
    "topic_word_matrix.to_excel(r'C:\\Users\\franc\\Desktop\\PROJECTS\\PROJECTS\\RASTA\\risultati\\LDA\\result_TD\\topic_word_matrix.xlsx', index=False)  "
   ]
  },
  {
   "cell_type": "code",
   "execution_count": 41,
   "metadata": {},
   "outputs": [],
   "source": [
    "import pandas as pd\n",
    "\n",
    "corpus_processed = pd.read_csv(r'C:\\Users\\franc\\Desktop\\PROJECTS\\PROJECTS\\RASTA\\dataset\\dataset_LDA\\corpus.tsv', sep='\\t', header=None)\n",
    "corpus_processed\n",
    "new_df = pd.DataFrame(corpus_processed[0])"
   ]
  },
  {
   "cell_type": "code",
   "execution_count": 42,
   "metadata": {},
   "outputs": [
    {
     "data": {
      "text/html": [
       "<div>\n",
       "<style scoped>\n",
       "    .dataframe tbody tr th:only-of-type {\n",
       "        vertical-align: middle;\n",
       "    }\n",
       "\n",
       "    .dataframe tbody tr th {\n",
       "        vertical-align: top;\n",
       "    }\n",
       "\n",
       "    .dataframe thead th {\n",
       "        text-align: right;\n",
       "    }\n",
       "</style>\n",
       "<table border=\"1\" class=\"dataframe\">\n",
       "  <thead>\n",
       "    <tr style=\"text-align: right;\">\n",
       "      <th></th>\n",
       "      <th>0</th>\n",
       "      <th>1</th>\n",
       "      <th>2</th>\n",
       "      <th>3</th>\n",
       "      <th>4</th>\n",
       "      <th>5</th>\n",
       "      <th>6</th>\n",
       "    </tr>\n",
       "  </thead>\n",
       "  <tbody>\n",
       "    <tr>\n",
       "      <th>0</th>\n",
       "      <td>area boschivo oltre avere situare altitudine f...</td>\n",
       "      <td>0.026696</td>\n",
       "      <td>0.027049</td>\n",
       "      <td>0.026850</td>\n",
       "      <td>0.865834</td>\n",
       "      <td>0.026925</td>\n",
       "      <td>0.026646</td>\n",
       "    </tr>\n",
       "    <tr>\n",
       "      <th>1</th>\n",
       "      <td>vicino stroncone borgo medievale arroccare col...</td>\n",
       "      <td>0.015544</td>\n",
       "      <td>0.511110</td>\n",
       "      <td>0.015735</td>\n",
       "      <td>0.015652</td>\n",
       "      <td>0.426131</td>\n",
       "      <td>0.015827</td>\n",
       "    </tr>\n",
       "    <tr>\n",
       "      <th>2</th>\n",
       "      <td>gola nera natura cultura storia incontrare olt...</td>\n",
       "      <td>0.016364</td>\n",
       "      <td>0.016643</td>\n",
       "      <td>0.178441</td>\n",
       "      <td>0.755044</td>\n",
       "      <td>0.016744</td>\n",
       "      <td>0.016764</td>\n",
       "    </tr>\n",
       "    <tr>\n",
       "      <th>3</th>\n",
       "      <td>rocca trovare isola polvese insieme isola magg...</td>\n",
       "      <td>0.027733</td>\n",
       "      <td>0.027948</td>\n",
       "      <td>0.674449</td>\n",
       "      <td>0.214924</td>\n",
       "      <td>0.027418</td>\n",
       "      <td>0.027528</td>\n",
       "    </tr>\n",
       "    <tr>\n",
       "      <th>4</th>\n",
       "      <td>laisolare maggiore secondo grandezza lago tras...</td>\n",
       "      <td>0.013775</td>\n",
       "      <td>0.932216</td>\n",
       "      <td>0.013534</td>\n",
       "      <td>0.013639</td>\n",
       "      <td>0.013291</td>\n",
       "      <td>0.013544</td>\n",
       "    </tr>\n",
       "    <tr>\n",
       "      <th>...</th>\n",
       "      <td>...</td>\n",
       "      <td>...</td>\n",
       "      <td>...</td>\n",
       "      <td>...</td>\n",
       "      <td>...</td>\n",
       "      <td>...</td>\n",
       "      <td>...</td>\n",
       "    </tr>\n",
       "    <tr>\n",
       "      <th>568</th>\n",
       "      <td>unaopera arte ziggurart numeroso artista inter...</td>\n",
       "      <td>0.858178</td>\n",
       "      <td>0.028255</td>\n",
       "      <td>0.028369</td>\n",
       "      <td>0.028901</td>\n",
       "      <td>0.028127</td>\n",
       "      <td>0.028171</td>\n",
       "    </tr>\n",
       "    <tr>\n",
       "      <th>569</th>\n",
       "      <td>spazio espositivo punto arrivo crescente ricer...</td>\n",
       "      <td>0.031084</td>\n",
       "      <td>0.845502</td>\n",
       "      <td>0.030531</td>\n",
       "      <td>0.030662</td>\n",
       "      <td>0.031828</td>\n",
       "      <td>0.030393</td>\n",
       "    </tr>\n",
       "    <tr>\n",
       "      <th>570</th>\n",
       "      <td>descrizione mancare</td>\n",
       "      <td>0.092989</td>\n",
       "      <td>0.092560</td>\n",
       "      <td>0.092729</td>\n",
       "      <td>0.535825</td>\n",
       "      <td>0.093116</td>\n",
       "      <td>0.092781</td>\n",
       "    </tr>\n",
       "    <tr>\n",
       "      <th>571</th>\n",
       "      <td>antico castello immerso millenario</td>\n",
       "      <td>0.065344</td>\n",
       "      <td>0.063461</td>\n",
       "      <td>0.062595</td>\n",
       "      <td>0.066475</td>\n",
       "      <td>0.678048</td>\n",
       "      <td>0.064077</td>\n",
       "    </tr>\n",
       "    <tr>\n",
       "      <th>572</th>\n",
       "      <td>descrizione mancare</td>\n",
       "      <td>0.092999</td>\n",
       "      <td>0.092559</td>\n",
       "      <td>0.092723</td>\n",
       "      <td>0.535822</td>\n",
       "      <td>0.093109</td>\n",
       "      <td>0.092789</td>\n",
       "    </tr>\n",
       "  </tbody>\n",
       "</table>\n",
       "<p>573 rows × 7 columns</p>\n",
       "</div>"
      ],
      "text/plain": [
       "                                                     0         1         2   \n",
       "0    area boschivo oltre avere situare altitudine f...  0.026696  0.027049  \\\n",
       "1    vicino stroncone borgo medievale arroccare col...  0.015544  0.511110   \n",
       "2    gola nera natura cultura storia incontrare olt...  0.016364  0.016643   \n",
       "3    rocca trovare isola polvese insieme isola magg...  0.027733  0.027948   \n",
       "4    laisolare maggiore secondo grandezza lago tras...  0.013775  0.932216   \n",
       "..                                                 ...       ...       ...   \n",
       "568  unaopera arte ziggurart numeroso artista inter...  0.858178  0.028255   \n",
       "569  spazio espositivo punto arrivo crescente ricer...  0.031084  0.845502   \n",
       "570                                descrizione mancare  0.092989  0.092560   \n",
       "571                 antico castello immerso millenario  0.065344  0.063461   \n",
       "572                                descrizione mancare  0.092999  0.092559   \n",
       "\n",
       "            3         4         5         6  \n",
       "0    0.026850  0.865834  0.026925  0.026646  \n",
       "1    0.015735  0.015652  0.426131  0.015827  \n",
       "2    0.178441  0.755044  0.016744  0.016764  \n",
       "3    0.674449  0.214924  0.027418  0.027528  \n",
       "4    0.013534  0.013639  0.013291  0.013544  \n",
       "..        ...       ...       ...       ...  \n",
       "568  0.028369  0.028901  0.028127  0.028171  \n",
       "569  0.030531  0.030662  0.031828  0.030393  \n",
       "570  0.092729  0.535825  0.093116  0.092781  \n",
       "571  0.062595  0.066475  0.678048  0.064077  \n",
       "572  0.092723  0.535822  0.093109  0.092789  \n",
       "\n",
       "[573 rows x 7 columns]"
      ]
     },
     "execution_count": 42,
     "metadata": {},
     "output_type": "execute_result"
    }
   ],
   "source": [
    "num = 1\n",
    "for topic in model_output_TD['topic-document-matrix']:\n",
    "  for i in range(0,len(topic)):\n",
    "    new_df.loc[i,num] = topic[i]\n",
    "  num = num+1\n",
    "new_df"
   ]
  },
  {
   "cell_type": "code",
   "execution_count": 43,
   "metadata": {},
   "outputs": [],
   "source": [
    "# la salvo\n",
    "new_df.to_excel(r'C:\\Users\\franc\\Desktop\\PROJECTS\\PROJECTS\\RASTA\\risultati\\LDA\\result_TD\\topic-document-matrix.xlsx', index=False)  "
   ]
  },
  {
   "cell_type": "code",
   "execution_count": 44,
   "metadata": {},
   "outputs": [
    {
     "name": "stdout",
     "output_type": "stream",
     "text": [
      "Topic diversity: 0.5\n",
      "Coherence: -0.049901799156060245\n"
     ]
    }
   ],
   "source": [
    "# Retrieve metrics score\n",
    "topic_diversity_score = topic_diversity.score(model_output_TD)\n",
    "print(\"Topic diversity: \"+str(topic_diversity_score))\n",
    "\n",
    "npmi_score = npmi.score(model_output_TD)\n",
    "print(\"Coherence: \"+str(npmi_score))"
   ]
  },
  {
   "cell_type": "markdown",
   "metadata": {},
   "source": [
    "### Topic Coherence"
   ]
  },
  {
   "cell_type": "code",
   "execution_count": 45,
   "metadata": {},
   "outputs": [
    {
     "name": "stdout",
     "output_type": "stream",
     "text": [
      "Current call:  0\n",
      "Current call:  1\n",
      "Current call:  2\n",
      "Current call:  3\n",
      "Current call:  4\n",
      "Current call:  5\n",
      "Current call:  6\n",
      "Current call:  7\n",
      "Current call:  8\n",
      "Current call:  9\n",
      "Current call:  10\n",
      "Current call:  11\n",
      "Current call:  12\n",
      "Current call:  13\n",
      "Current call:  14\n",
      "Current call:  15\n",
      "Current call:  16\n",
      "Current call:  17\n",
      "Current call:  18\n",
      "Current call:  19\n",
      "Current call:  20\n",
      "Current call:  21\n",
      "Current call:  22\n",
      "Current call:  23\n",
      "Current call:  24\n",
      "Current call:  25\n",
      "Current call:  26\n",
      "Current call:  27\n",
      "Current call:  28\n",
      "Current call:  29\n"
     ]
    }
   ],
   "source": [
    "# Define the search space. To see which hyperparameters to optimize, see the topic model's initialization signature\n",
    "search_space = {\"alpha\": Real(low=0.001, high=5.0), \"eta\": Real(low=0.001, high=5.0), \"num_topics\": Integer(low=5, high=15)}\n",
    "\n",
    "# Initialize an optimizer object and start the optimization.\n",
    "optimizer=Optimizer()\n",
    "optResult=optimizer.optimize(model, dataset, npmi, search_space, save_path= risultati_npmi, # path to store the results\n",
    "                             number_of_call=30, # number of optimization iterations\n",
    "                             model_runs=5,save_models=False) # number of runs of the topic model\n",
    "#save the results of th optimization in a csv file\n",
    "optResult.save_to_csv(r\"C:\\Users\\franc\\Desktop\\PROJECTS\\PROJECTS\\RASTA\\risultati\\LDA\\result_npmi\\result_npmi.csv\")"
   ]
  },
  {
   "cell_type": "code",
   "execution_count": 46,
   "metadata": {},
   "outputs": [
    {
     "data": {
      "text/plain": [
       "dict_keys(['dataset_name', 'dataset_path', 'is_cached', 'kernel', 'acq_func', 'surrogate_model', 'optimization_type', 'model_runs', 'save_models', 'save_step', 'save_name', 'save_path', 'early_stop', 'early_step', 'plot_model', 'plot_best_seen', 'plot_name', 'log_scale_plot', 'search_space', 'model_name', 'model_attributes', 'use_partitioning', 'metric_name', 'extra_metric_names', 'metric_attributes', 'extra_metric_attributes', 'current_call', 'number_of_call', 'random_state', 'x0', 'y0', 'n_random_starts', 'initial_point_generator', 'topk', 'time_eval', 'dict_model_runs', 'f_val', 'x_iters'])"
      ]
     },
     "execution_count": 46,
     "metadata": {},
     "output_type": "execute_result"
    }
   ],
   "source": [
    "import json\n",
    "res = json.load(open(r\"C:\\Users\\franc\\Desktop\\PROJECTS\\PROJECTS\\RASTA\\risultati\\LDA\\result_npmi\\result.json\",'r'))\n",
    "res.keys()"
   ]
  },
  {
   "cell_type": "code",
   "execution_count": 47,
   "metadata": {},
   "outputs": [
    {
     "name": "stdout",
     "output_type": "stream",
     "text": [
      "Valore migliore di Topic Diversity ottenuto: \n",
      "-0.009620424939827498\n",
      "Numero di iterazione: \n",
      "28\n",
      "Valore di alpha:\n",
      "1.155593290636778\n",
      "Valore di eta:\n",
      "4.389407023021437\n",
      "Numero di topic:\n",
      "7\n"
     ]
    }
   ],
   "source": [
    "# valuto qual è l'iterazione migliore\n",
    "print(\"Valore migliore di Topic Coherence ottenuto: \" )\n",
    "print(max(res[\"f_val\"]))\n",
    "print(\"Numero di iterazione: \")\n",
    "i = 0\n",
    "for j in res[\"f_val\"]:\n",
    "  if(j == max(res[\"f_val\"])):\n",
    "    i += 1\n",
    "    print(i)\n",
    "    break\n",
    "  else:\n",
    "    i += 1\n",
    "alpha = res['x_iters']['alpha'][i-1]\n",
    "eta = res['x_iters']['eta'][i-1]\n",
    "topic = res['x_iters']['num_topics'][i-1]\n",
    "print(\"Valore di alpha:\")\n",
    "print(alpha)\n",
    "print(\"Valore di eta:\")\n",
    "print(eta)\n",
    "print(\"Numero di topic:\")\n",
    "print(topic)"
   ]
  },
  {
   "cell_type": "code",
   "execution_count": 48,
   "metadata": {},
   "outputs": [],
   "source": [
    "# Create Model\n",
    "model_npmi = LDA(num_topics= topic, alpha= alpha, eta= eta)\n",
    "model_npmi.partitioning(False)"
   ]
  },
  {
   "cell_type": "code",
   "execution_count": 49,
   "metadata": {},
   "outputs": [],
   "source": [
    "model_output_npmi = model_npmi.train_model(dataset)"
   ]
  },
  {
   "cell_type": "code",
   "execution_count": 50,
   "metadata": {},
   "outputs": [
    {
     "name": "stdout",
     "output_type": "stream",
     "text": [
      "centro trovare essere secolo citta sorgere pia costruire piazza palazzo\n",
      "trovare essere secolo centro pia antico piazza borgo castello piccolo\n",
      "essere trovare citta piazza secolo sorgere palazzo antico centro storico\n",
      "trovare essere centro antico pia secolo piazza storico borgo citta\n",
      "essere secolo centro citta antico piazza trovare sorgere storico lungo\n",
      "centro essere secolo trovare piazza citta pia borgo antico castello\n",
      "trovare secolo essere pia citta piazza centro palazzo sorgere storico\n"
     ]
    }
   ],
   "source": [
    "for t in model_output_npmi['topics']:\n",
    "  print(\" \".join(t))\n",
    "\n",
    "topics = pd.DataFrame(model_output_npmi['topics'])\n",
    "topics.to_excel(r'C:\\Users\\franc\\Desktop\\PROJECTS\\PROJECTS\\RASTA\\risultati\\LDA\\result_npmi\\topics.xlsx', index=False)  "
   ]
  },
  {
   "cell_type": "code",
   "execution_count": 51,
   "metadata": {},
   "outputs": [
    {
     "name": "stdout",
     "output_type": "stream",
     "text": [
      "   abbadesso\\n  abbandonare\\n  abbastanza\\n  abbazia\\n  abbaziale\\n   \n",
      "0     0.000379       0.000435      0.000346   0.000693     0.000343  \\\n",
      "1     0.000386       0.000485      0.000349   0.000844     0.000349   \n",
      "2     0.000406       0.000446      0.000346   0.000691     0.000347   \n",
      "3     0.000414       0.000476      0.000349   0.000747     0.000348   \n",
      "4     0.000378       0.000466      0.000348   0.000806     0.000352   \n",
      "5     0.000386       0.000460      0.000348   0.000831     0.000348   \n",
      "6     0.000393       0.000513      0.000350   0.000663     0.000348   \n",
      "\n",
      "   abitare\\n  abitativo\\n  abitato\\n  abitazione\\n  abolitare\\n  ...   \n",
      "0   0.000353     0.000344   0.000422      0.000409     0.000374  ...  \\\n",
      "1   0.000358     0.000349   0.000444      0.000419     0.000375  ...   \n",
      "2   0.000358     0.000348   0.000444      0.000401     0.000383  ...   \n",
      "3   0.000356     0.000348   0.000404      0.000420     0.000389  ...   \n",
      "4   0.000370     0.000352   0.000452      0.000431     0.000389  ...   \n",
      "5   0.000358     0.000349   0.000451      0.000391     0.000380  ...   \n",
      "6   0.000360     0.000347   0.000433      0.000425     0.000377  ...   \n",
      "\n",
      "   vicinanza\\n  vicino\\n    vico\\n  vicolo\\n   vicus\\n  vigilare\\n     vii\\n   \n",
      "0     0.000349  0.000348  0.000348  0.000348  0.000348    0.000347  0.000346  \\\n",
      "1     0.000348  0.000349  0.000350  0.000352  0.000350    0.000349  0.000350   \n",
      "2     0.000344  0.000346  0.000347  0.000346  0.000349    0.000348  0.000347   \n",
      "3     0.000348  0.000347  0.000345  0.000348  0.000342    0.000346  0.000344   \n",
      "4     0.000347  0.000347  0.000346  0.000345  0.000348    0.000347  0.000347   \n",
      "5     0.000348  0.000350  0.000349  0.000348  0.000349    0.000352  0.000353   \n",
      "6     0.000351  0.000349  0.000352  0.000350  0.000351    0.000347  0.000349   \n",
      "\n",
      "    villa\\n  villaggio\\n     vin\\n  \n",
      "0  0.000356     0.000358  0.000345  \n",
      "1  0.000358     0.000358  0.000347  \n",
      "2  0.000358     0.000362  0.000350  \n",
      "3  0.000356     0.000351  0.000349  \n",
      "4  0.000360     0.000358  0.000351  \n",
      "5  0.000370     0.000360  0.000347  \n",
      "6  0.000356     0.000365  0.000347  \n",
      "\n",
      "[7 rows x 2712 columns]\n"
     ]
    }
   ],
   "source": [
    "# Carica la matrice topic-word in un DataFrame pandas\n",
    "topic_word_matrix = pd.DataFrame(model_output_npmi['topic-word-matrix'])\n",
    "\n",
    "# Imposta i nomi delle colonne come parole\n",
    "\n",
    "# Ottieni i primi k termini da ciascuna riga come nomi di colonna\n",
    "topic_word_matrix.columns = [vocabolario[i] for i in range(topic_word_matrix.shape[1])]\n",
    "\n",
    "# Stampa il DataFrame\n",
    "print(topic_word_matrix)\n",
    "\n",
    "topic_word_matrix.to_excel(r'C:\\Users\\franc\\Desktop\\PROJECTS\\PROJECTS\\RASTA\\risultati\\LDA\\result_npmi\\topic_word_matrix.xlsx', index=False)  "
   ]
  },
  {
   "cell_type": "code",
   "execution_count": 52,
   "metadata": {},
   "outputs": [
    {
     "data": {
      "text/html": [
       "<div>\n",
       "<style scoped>\n",
       "    .dataframe tbody tr th:only-of-type {\n",
       "        vertical-align: middle;\n",
       "    }\n",
       "\n",
       "    .dataframe tbody tr th {\n",
       "        vertical-align: top;\n",
       "    }\n",
       "\n",
       "    .dataframe thead th {\n",
       "        text-align: right;\n",
       "    }\n",
       "</style>\n",
       "<table border=\"1\" class=\"dataframe\">\n",
       "  <thead>\n",
       "    <tr style=\"text-align: right;\">\n",
       "      <th></th>\n",
       "      <th>0</th>\n",
       "      <th>1</th>\n",
       "      <th>2</th>\n",
       "      <th>3</th>\n",
       "      <th>4</th>\n",
       "      <th>5</th>\n",
       "      <th>6</th>\n",
       "      <th>7</th>\n",
       "    </tr>\n",
       "  </thead>\n",
       "  <tbody>\n",
       "    <tr>\n",
       "      <th>0</th>\n",
       "      <td>area boschivo oltre avere situare altitudine f...</td>\n",
       "      <td>0.133597</td>\n",
       "      <td>0.144934</td>\n",
       "      <td>0.142614</td>\n",
       "      <td>0.147144</td>\n",
       "      <td>0.150494</td>\n",
       "      <td>0.138543</td>\n",
       "      <td>0.142673</td>\n",
       "    </tr>\n",
       "    <tr>\n",
       "      <th>1</th>\n",
       "      <td>vicino stroncone borgo medievale arroccare col...</td>\n",
       "      <td>0.134117</td>\n",
       "      <td>0.148253</td>\n",
       "      <td>0.130414</td>\n",
       "      <td>0.152439</td>\n",
       "      <td>0.160951</td>\n",
       "      <td>0.143436</td>\n",
       "      <td>0.130390</td>\n",
       "    </tr>\n",
       "    <tr>\n",
       "      <th>2</th>\n",
       "      <td>gola nera natura cultura storia incontrare olt...</td>\n",
       "      <td>0.145065</td>\n",
       "      <td>0.129584</td>\n",
       "      <td>0.143882</td>\n",
       "      <td>0.149317</td>\n",
       "      <td>0.142342</td>\n",
       "      <td>0.145642</td>\n",
       "      <td>0.144169</td>\n",
       "    </tr>\n",
       "    <tr>\n",
       "      <th>3</th>\n",
       "      <td>rocca trovare isola polvese insieme isola magg...</td>\n",
       "      <td>0.149813</td>\n",
       "      <td>0.147298</td>\n",
       "      <td>0.135353</td>\n",
       "      <td>0.146976</td>\n",
       "      <td>0.137082</td>\n",
       "      <td>0.141302</td>\n",
       "      <td>0.142177</td>\n",
       "    </tr>\n",
       "    <tr>\n",
       "      <th>4</th>\n",
       "      <td>laisolare maggiore secondo grandezza lago tras...</td>\n",
       "      <td>0.143677</td>\n",
       "      <td>0.135070</td>\n",
       "      <td>0.149018</td>\n",
       "      <td>0.147467</td>\n",
       "      <td>0.143940</td>\n",
       "      <td>0.148448</td>\n",
       "      <td>0.132380</td>\n",
       "    </tr>\n",
       "    <tr>\n",
       "      <th>...</th>\n",
       "      <td>...</td>\n",
       "      <td>...</td>\n",
       "      <td>...</td>\n",
       "      <td>...</td>\n",
       "      <td>...</td>\n",
       "      <td>...</td>\n",
       "      <td>...</td>\n",
       "      <td>...</td>\n",
       "    </tr>\n",
       "    <tr>\n",
       "      <th>568</th>\n",
       "      <td>unaopera arte ziggurart numeroso artista inter...</td>\n",
       "      <td>0.140695</td>\n",
       "      <td>0.145405</td>\n",
       "      <td>0.143521</td>\n",
       "      <td>0.137199</td>\n",
       "      <td>0.143245</td>\n",
       "      <td>0.146931</td>\n",
       "      <td>0.143003</td>\n",
       "    </tr>\n",
       "    <tr>\n",
       "      <th>569</th>\n",
       "      <td>spazio espositivo punto arrivo crescente ricer...</td>\n",
       "      <td>0.145143</td>\n",
       "      <td>0.140754</td>\n",
       "      <td>0.147835</td>\n",
       "      <td>0.139034</td>\n",
       "      <td>0.141286</td>\n",
       "      <td>0.145924</td>\n",
       "      <td>0.140026</td>\n",
       "    </tr>\n",
       "    <tr>\n",
       "      <th>570</th>\n",
       "      <td>descrizione mancare</td>\n",
       "      <td>0.142629</td>\n",
       "      <td>0.142752</td>\n",
       "      <td>0.142968</td>\n",
       "      <td>0.142143</td>\n",
       "      <td>0.142856</td>\n",
       "      <td>0.143622</td>\n",
       "      <td>0.143030</td>\n",
       "    </tr>\n",
       "    <tr>\n",
       "      <th>571</th>\n",
       "      <td>antico castello immerso millenario</td>\n",
       "      <td>0.139435</td>\n",
       "      <td>0.145529</td>\n",
       "      <td>0.144008</td>\n",
       "      <td>0.147970</td>\n",
       "      <td>0.144273</td>\n",
       "      <td>0.142541</td>\n",
       "      <td>0.136244</td>\n",
       "    </tr>\n",
       "    <tr>\n",
       "      <th>572</th>\n",
       "      <td>descrizione mancare</td>\n",
       "      <td>0.142655</td>\n",
       "      <td>0.142655</td>\n",
       "      <td>0.142979</td>\n",
       "      <td>0.142166</td>\n",
       "      <td>0.142863</td>\n",
       "      <td>0.143634</td>\n",
       "      <td>0.143048</td>\n",
       "    </tr>\n",
       "  </tbody>\n",
       "</table>\n",
       "<p>573 rows × 8 columns</p>\n",
       "</div>"
      ],
      "text/plain": [
       "                                                     0         1         2   \n",
       "0    area boschivo oltre avere situare altitudine f...  0.133597  0.144934  \\\n",
       "1    vicino stroncone borgo medievale arroccare col...  0.134117  0.148253   \n",
       "2    gola nera natura cultura storia incontrare olt...  0.145065  0.129584   \n",
       "3    rocca trovare isola polvese insieme isola magg...  0.149813  0.147298   \n",
       "4    laisolare maggiore secondo grandezza lago tras...  0.143677  0.135070   \n",
       "..                                                 ...       ...       ...   \n",
       "568  unaopera arte ziggurart numeroso artista inter...  0.140695  0.145405   \n",
       "569  spazio espositivo punto arrivo crescente ricer...  0.145143  0.140754   \n",
       "570                                descrizione mancare  0.142629  0.142752   \n",
       "571                 antico castello immerso millenario  0.139435  0.145529   \n",
       "572                                descrizione mancare  0.142655  0.142655   \n",
       "\n",
       "            3         4         5         6         7  \n",
       "0    0.142614  0.147144  0.150494  0.138543  0.142673  \n",
       "1    0.130414  0.152439  0.160951  0.143436  0.130390  \n",
       "2    0.143882  0.149317  0.142342  0.145642  0.144169  \n",
       "3    0.135353  0.146976  0.137082  0.141302  0.142177  \n",
       "4    0.149018  0.147467  0.143940  0.148448  0.132380  \n",
       "..        ...       ...       ...       ...       ...  \n",
       "568  0.143521  0.137199  0.143245  0.146931  0.143003  \n",
       "569  0.147835  0.139034  0.141286  0.145924  0.140026  \n",
       "570  0.142968  0.142143  0.142856  0.143622  0.143030  \n",
       "571  0.144008  0.147970  0.144273  0.142541  0.136244  \n",
       "572  0.142979  0.142166  0.142863  0.143634  0.143048  \n",
       "\n",
       "[573 rows x 8 columns]"
      ]
     },
     "execution_count": 52,
     "metadata": {},
     "output_type": "execute_result"
    }
   ],
   "source": [
    "num = 1\n",
    "for topic in model_output_npmi['topic-document-matrix']:\n",
    "  for i in range(0,len(topic)):\n",
    "    new_df.loc[i,num] = topic[i]\n",
    "  num = num+1\n",
    "new_df"
   ]
  },
  {
   "cell_type": "code",
   "execution_count": 53,
   "metadata": {},
   "outputs": [],
   "source": [
    "# la salvo\n",
    "new_df.to_excel(r'C:\\Users\\franc\\Desktop\\PROJECTS\\PROJECTS\\RASTA\\risultati\\LDA\\result_npmi\\topic-document-matrix.xlsx', index=False)  "
   ]
  },
  {
   "cell_type": "code",
   "execution_count": 54,
   "metadata": {},
   "outputs": [
    {
     "name": "stdout",
     "output_type": "stream",
     "text": [
      "Topic diversity: 0.22857142857142856\n",
      "Coherence: -0.01068994641211756\n"
     ]
    }
   ],
   "source": [
    "# Retrieve metrics score\n",
    "topic_diversity_score = topic_diversity.score(model_output_npmi)\n",
    "print(\"Topic diversity: \"+str(topic_diversity_score))\n",
    "\n",
    "npmi_score = npmi.score(model_output_npmi)\n",
    "print(\"Coherence: \"+str(npmi_score))"
   ]
  }
 ],
 "metadata": {
  "kernelspec": {
   "display_name": "Python 3",
   "language": "python",
   "name": "python3"
  },
  "language_info": {
   "codemirror_mode": {
    "name": "ipython",
    "version": 3
   },
   "file_extension": ".py",
   "mimetype": "text/x-python",
   "name": "python",
   "nbconvert_exporter": "python",
   "pygments_lexer": "ipython3",
   "version": "3.10.8"
  }
 },
 "nbformat": 4,
 "nbformat_minor": 2
}
