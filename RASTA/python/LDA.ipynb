{
 "cells": [
  {
   "cell_type": "markdown",
   "metadata": {},
   "source": [
    "# LDA - Latent Dirichlet Allocation"
   ]
  },
  {
   "cell_type": "markdown",
   "metadata": {},
   "source": [
    "## Optimization"
   ]
  },
  {
   "cell_type": "code",
   "execution_count": 4,
   "metadata": {},
   "outputs": [],
   "source": [
    "from octis.models.LDA import LDA\n",
    "from octis.dataset.dataset import Dataset\n",
    "from octis.evaluation_metrics.diversity_metrics import TopicDiversity\n",
    "from octis.evaluation_metrics.coherence_metrics import Coherence"
   ]
  },
  {
   "cell_type": "code",
   "execution_count": 5,
   "metadata": {},
   "outputs": [],
   "source": [
    "# percorsi\n",
    "dataset_save = r'C:\\Users\\franc\\Desktop\\PROJECTS\\PROJECTS\\RASTA\\dataset'\n",
    "risultati_TD = r'C:\\Users\\franc\\Desktop\\PROJECTS\\PROJECTS\\RASTA\\risultati\\LDA\\result_TD'\n",
    "risultati_npmi = r'C:\\Users\\franc\\Desktop\\PROJECTS\\PROJECTS\\RASTA\\risultati\\LDA\\result_npmi'"
   ]
  },
  {
   "cell_type": "code",
   "execution_count": 6,
   "metadata": {},
   "outputs": [],
   "source": [
    "dataset = Dataset()\n",
    "dataset.load_custom_dataset_from_folder(dataset_save)"
   ]
  },
  {
   "cell_type": "markdown",
   "metadata": {},
   "source": [
    "### Train a Model"
   ]
  },
  {
   "cell_type": "code",
   "execution_count": 7,
   "metadata": {},
   "outputs": [],
   "source": [
    "# Create Model\n",
    "model = LDA(num_topics=30)\n",
    "model.partitioning(False)"
   ]
  },
  {
   "cell_type": "code",
   "execution_count": 8,
   "metadata": {},
   "outputs": [],
   "source": [
    "from octis.dataset.dataset import Dataset\n",
    "from octis.models.LDA import LDA\n",
    "\n",
    "model_output = model.train_model(dataset)"
   ]
  },
  {
   "cell_type": "markdown",
   "metadata": {},
   "source": [
    "### Evaluate a Model"
   ]
  },
  {
   "cell_type": "code",
   "execution_count": 9,
   "metadata": {},
   "outputs": [
    {
     "name": "stdout",
     "output_type": "stream",
     "text": [
      "centro storico chiesa secolo palazzo san sorge santa borgo castello\n",
      "castello trova citta borgo abbazia colle collina clitunno luogo storico\n",
      "san chiesa secolo parte museo pia importante maria gualdo risalente\n",
      "chiesa the palazzo piazza trova centro interno lungo antico eretta\n",
      "parte citta arte norcia contesto sede attivita viene stagionato due\n",
      "chiesa secolo trova citta via poco costruito sorge prima lungo\n",
      "trova lungo centro borgo chiesa vicino celebre corso antica palazzo\n",
      "sorge castello storia numerosi tevere san amelia secolo via borgo\n",
      "chiesa san francesco secolo citta centro piazza costruita santo francescano\n",
      "san piazza trova chiesa francesco secolo perugia palazzo pia museo\n",
      "chiesa via centro san trova citta antico storico perugia mura\n",
      "san edificio chiesa gualdo lato tadino piazza domina maria due\n",
      "san allainterno chiesa centro sorge citta francesco borgo museo santa\n",
      "colle trova romana secolo todi palazzo valle pia san piazza\n",
      "san centro museo assisi chiesa citta nucleo sorge etrusca arcangelo\n",
      "trova san castello chiesa circa citta pia spoleto mongiovino fuori\n",
      "umbria interno borgo mura situata madonna frazione cultura comune alcuni\n",
      "pia citta francescano perugia etrusca storico centro palazzo francesco rappresenta\n",
      "parco primo fra eretto comune umbriaa francescani montacchione monotematico base\n",
      "pia san storia chiesa centro borgo produzione vin secoli solamente\n",
      "palazzo chiesa centro secolo san piazza storico citta sorge maria\n",
      "the secolo centro edificata chiesa citta san antico castello immerso\n",
      "chiesa zona francesco san due the faina pia museo storia\n",
      "situato foligno guardea interno palazzo gia importante esempio tre tracce\n",
      "chiesa san trova secolo francesco santa sorge venne pia maggiore\n",
      "chiesa monte storia orvieto san santi ceramica etruschi caratteristiche resti\n",
      "corso palazzo maria rosso frazione territorio piccolo santa simbolo chiesa\n",
      "palazzo borgo piazza porta sec chiesa madonna stella antico comunale\n",
      "chiesa maria trova santa piazza comune visita francesco orvieto sorge\n",
      "chiesa trova maria santa san interno francesco lungo centro comune\n"
     ]
    }
   ],
   "source": [
    "for t in model_output['topics']:\n",
    "  print(\" \".join(t))"
   ]
  },
  {
   "cell_type": "code",
   "execution_count": 10,
   "metadata": {},
   "outputs": [
    {
     "data": {
      "text/plain": [
       "30"
      ]
     },
     "execution_count": 10,
     "metadata": {},
     "output_type": "execute_result"
    }
   ],
   "source": [
    "len(model_output['topics'])"
   ]
  },
  {
   "cell_type": "code",
   "execution_count": 11,
   "metadata": {},
   "outputs": [],
   "source": [
    "# Initialize metric\n",
    "npmi = Coherence(texts=dataset.get_corpus(), topk=10, measure='c_npmi')"
   ]
  },
  {
   "cell_type": "code",
   "execution_count": 12,
   "metadata": {},
   "outputs": [],
   "source": [
    "# Initialize metric\n",
    "topic_diversity = TopicDiversity(topk=10)"
   ]
  },
  {
   "cell_type": "code",
   "execution_count": 13,
   "metadata": {},
   "outputs": [
    {
     "name": "stdout",
     "output_type": "stream",
     "text": [
      "Topic diversity: 0.4066666666666667\n",
      "Coherence: -0.13893666464364618\n"
     ]
    }
   ],
   "source": [
    "# Retrieve metrics score\n",
    "topic_diversity_score = topic_diversity.score(model_output)\n",
    "print(\"Topic diversity: \"+str(topic_diversity_score))\n",
    "\n",
    "npmi_score = npmi.score(model_output)\n",
    "print(\"Coherence: \"+str(npmi_score))"
   ]
  },
  {
   "cell_type": "markdown",
   "metadata": {},
   "source": [
    "### Hyperparameter Optimization"
   ]
  },
  {
   "cell_type": "code",
   "execution_count": 14,
   "metadata": {},
   "outputs": [],
   "source": [
    "from octis.optimization.optimizer import Optimizer\n",
    "from skopt.space.space import Real\n",
    "from skopt.space.space import Real, Integer"
   ]
  },
  {
   "cell_type": "markdown",
   "metadata": {},
   "source": [
    "### Topic Diversity"
   ]
  },
  {
   "cell_type": "code",
   "execution_count": 15,
   "metadata": {},
   "outputs": [
    {
     "name": "stdout",
     "output_type": "stream",
     "text": [
      "Current call:  0\n",
      "Current call:  1\n",
      "Current call:  2\n",
      "Current call:  3\n",
      "Current call:  4\n",
      "Current call:  5\n",
      "Current call:  6\n",
      "Current call:  7\n",
      "Current call:  8\n",
      "Current call:  9\n",
      "Current call:  10\n",
      "Current call:  11\n",
      "Current call:  12\n",
      "Current call:  13\n",
      "Current call:  14\n",
      "Current call:  15\n",
      "Current call:  16\n",
      "Current call:  17\n",
      "Current call:  18\n",
      "Current call:  19\n",
      "Current call:  20\n",
      "Current call:  21\n",
      "Current call:  22\n",
      "Current call:  23\n",
      "Current call:  24\n",
      "Current call:  25\n",
      "Current call:  26\n",
      "Current call:  27\n",
      "Current call:  28\n",
      "Current call:  29\n"
     ]
    },
    {
     "ename": "OSError",
     "evalue": "Cannot save file into a non-existent directory: 'C:\\Users\\franc\\Desktop\\PROJECTS\\PROJECTS\\RASTA\\result_TD'",
     "output_type": "error",
     "traceback": [
      "\u001b[1;31m---------------------------------------------------------------------------\u001b[0m",
      "\u001b[1;31mOSError\u001b[0m                                   Traceback (most recent call last)",
      "Cell \u001b[1;32mIn[15], line 10\u001b[0m\n\u001b[0;32m      6\u001b[0m optResult\u001b[38;5;241m=\u001b[39moptimizer\u001b[38;5;241m.\u001b[39moptimize(model, dataset, topic_diversity, search_space, save_path\u001b[38;5;241m=\u001b[39mrisultati_TD, \u001b[38;5;66;03m# path to store the results\u001b[39;00m\n\u001b[0;32m      7\u001b[0m                              number_of_call\u001b[38;5;241m=\u001b[39m\u001b[38;5;241m30\u001b[39m, \u001b[38;5;66;03m# number of optimization iterations\u001b[39;00m\n\u001b[0;32m      8\u001b[0m                              model_runs\u001b[38;5;241m=\u001b[39m\u001b[38;5;241m5\u001b[39m,save_models\u001b[38;5;241m=\u001b[39m\u001b[38;5;28;01mFalse\u001b[39;00m) \u001b[38;5;66;03m# number of runs of the topic model\u001b[39;00m\n\u001b[0;32m      9\u001b[0m \u001b[38;5;66;03m#save the results of th optimization in a csv file\u001b[39;00m\n\u001b[1;32m---> 10\u001b[0m \u001b[43moptResult\u001b[49m\u001b[38;5;241;43m.\u001b[39;49m\u001b[43msave_to_csv\u001b[49m\u001b[43m(\u001b[49m\u001b[38;5;124;43mr\u001b[39;49m\u001b[38;5;124;43m\"\u001b[39;49m\u001b[38;5;124;43mC:\u001b[39;49m\u001b[38;5;124;43m\\\u001b[39;49m\u001b[38;5;124;43mUsers\u001b[39;49m\u001b[38;5;124;43m\\\u001b[39;49m\u001b[38;5;124;43mfranc\u001b[39;49m\u001b[38;5;124;43m\\\u001b[39;49m\u001b[38;5;124;43mDesktop\u001b[39;49m\u001b[38;5;124;43m\\\u001b[39;49m\u001b[38;5;124;43mPROJECTS\u001b[39;49m\u001b[38;5;124;43m\\\u001b[39;49m\u001b[38;5;124;43mPROJECTS\u001b[39;49m\u001b[38;5;124;43m\\\u001b[39;49m\u001b[38;5;124;43mRASTA\u001b[39;49m\u001b[38;5;124;43m\\\u001b[39;49m\u001b[38;5;124;43mresult_TD\u001b[39;49m\u001b[38;5;124;43m\\\u001b[39;49m\u001b[38;5;124;43mresult_TD.csv\u001b[39;49m\u001b[38;5;124;43m\"\u001b[39;49m\u001b[43m)\u001b[49m\n",
      "File \u001b[1;32mc:\\Users\\franc\\AppData\\Local\\Programs\\Python\\Python310\\lib\\site-packages\\octis\\optimization\\optimizer_evaluation.py:183\u001b[0m, in \u001b[0;36mOptimizerEvaluation.save_to_csv\u001b[1;34m(self, name_file)\u001b[0m\n\u001b[0;32m    180\u001b[0m     name_file \u001b[38;5;241m=\u001b[39m name_file \u001b[38;5;241m+\u001b[39m \u001b[38;5;124m\"\u001b[39m\u001b[38;5;124m.csv\u001b[39m\u001b[38;5;124m\"\u001b[39m\n\u001b[0;32m    182\u001b[0m \u001b[38;5;66;03m# save the Dataframe to a csv\u001b[39;00m\n\u001b[1;32m--> 183\u001b[0m \u001b[43mdf\u001b[49m\u001b[38;5;241;43m.\u001b[39;49m\u001b[43mto_csv\u001b[49m\u001b[43m(\u001b[49m\u001b[43mname_file\u001b[49m\u001b[43m,\u001b[49m\u001b[43m \u001b[49m\u001b[43mindex\u001b[49m\u001b[38;5;241;43m=\u001b[39;49m\u001b[38;5;28;43;01mFalse\u001b[39;49;00m\u001b[43m,\u001b[49m\u001b[43m \u001b[49m\u001b[43mna_rep\u001b[49m\u001b[38;5;241;43m=\u001b[39;49m\u001b[38;5;124;43m'\u001b[39;49m\u001b[38;5;124;43mUnknown\u001b[39;49m\u001b[38;5;124;43m'\u001b[39;49m\u001b[43m)\u001b[49m\n",
      "File \u001b[1;32mc:\\Users\\franc\\AppData\\Local\\Programs\\Python\\Python310\\lib\\site-packages\\pandas\\core\\generic.py:3772\u001b[0m, in \u001b[0;36mNDFrame.to_csv\u001b[1;34m(self, path_or_buf, sep, na_rep, float_format, columns, header, index, index_label, mode, encoding, compression, quoting, quotechar, lineterminator, chunksize, date_format, doublequote, escapechar, decimal, errors, storage_options)\u001b[0m\n\u001b[0;32m   3761\u001b[0m df \u001b[38;5;241m=\u001b[39m \u001b[38;5;28mself\u001b[39m \u001b[38;5;28;01mif\u001b[39;00m \u001b[38;5;28misinstance\u001b[39m(\u001b[38;5;28mself\u001b[39m, ABCDataFrame) \u001b[38;5;28;01melse\u001b[39;00m \u001b[38;5;28mself\u001b[39m\u001b[38;5;241m.\u001b[39mto_frame()\n\u001b[0;32m   3763\u001b[0m formatter \u001b[38;5;241m=\u001b[39m DataFrameFormatter(\n\u001b[0;32m   3764\u001b[0m     frame\u001b[38;5;241m=\u001b[39mdf,\n\u001b[0;32m   3765\u001b[0m     header\u001b[38;5;241m=\u001b[39mheader,\n\u001b[1;32m   (...)\u001b[0m\n\u001b[0;32m   3769\u001b[0m     decimal\u001b[38;5;241m=\u001b[39mdecimal,\n\u001b[0;32m   3770\u001b[0m )\n\u001b[1;32m-> 3772\u001b[0m \u001b[38;5;28;01mreturn\u001b[39;00m \u001b[43mDataFrameRenderer\u001b[49m\u001b[43m(\u001b[49m\u001b[43mformatter\u001b[49m\u001b[43m)\u001b[49m\u001b[38;5;241;43m.\u001b[39;49m\u001b[43mto_csv\u001b[49m\u001b[43m(\u001b[49m\n\u001b[0;32m   3773\u001b[0m \u001b[43m    \u001b[49m\u001b[43mpath_or_buf\u001b[49m\u001b[43m,\u001b[49m\n\u001b[0;32m   3774\u001b[0m \u001b[43m    \u001b[49m\u001b[43mlineterminator\u001b[49m\u001b[38;5;241;43m=\u001b[39;49m\u001b[43mlineterminator\u001b[49m\u001b[43m,\u001b[49m\n\u001b[0;32m   3775\u001b[0m \u001b[43m    \u001b[49m\u001b[43msep\u001b[49m\u001b[38;5;241;43m=\u001b[39;49m\u001b[43msep\u001b[49m\u001b[43m,\u001b[49m\n\u001b[0;32m   3776\u001b[0m \u001b[43m    \u001b[49m\u001b[43mencoding\u001b[49m\u001b[38;5;241;43m=\u001b[39;49m\u001b[43mencoding\u001b[49m\u001b[43m,\u001b[49m\n\u001b[0;32m   3777\u001b[0m \u001b[43m    \u001b[49m\u001b[43merrors\u001b[49m\u001b[38;5;241;43m=\u001b[39;49m\u001b[43merrors\u001b[49m\u001b[43m,\u001b[49m\n\u001b[0;32m   3778\u001b[0m \u001b[43m    \u001b[49m\u001b[43mcompression\u001b[49m\u001b[38;5;241;43m=\u001b[39;49m\u001b[43mcompression\u001b[49m\u001b[43m,\u001b[49m\n\u001b[0;32m   3779\u001b[0m \u001b[43m    \u001b[49m\u001b[43mquoting\u001b[49m\u001b[38;5;241;43m=\u001b[39;49m\u001b[43mquoting\u001b[49m\u001b[43m,\u001b[49m\n\u001b[0;32m   3780\u001b[0m \u001b[43m    \u001b[49m\u001b[43mcolumns\u001b[49m\u001b[38;5;241;43m=\u001b[39;49m\u001b[43mcolumns\u001b[49m\u001b[43m,\u001b[49m\n\u001b[0;32m   3781\u001b[0m \u001b[43m    \u001b[49m\u001b[43mindex_label\u001b[49m\u001b[38;5;241;43m=\u001b[39;49m\u001b[43mindex_label\u001b[49m\u001b[43m,\u001b[49m\n\u001b[0;32m   3782\u001b[0m \u001b[43m    \u001b[49m\u001b[43mmode\u001b[49m\u001b[38;5;241;43m=\u001b[39;49m\u001b[43mmode\u001b[49m\u001b[43m,\u001b[49m\n\u001b[0;32m   3783\u001b[0m \u001b[43m    \u001b[49m\u001b[43mchunksize\u001b[49m\u001b[38;5;241;43m=\u001b[39;49m\u001b[43mchunksize\u001b[49m\u001b[43m,\u001b[49m\n\u001b[0;32m   3784\u001b[0m \u001b[43m    \u001b[49m\u001b[43mquotechar\u001b[49m\u001b[38;5;241;43m=\u001b[39;49m\u001b[43mquotechar\u001b[49m\u001b[43m,\u001b[49m\n\u001b[0;32m   3785\u001b[0m \u001b[43m    \u001b[49m\u001b[43mdate_format\u001b[49m\u001b[38;5;241;43m=\u001b[39;49m\u001b[43mdate_format\u001b[49m\u001b[43m,\u001b[49m\n\u001b[0;32m   3786\u001b[0m \u001b[43m    \u001b[49m\u001b[43mdoublequote\u001b[49m\u001b[38;5;241;43m=\u001b[39;49m\u001b[43mdoublequote\u001b[49m\u001b[43m,\u001b[49m\n\u001b[0;32m   3787\u001b[0m \u001b[43m    \u001b[49m\u001b[43mescapechar\u001b[49m\u001b[38;5;241;43m=\u001b[39;49m\u001b[43mescapechar\u001b[49m\u001b[43m,\u001b[49m\n\u001b[0;32m   3788\u001b[0m \u001b[43m    \u001b[49m\u001b[43mstorage_options\u001b[49m\u001b[38;5;241;43m=\u001b[39;49m\u001b[43mstorage_options\u001b[49m\u001b[43m,\u001b[49m\n\u001b[0;32m   3789\u001b[0m \u001b[43m\u001b[49m\u001b[43m)\u001b[49m\n",
      "File \u001b[1;32mc:\\Users\\franc\\AppData\\Local\\Programs\\Python\\Python310\\lib\\site-packages\\pandas\\io\\formats\\format.py:1186\u001b[0m, in \u001b[0;36mDataFrameRenderer.to_csv\u001b[1;34m(self, path_or_buf, encoding, sep, columns, index_label, mode, compression, quoting, quotechar, lineterminator, chunksize, date_format, doublequote, escapechar, errors, storage_options)\u001b[0m\n\u001b[0;32m   1165\u001b[0m     created_buffer \u001b[38;5;241m=\u001b[39m \u001b[38;5;28;01mFalse\u001b[39;00m\n\u001b[0;32m   1167\u001b[0m csv_formatter \u001b[38;5;241m=\u001b[39m CSVFormatter(\n\u001b[0;32m   1168\u001b[0m     path_or_buf\u001b[38;5;241m=\u001b[39mpath_or_buf,\n\u001b[0;32m   1169\u001b[0m     lineterminator\u001b[38;5;241m=\u001b[39mlineterminator,\n\u001b[1;32m   (...)\u001b[0m\n\u001b[0;32m   1184\u001b[0m     formatter\u001b[38;5;241m=\u001b[39m\u001b[38;5;28mself\u001b[39m\u001b[38;5;241m.\u001b[39mfmt,\n\u001b[0;32m   1185\u001b[0m )\n\u001b[1;32m-> 1186\u001b[0m \u001b[43mcsv_formatter\u001b[49m\u001b[38;5;241;43m.\u001b[39;49m\u001b[43msave\u001b[49m\u001b[43m(\u001b[49m\u001b[43m)\u001b[49m\n\u001b[0;32m   1188\u001b[0m \u001b[38;5;28;01mif\u001b[39;00m created_buffer:\n\u001b[0;32m   1189\u001b[0m     \u001b[38;5;28;01massert\u001b[39;00m \u001b[38;5;28misinstance\u001b[39m(path_or_buf, StringIO)\n",
      "File \u001b[1;32mc:\\Users\\franc\\AppData\\Local\\Programs\\Python\\Python310\\lib\\site-packages\\pandas\\io\\formats\\csvs.py:240\u001b[0m, in \u001b[0;36mCSVFormatter.save\u001b[1;34m(self)\u001b[0m\n\u001b[0;32m    236\u001b[0m \u001b[38;5;250m\u001b[39m\u001b[38;5;124;03m\"\"\"\u001b[39;00m\n\u001b[0;32m    237\u001b[0m \u001b[38;5;124;03mCreate the writer & save.\u001b[39;00m\n\u001b[0;32m    238\u001b[0m \u001b[38;5;124;03m\"\"\"\u001b[39;00m\n\u001b[0;32m    239\u001b[0m \u001b[38;5;66;03m# apply compression and byte/text conversion\u001b[39;00m\n\u001b[1;32m--> 240\u001b[0m \u001b[38;5;28;01mwith\u001b[39;00m \u001b[43mget_handle\u001b[49m\u001b[43m(\u001b[49m\n\u001b[0;32m    241\u001b[0m \u001b[43m    \u001b[49m\u001b[38;5;28;43mself\u001b[39;49m\u001b[38;5;241;43m.\u001b[39;49m\u001b[43mfilepath_or_buffer\u001b[49m\u001b[43m,\u001b[49m\n\u001b[0;32m    242\u001b[0m \u001b[43m    \u001b[49m\u001b[38;5;28;43mself\u001b[39;49m\u001b[38;5;241;43m.\u001b[39;49m\u001b[43mmode\u001b[49m\u001b[43m,\u001b[49m\n\u001b[0;32m    243\u001b[0m \u001b[43m    \u001b[49m\u001b[43mencoding\u001b[49m\u001b[38;5;241;43m=\u001b[39;49m\u001b[38;5;28;43mself\u001b[39;49m\u001b[38;5;241;43m.\u001b[39;49m\u001b[43mencoding\u001b[49m\u001b[43m,\u001b[49m\n\u001b[0;32m    244\u001b[0m \u001b[43m    \u001b[49m\u001b[43merrors\u001b[49m\u001b[38;5;241;43m=\u001b[39;49m\u001b[38;5;28;43mself\u001b[39;49m\u001b[38;5;241;43m.\u001b[39;49m\u001b[43merrors\u001b[49m\u001b[43m,\u001b[49m\n\u001b[0;32m    245\u001b[0m \u001b[43m    \u001b[49m\u001b[43mcompression\u001b[49m\u001b[38;5;241;43m=\u001b[39;49m\u001b[38;5;28;43mself\u001b[39;49m\u001b[38;5;241;43m.\u001b[39;49m\u001b[43mcompression\u001b[49m\u001b[43m,\u001b[49m\n\u001b[0;32m    246\u001b[0m \u001b[43m    \u001b[49m\u001b[43mstorage_options\u001b[49m\u001b[38;5;241;43m=\u001b[39;49m\u001b[38;5;28;43mself\u001b[39;49m\u001b[38;5;241;43m.\u001b[39;49m\u001b[43mstorage_options\u001b[49m\u001b[43m,\u001b[49m\n\u001b[0;32m    247\u001b[0m \u001b[43m\u001b[49m\u001b[43m)\u001b[49m \u001b[38;5;28;01mas\u001b[39;00m handles:\n\u001b[0;32m    248\u001b[0m     \u001b[38;5;66;03m# Note: self.encoding is irrelevant here\u001b[39;00m\n\u001b[0;32m    249\u001b[0m     \u001b[38;5;28mself\u001b[39m\u001b[38;5;241m.\u001b[39mwriter \u001b[38;5;241m=\u001b[39m csvlib\u001b[38;5;241m.\u001b[39mwriter(\n\u001b[0;32m    250\u001b[0m         handles\u001b[38;5;241m.\u001b[39mhandle,\n\u001b[0;32m    251\u001b[0m         lineterminator\u001b[38;5;241m=\u001b[39m\u001b[38;5;28mself\u001b[39m\u001b[38;5;241m.\u001b[39mlineterminator,\n\u001b[1;32m   (...)\u001b[0m\n\u001b[0;32m    256\u001b[0m         quotechar\u001b[38;5;241m=\u001b[39m\u001b[38;5;28mself\u001b[39m\u001b[38;5;241m.\u001b[39mquotechar,\n\u001b[0;32m    257\u001b[0m     )\n\u001b[0;32m    259\u001b[0m     \u001b[38;5;28mself\u001b[39m\u001b[38;5;241m.\u001b[39m_save()\n",
      "File \u001b[1;32mc:\\Users\\franc\\AppData\\Local\\Programs\\Python\\Python310\\lib\\site-packages\\pandas\\io\\common.py:737\u001b[0m, in \u001b[0;36mget_handle\u001b[1;34m(path_or_buf, mode, encoding, compression, memory_map, is_text, errors, storage_options)\u001b[0m\n\u001b[0;32m    735\u001b[0m \u001b[38;5;66;03m# Only for write methods\u001b[39;00m\n\u001b[0;32m    736\u001b[0m \u001b[38;5;28;01mif\u001b[39;00m \u001b[38;5;124m\"\u001b[39m\u001b[38;5;124mr\u001b[39m\u001b[38;5;124m\"\u001b[39m \u001b[38;5;129;01mnot\u001b[39;00m \u001b[38;5;129;01min\u001b[39;00m mode \u001b[38;5;129;01mand\u001b[39;00m is_path:\n\u001b[1;32m--> 737\u001b[0m     \u001b[43mcheck_parent_directory\u001b[49m\u001b[43m(\u001b[49m\u001b[38;5;28;43mstr\u001b[39;49m\u001b[43m(\u001b[49m\u001b[43mhandle\u001b[49m\u001b[43m)\u001b[49m\u001b[43m)\u001b[49m\n\u001b[0;32m    739\u001b[0m \u001b[38;5;28;01mif\u001b[39;00m compression:\n\u001b[0;32m    740\u001b[0m     \u001b[38;5;28;01mif\u001b[39;00m compression \u001b[38;5;241m!=\u001b[39m \u001b[38;5;124m\"\u001b[39m\u001b[38;5;124mzstd\u001b[39m\u001b[38;5;124m\"\u001b[39m:\n\u001b[0;32m    741\u001b[0m         \u001b[38;5;66;03m# compression libraries do not like an explicit text-mode\u001b[39;00m\n",
      "File \u001b[1;32mc:\\Users\\franc\\AppData\\Local\\Programs\\Python\\Python310\\lib\\site-packages\\pandas\\io\\common.py:600\u001b[0m, in \u001b[0;36mcheck_parent_directory\u001b[1;34m(path)\u001b[0m\n\u001b[0;32m    598\u001b[0m parent \u001b[38;5;241m=\u001b[39m Path(path)\u001b[38;5;241m.\u001b[39mparent\n\u001b[0;32m    599\u001b[0m \u001b[38;5;28;01mif\u001b[39;00m \u001b[38;5;129;01mnot\u001b[39;00m parent\u001b[38;5;241m.\u001b[39mis_dir():\n\u001b[1;32m--> 600\u001b[0m     \u001b[38;5;28;01mraise\u001b[39;00m \u001b[38;5;167;01mOSError\u001b[39;00m(\u001b[38;5;124mrf\u001b[39m\u001b[38;5;124m\"\u001b[39m\u001b[38;5;124mCannot save file into a non-existent directory: \u001b[39m\u001b[38;5;124m'\u001b[39m\u001b[38;5;132;01m{\u001b[39;00mparent\u001b[38;5;132;01m}\u001b[39;00m\u001b[38;5;124m'\u001b[39m\u001b[38;5;124m\"\u001b[39m)\n",
      "\u001b[1;31mOSError\u001b[0m: Cannot save file into a non-existent directory: 'C:\\Users\\franc\\Desktop\\PROJECTS\\PROJECTS\\RASTA\\result_TD'"
     ]
    }
   ],
   "source": [
    "# Define the search space. To see which hyperparameters to optimize, see the topic model's initialization signature\n",
    "search_space = {\"alpha\": Real(low=0.001, high=5.0), \"eta\": Real(low=0.001, high=5.0), \"num_topics\": Integer(low=5, high=15)}\n",
    "\n",
    "# Initialize an optimizer object and start the optimization.\n",
    "optimizer=Optimizer()\n",
    "optResult=optimizer.optimize(model, dataset, topic_diversity, search_space, save_path=risultati_TD, # path to store the results\n",
    "                             number_of_call=30, # number of optimization iterations\n",
    "                             model_runs=5,save_models=False) # number of runs of the topic model\n",
    "#save the results of th optimization in a csv file\n",
    "optResult.save_to_csv(r\"C:\\Users\\franc\\Desktop\\PROJECTS\\PROJECTS\\RASTA\\risultati\\LDA\\result_TD\\result_TD.csv\")"
   ]
  },
  {
   "cell_type": "code",
   "execution_count": 16,
   "metadata": {},
   "outputs": [
    {
     "data": {
      "text/plain": [
       "dict_keys(['dataset_name', 'dataset_path', 'is_cached', 'kernel', 'acq_func', 'surrogate_model', 'optimization_type', 'model_runs', 'save_models', 'save_step', 'save_name', 'save_path', 'early_stop', 'early_step', 'plot_model', 'plot_best_seen', 'plot_name', 'log_scale_plot', 'search_space', 'model_name', 'model_attributes', 'use_partitioning', 'metric_name', 'extra_metric_names', 'metric_attributes', 'extra_metric_attributes', 'current_call', 'number_of_call', 'random_state', 'x0', 'y0', 'n_random_starts', 'initial_point_generator', 'topk', 'time_eval', 'dict_model_runs', 'f_val', 'x_iters'])"
      ]
     },
     "execution_count": 16,
     "metadata": {},
     "output_type": "execute_result"
    }
   ],
   "source": [
    "import json\n",
    "res = json.load(open(r\"C:\\Users\\franc\\Desktop\\PROJECTS\\PROJECTS\\RASTA\\risultati\\LDA\\result_TD\\result.json\",'r'))\n",
    "res.keys()"
   ]
  },
  {
   "cell_type": "code",
   "execution_count": 17,
   "metadata": {},
   "outputs": [
    {
     "name": "stdout",
     "output_type": "stream",
     "text": [
      "Valore migliore di Topic Diversity ottenuto: \n",
      "0.46\n",
      "Numero di iterazione: \n",
      "30\n",
      "Valore di alpha:\n",
      "0.18353211266125663\n",
      "Valore di eta:\n",
      "4.3847759024374495\n",
      "Numero di topic:\n",
      "5\n"
     ]
    }
   ],
   "source": [
    "# valuto qual è l'iterazione migliore\n",
    "print(\"Valore migliore di Topic Diversity ottenuto: \" )\n",
    "print(max(res[\"f_val\"]))\n",
    "print(\"Numero di iterazione: \")\n",
    "i = 0\n",
    "for j in res[\"f_val\"]:\n",
    "  if(j == max(res[\"f_val\"])):\n",
    "    i += 1\n",
    "    print(i)\n",
    "    break\n",
    "  else:\n",
    "    i += 1\n",
    "alpha = res['x_iters']['alpha'][i-1]\n",
    "eta = res['x_iters']['eta'][i-1]\n",
    "topic = res['x_iters']['num_topics'][i-1]\n",
    "print(\"Valore di alpha:\")\n",
    "print(alpha)\n",
    "print(\"Valore di eta:\")\n",
    "print(eta)\n",
    "print(\"Numero di topic:\")\n",
    "print(topic)"
   ]
  },
  {
   "cell_type": "code",
   "execution_count": 18,
   "metadata": {},
   "outputs": [],
   "source": [
    "# Create Model\n",
    "model_TD = LDA(num_topics= topic, alpha= alpha, eta= eta)\n",
    "model_TD.partitioning(False)"
   ]
  },
  {
   "cell_type": "code",
   "execution_count": 19,
   "metadata": {},
   "outputs": [],
   "source": [
    "model_output_TD = model_TD.train_model(dataset)"
   ]
  },
  {
   "cell_type": "code",
   "execution_count": 20,
   "metadata": {},
   "outputs": [
    {
     "name": "stdout",
     "output_type": "stream",
     "text": [
      "topic-word-matrix\n",
      "topics\n",
      "topic-document-matrix\n"
     ]
    }
   ],
   "source": [
    "print(*list(model_output_TD.keys()), sep=\"\\n\") # Print the output identifiers"
   ]
  },
  {
   "cell_type": "code",
   "execution_count": 21,
   "metadata": {},
   "outputs": [
    {
     "name": "stdout",
     "output_type": "stream",
     "text": [
      "chiesa san trova centro maria santa storico palazzo castello citta\n",
      "secolo san chiesa citta pia centro trova interno lungo palazzo\n",
      "chiesa san trova borgo pia francesco secolo sorge piazza citta\n",
      "palazzo trova borgo citta museo the chiesa secolo centro piazza\n",
      "chiesa san piazza centro santa francesco pia maria trova sorge\n"
     ]
    }
   ],
   "source": [
    "import pandas as pd \n",
    "\n",
    "for t in model_output_TD['topics']:\n",
    "  print(\" \".join(t))\n",
    "\n",
    "topics = pd.DataFrame(model_output_TD['topics'])\n",
    "topics.to_excel(r'C:\\Users\\franc\\Desktop\\PROJECTS\\PROJECTS\\RASTA\\risultati\\LDA\\result_TD\\topics.xlsx', index=False)  "
   ]
  },
  {
   "cell_type": "code",
   "execution_count": 22,
   "metadata": {},
   "outputs": [],
   "source": [
    "vocabolario = []\n",
    "with open(r'C:\\Users\\franc\\Desktop\\PROJECTS\\PROJECTS\\RASTA\\dataset\\vocabulary.txt', 'r') as file:\n",
    "    for word in file:\n",
    "        vocabolario.append(word)\n"
   ]
  },
  {
   "cell_type": "code",
   "execution_count": 23,
   "metadata": {},
   "outputs": [
    {
     "name": "stdout",
     "output_type": "stream",
     "text": [
      "   abbadesse\\n  abbandonato\\n  abbastanza\\n  abbazia\\n  abbaziale\\n   \n",
      "0     0.000340       0.000285      0.000495   0.000628     0.000341  \\\n",
      "1     0.000355       0.000355      0.000599   0.000644     0.000429   \n",
      "2     0.000286       0.000300      0.000537   0.000403     0.000301   \n",
      "3     0.000359       0.000411      0.000784   0.000528     0.000518   \n",
      "4     0.000291       0.000345      0.000526   0.000474     0.000435   \n",
      "\n",
      "   abbazie\\n  abitati\\n  abitativo\\n  abitato\\n  abitazione\\n  ...    with\\n   \n",
      "0   0.000285   0.000285     0.000642   0.000285      0.000287  ...  0.000357  \\\n",
      "1   0.000289   0.000289     0.000645   0.000289      0.000289  ...  0.000318   \n",
      "2   0.000286   0.000286     0.000549   0.000286      0.000351  ...  0.000314   \n",
      "3   0.000359   0.000359     0.000630   0.000359      0.000423  ...  0.000292   \n",
      "4   0.000281   0.000281     0.000409   0.000281      0.000281  ...  0.000281   \n",
      "\n",
      "      wwf\\n     xii\\n     xiv\\n     xvi\\n    xvii\\n  ziggurart\\n   zocco\\n   \n",
      "0  0.000315  0.000340  0.000341  0.000343  0.000339     0.000340  0.000340  \\\n",
      "1  0.000303  0.000289  0.000289  0.000289  0.000289     0.000289  0.000289   \n",
      "2  0.000307  0.000286  0.000286  0.000286  0.000286     0.000286  0.000286   \n",
      "3  0.000292  0.000302  0.000302  0.000299  0.000303     0.000302  0.000302   \n",
      "4  0.000281  0.000281  0.000281  0.000281  0.000281     0.000281  0.000281   \n",
      "\n",
      "     zona\\n    zone\\n  \n",
      "0  0.000341  0.000340  \n",
      "1  0.000289  0.000289  \n",
      "2  0.000286  0.000286  \n",
      "3  0.000301  0.000302  \n",
      "4  0.000281  0.000281  \n",
      "\n",
      "[5 rows x 3109 columns]\n"
     ]
    }
   ],
   "source": [
    "# Carica la matrice topic-word in un DataFrame pandas\n",
    "topic_word_matrix = pd.DataFrame(model_output_TD['topic-word-matrix'])\n",
    "\n",
    "# Imposta i nomi delle colonne come parole\n",
    "\n",
    "# Ottieni i primi k termini da ciascuna riga come nomi di colonna\n",
    "topic_word_matrix.columns = [vocabolario[i] for i in range(topic_word_matrix.shape[1])]\n",
    "\n",
    "# Stampa il DataFrame\n",
    "print(topic_word_matrix)\n",
    "\n",
    "topic_word_matrix.to_excel(r'C:\\Users\\franc\\Desktop\\PROJECTS\\PROJECTS\\RASTA\\risultati\\LDA\\result_TD\\topic_word_matrix.xlsx', index=False)  "
   ]
  },
  {
   "cell_type": "code",
   "execution_count": 24,
   "metadata": {},
   "outputs": [],
   "source": [
    "import pandas as pd\n",
    "\n",
    "corpus_processed = pd.read_csv(r'C:\\Users\\franc\\Desktop\\PROJECTS\\PROJECTS\\RASTA\\dataset\\corpus.tsv', sep='\\t', header=None)\n",
    "corpus_processed\n",
    "new_df = pd.DataFrame(corpus_processed[0])"
   ]
  },
  {
   "cell_type": "code",
   "execution_count": 25,
   "metadata": {},
   "outputs": [
    {
     "data": {
      "text/html": [
       "<div>\n",
       "<style scoped>\n",
       "    .dataframe tbody tr th:only-of-type {\n",
       "        vertical-align: middle;\n",
       "    }\n",
       "\n",
       "    .dataframe tbody tr th {\n",
       "        vertical-align: top;\n",
       "    }\n",
       "\n",
       "    .dataframe thead th {\n",
       "        text-align: right;\n",
       "    }\n",
       "</style>\n",
       "<table border=\"1\" class=\"dataframe\">\n",
       "  <thead>\n",
       "    <tr style=\"text-align: right;\">\n",
       "      <th></th>\n",
       "      <th>0</th>\n",
       "      <th>1</th>\n",
       "      <th>2</th>\n",
       "      <th>3</th>\n",
       "      <th>4</th>\n",
       "      <th>5</th>\n",
       "    </tr>\n",
       "  </thead>\n",
       "  <tbody>\n",
       "    <tr>\n",
       "      <th>0</th>\n",
       "      <td>qui possiamo ammirare resti porta accesso anti...</td>\n",
       "      <td>0.015656</td>\n",
       "      <td>0.015667</td>\n",
       "      <td>0.015630</td>\n",
       "      <td>0.937400</td>\n",
       "      <td>0.015647</td>\n",
       "    </tr>\n",
       "    <tr>\n",
       "      <th>1</th>\n",
       "      <td>posizione dominante valle risacco val rasina r...</td>\n",
       "      <td>0.006674</td>\n",
       "      <td>0.006672</td>\n",
       "      <td>0.973298</td>\n",
       "      <td>0.006669</td>\n",
       "      <td>0.006687</td>\n",
       "    </tr>\n",
       "    <tr>\n",
       "      <th>2</th>\n",
       "      <td>collegiata santa maria assunta risale stile as...</td>\n",
       "      <td>0.017157</td>\n",
       "      <td>0.017088</td>\n",
       "      <td>0.017042</td>\n",
       "      <td>0.017049</td>\n",
       "      <td>0.931664</td>\n",
       "    </tr>\n",
       "    <tr>\n",
       "      <th>3</th>\n",
       "      <td>unica navata ampia luminosa due nicchioni due ...</td>\n",
       "      <td>0.010465</td>\n",
       "      <td>0.958238</td>\n",
       "      <td>0.010443</td>\n",
       "      <td>0.010418</td>\n",
       "      <td>0.010436</td>\n",
       "    </tr>\n",
       "    <tr>\n",
       "      <th>4</th>\n",
       "      <td>contesto urbano datazione secolo chiesa san fr...</td>\n",
       "      <td>0.066851</td>\n",
       "      <td>0.008520</td>\n",
       "      <td>0.008521</td>\n",
       "      <td>0.008489</td>\n",
       "      <td>0.907619</td>\n",
       "    </tr>\n",
       "    <tr>\n",
       "      <th>...</th>\n",
       "      <td>...</td>\n",
       "      <td>...</td>\n",
       "      <td>...</td>\n",
       "      <td>...</td>\n",
       "      <td>...</td>\n",
       "      <td>...</td>\n",
       "    </tr>\n",
       "    <tr>\n",
       "      <th>568</th>\n",
       "      <td>santuario madonna assunta cielo xii secolo sti...</td>\n",
       "      <td>0.017065</td>\n",
       "      <td>0.017150</td>\n",
       "      <td>0.017119</td>\n",
       "      <td>0.017045</td>\n",
       "      <td>0.931622</td>\n",
       "    </tr>\n",
       "    <tr>\n",
       "      <th>569</th>\n",
       "      <td>antico castello medievale assedi miracoli reli...</td>\n",
       "      <td>0.018812</td>\n",
       "      <td>0.018776</td>\n",
       "      <td>0.018800</td>\n",
       "      <td>0.018832</td>\n",
       "      <td>0.924781</td>\n",
       "    </tr>\n",
       "    <tr>\n",
       "      <th>570</th>\n",
       "      <td>splendido castello pupaggi comune sellano luog...</td>\n",
       "      <td>0.931616</td>\n",
       "      <td>0.017111</td>\n",
       "      <td>0.017093</td>\n",
       "      <td>0.017082</td>\n",
       "      <td>0.017099</td>\n",
       "    </tr>\n",
       "    <tr>\n",
       "      <th>571</th>\n",
       "      <td>esistono due tipologie prosciutto norcia primo...</td>\n",
       "      <td>0.967379</td>\n",
       "      <td>0.008167</td>\n",
       "      <td>0.008153</td>\n",
       "      <td>0.008156</td>\n",
       "      <td>0.008145</td>\n",
       "    </tr>\n",
       "    <tr>\n",
       "      <th>572</th>\n",
       "      <td>preziosa unica piccole dimensioni sapore incon...</td>\n",
       "      <td>0.967416</td>\n",
       "      <td>0.008139</td>\n",
       "      <td>0.008154</td>\n",
       "      <td>0.008154</td>\n",
       "      <td>0.008137</td>\n",
       "    </tr>\n",
       "  </tbody>\n",
       "</table>\n",
       "<p>573 rows × 6 columns</p>\n",
       "</div>"
      ],
      "text/plain": [
       "                                                     0         1         2   \n",
       "0    qui possiamo ammirare resti porta accesso anti...  0.015656  0.015667  \\\n",
       "1    posizione dominante valle risacco val rasina r...  0.006674  0.006672   \n",
       "2    collegiata santa maria assunta risale stile as...  0.017157  0.017088   \n",
       "3    unica navata ampia luminosa due nicchioni due ...  0.010465  0.958238   \n",
       "4    contesto urbano datazione secolo chiesa san fr...  0.066851  0.008520   \n",
       "..                                                 ...       ...       ...   \n",
       "568  santuario madonna assunta cielo xii secolo sti...  0.017065  0.017150   \n",
       "569  antico castello medievale assedi miracoli reli...  0.018812  0.018776   \n",
       "570  splendido castello pupaggi comune sellano luog...  0.931616  0.017111   \n",
       "571  esistono due tipologie prosciutto norcia primo...  0.967379  0.008167   \n",
       "572  preziosa unica piccole dimensioni sapore incon...  0.967416  0.008139   \n",
       "\n",
       "            3         4         5  \n",
       "0    0.015630  0.937400  0.015647  \n",
       "1    0.973298  0.006669  0.006687  \n",
       "2    0.017042  0.017049  0.931664  \n",
       "3    0.010443  0.010418  0.010436  \n",
       "4    0.008521  0.008489  0.907619  \n",
       "..        ...       ...       ...  \n",
       "568  0.017119  0.017045  0.931622  \n",
       "569  0.018800  0.018832  0.924781  \n",
       "570  0.017093  0.017082  0.017099  \n",
       "571  0.008153  0.008156  0.008145  \n",
       "572  0.008154  0.008154  0.008137  \n",
       "\n",
       "[573 rows x 6 columns]"
      ]
     },
     "execution_count": 25,
     "metadata": {},
     "output_type": "execute_result"
    }
   ],
   "source": [
    "num = 1\n",
    "for topic in model_output_TD['topic-document-matrix']:\n",
    "  for i in range(0,len(topic)):\n",
    "    new_df.loc[i,num] = topic[i]\n",
    "  num = num+1\n",
    "new_df"
   ]
  },
  {
   "cell_type": "code",
   "execution_count": 26,
   "metadata": {},
   "outputs": [],
   "source": [
    "# la salvo\n",
    "new_df.to_excel(r'C:\\Users\\franc\\Desktop\\PROJECTS\\PROJECTS\\RASTA\\risultati\\LDA\\result_TD\\topic-document-matrix.xlsx', index=False)  "
   ]
  },
  {
   "cell_type": "code",
   "execution_count": 27,
   "metadata": {},
   "outputs": [
    {
     "name": "stdout",
     "output_type": "stream",
     "text": [
      "Topic diversity: 0.4\n",
      "Coherence: -0.002784389164583573\n"
     ]
    }
   ],
   "source": [
    "# Retrieve metrics score\n",
    "topic_diversity_score = topic_diversity.score(model_output_TD)\n",
    "print(\"Topic diversity: \"+str(topic_diversity_score))\n",
    "\n",
    "npmi_score = npmi.score(model_output_TD)\n",
    "print(\"Coherence: \"+str(npmi_score))"
   ]
  },
  {
   "cell_type": "markdown",
   "metadata": {},
   "source": [
    "### Topic Coherence"
   ]
  },
  {
   "cell_type": "code",
   "execution_count": 28,
   "metadata": {},
   "outputs": [
    {
     "name": "stdout",
     "output_type": "stream",
     "text": [
      "Current call:  0\n",
      "Current call:  1\n",
      "Current call:  2\n",
      "Current call:  3\n",
      "Current call:  4\n",
      "Current call:  5\n",
      "Current call:  6\n",
      "Current call:  7\n",
      "Current call:  8\n",
      "Current call:  9\n",
      "Current call:  10\n",
      "Current call:  11\n",
      "Current call:  12\n",
      "Current call:  13\n",
      "Current call:  14\n",
      "Current call:  15\n",
      "Current call:  16\n",
      "Current call:  17\n",
      "Current call:  18\n",
      "Current call:  19\n",
      "Current call:  20\n",
      "Current call:  21\n",
      "Current call:  22\n",
      "Current call:  23\n",
      "Current call:  24\n",
      "Current call:  25\n",
      "Current call:  26\n",
      "Current call:  27\n",
      "Current call:  28\n",
      "Current call:  29\n"
     ]
    }
   ],
   "source": [
    "# Define the search space. To see which hyperparameters to optimize, see the topic model's initialization signature\n",
    "search_space = {\"alpha\": Real(low=0.001, high=5.0), \"eta\": Real(low=0.001, high=5.0), \"num_topics\": Integer(low=5, high=15)}\n",
    "\n",
    "# Initialize an optimizer object and start the optimization.\n",
    "optimizer=Optimizer()\n",
    "optResult=optimizer.optimize(model, dataset, npmi, search_space, save_path= risultati_npmi, # path to store the results\n",
    "                             number_of_call=30, # number of optimization iterations\n",
    "                             model_runs=5,save_models=False) # number of runs of the topic model\n",
    "#save the results of th optimization in a csv file\n",
    "optResult.save_to_csv(r\"C:\\Users\\franc\\Desktop\\PROJECTS\\PROJECTS\\RASTA\\risultati\\LDA\\result_npmi\\result_npmi.csv\")"
   ]
  },
  {
   "cell_type": "code",
   "execution_count": 38,
   "metadata": {},
   "outputs": [
    {
     "data": {
      "text/plain": [
       "dict_keys(['dataset_name', 'dataset_path', 'is_cached', 'kernel', 'acq_func', 'surrogate_model', 'optimization_type', 'model_runs', 'save_models', 'save_step', 'save_name', 'save_path', 'early_stop', 'early_step', 'plot_model', 'plot_best_seen', 'plot_name', 'log_scale_plot', 'search_space', 'model_name', 'model_attributes', 'use_partitioning', 'metric_name', 'extra_metric_names', 'metric_attributes', 'extra_metric_attributes', 'current_call', 'number_of_call', 'random_state', 'x0', 'y0', 'n_random_starts', 'initial_point_generator', 'topk', 'time_eval', 'dict_model_runs', 'f_val', 'x_iters'])"
      ]
     },
     "execution_count": 38,
     "metadata": {},
     "output_type": "execute_result"
    }
   ],
   "source": [
    "import json\n",
    "res = json.load(open(r\"C:\\Users\\franc\\Desktop\\PROJECTS\\PROJECTS\\RASTA\\risultati\\LDA\\result_npmi\\result.json\",'r'))\n",
    "res.keys()"
   ]
  },
  {
   "cell_type": "code",
   "execution_count": 39,
   "metadata": {},
   "outputs": [
    {
     "name": "stdout",
     "output_type": "stream",
     "text": [
      "Valore migliore di Topic Diversity ottenuto: \n",
      "0.029602084040565014\n",
      "Numero di iterazione: \n",
      "21\n",
      "Valore di alpha:\n",
      "1.518321250598311\n",
      "Valore di eta:\n",
      "2.202792857073435\n",
      "Numero di topic:\n",
      "6\n"
     ]
    }
   ],
   "source": [
    "# valuto qual è l'iterazione migliore\n",
    "print(\"Valore migliore di Topic Diversity ottenuto: \" )\n",
    "print(max(res[\"f_val\"]))\n",
    "print(\"Numero di iterazione: \")\n",
    "i = 0\n",
    "for j in res[\"f_val\"]:\n",
    "  if(j == max(res[\"f_val\"])):\n",
    "    i += 1\n",
    "    print(i)\n",
    "    break\n",
    "  else:\n",
    "    i += 1\n",
    "alpha = res['x_iters']['alpha'][i-1]\n",
    "eta = res['x_iters']['eta'][i-1]\n",
    "topic = res['x_iters']['num_topics'][i-1]\n",
    "print(\"Valore di alpha:\")\n",
    "print(alpha)\n",
    "print(\"Valore di eta:\")\n",
    "print(eta)\n",
    "print(\"Numero di topic:\")\n",
    "print(topic)"
   ]
  },
  {
   "cell_type": "code",
   "execution_count": 40,
   "metadata": {},
   "outputs": [],
   "source": [
    "# Create Model\n",
    "model_npmi = LDA(num_topics= topic, alpha= alpha, eta= eta)\n",
    "model_npmi.partitioning(False)"
   ]
  },
  {
   "cell_type": "code",
   "execution_count": 41,
   "metadata": {},
   "outputs": [],
   "source": [
    "model_output_npmi = model_npmi.train_model(dataset)"
   ]
  },
  {
   "cell_type": "code",
   "execution_count": 42,
   "metadata": {},
   "outputs": [
    {
     "name": "stdout",
     "output_type": "stream",
     "text": [
      "chiesa san secolo trova centro piazza palazzo francesco citta museo\n",
      "chiesa san trova piazza centro citta palazzo santa castello secolo\n",
      "chiesa san centro citta secolo palazzo pia trova francesco via\n",
      "chiesa san trova piazza palazzo santa pia citta sorge centro\n",
      "san chiesa trova centro palazzo secolo santa citta borgo pia\n",
      "chiesa san trova pia secolo centro piazza citta borgo sorge\n"
     ]
    }
   ],
   "source": [
    "for t in model_output_npmi['topics']:\n",
    "  print(\" \".join(t))\n",
    "\n",
    "topics = pd.DataFrame(model_output_npmi['topics'])\n",
    "topics.to_excel(r'C:\\Users\\franc\\Desktop\\PROJECTS\\PROJECTS\\RASTA\\risultati\\LDA\\result_npmi\\topics.xlsx', index=False)  "
   ]
  },
  {
   "cell_type": "code",
   "execution_count": 43,
   "metadata": {},
   "outputs": [
    {
     "name": "stdout",
     "output_type": "stream",
     "text": [
      "   abbadesse\\n  abbandonato\\n  abbastanza\\n  abbazia\\n  abbaziale\\n   \n",
      "0     0.000325       0.000337      0.000662   0.000625     0.000499  \\\n",
      "1     0.000329       0.000344      0.000811   0.000618     0.000469   \n",
      "2     0.000325       0.000326      0.000870   0.000703     0.000425   \n",
      "3     0.000324       0.000327      0.000652   0.000733     0.000472   \n",
      "4     0.000327       0.000383      0.000729   0.000649     0.000443   \n",
      "5     0.000338       0.000373      0.000672   0.000582     0.000388   \n",
      "\n",
      "   abbazie\\n  abitati\\n  abitativo\\n  abitato\\n  abitazione\\n  ...    with\\n   \n",
      "0   0.000288   0.000286     0.000653   0.000286      0.000322  ...  0.000304  \\\n",
      "1   0.000288   0.000292     0.000746   0.000292      0.000351  ...  0.000308   \n",
      "2   0.000285   0.000287     0.000634   0.000289      0.000323  ...  0.000305   \n",
      "3   0.000289   0.000284     0.000678   0.000283      0.000336  ...  0.000301   \n",
      "4   0.000289   0.000289     0.000623   0.000288      0.000319  ...  0.000321   \n",
      "5   0.000286   0.000288     0.000941   0.000288      0.000319  ...  0.000309   \n",
      "\n",
      "      wwf\\n     xii\\n     xiv\\n     xvi\\n    xvii\\n  ziggurart\\n   zocco\\n   \n",
      "0  0.000289  0.000290  0.000295  0.000294  0.000294     0.000292  0.000291  \\\n",
      "1  0.000290  0.000293  0.000293  0.000293  0.000293     0.000292  0.000293   \n",
      "2  0.000289  0.000288  0.000286  0.000283  0.000290     0.000287  0.000291   \n",
      "3  0.000286  0.000281  0.000285  0.000283  0.000281     0.000286  0.000283   \n",
      "4  0.000291  0.000284  0.000285  0.000287  0.000283     0.000281  0.000284   \n",
      "5  0.000282  0.000290  0.000281  0.000287  0.000284     0.000289  0.000284   \n",
      "\n",
      "     zona\\n    zone\\n  \n",
      "0  0.000289  0.000292  \n",
      "1  0.000298  0.000295  \n",
      "2  0.000282  0.000286  \n",
      "3  0.000284  0.000282  \n",
      "4  0.000287  0.000285  \n",
      "5  0.000285  0.000286  \n",
      "\n",
      "[6 rows x 3109 columns]\n"
     ]
    }
   ],
   "source": [
    "# Carica la matrice topic-word in un DataFrame pandas\n",
    "topic_word_matrix = pd.DataFrame(model_output_npmi['topic-word-matrix'])\n",
    "\n",
    "# Imposta i nomi delle colonne come parole\n",
    "\n",
    "# Ottieni i primi k termini da ciascuna riga come nomi di colonna\n",
    "topic_word_matrix.columns = [vocabolario[i] for i in range(topic_word_matrix.shape[1])]\n",
    "\n",
    "# Stampa il DataFrame\n",
    "print(topic_word_matrix)\n",
    "\n",
    "topic_word_matrix.to_excel(r'C:\\Users\\franc\\Desktop\\PROJECTS\\PROJECTS\\RASTA\\risultati\\LDA\\result_npmi\\topic_word_matrix.xlsx', index=False)  "
   ]
  },
  {
   "cell_type": "code",
   "execution_count": 44,
   "metadata": {},
   "outputs": [
    {
     "data": {
      "text/html": [
       "<div>\n",
       "<style scoped>\n",
       "    .dataframe tbody tr th:only-of-type {\n",
       "        vertical-align: middle;\n",
       "    }\n",
       "\n",
       "    .dataframe tbody tr th {\n",
       "        vertical-align: top;\n",
       "    }\n",
       "\n",
       "    .dataframe thead th {\n",
       "        text-align: right;\n",
       "    }\n",
       "</style>\n",
       "<table border=\"1\" class=\"dataframe\">\n",
       "  <thead>\n",
       "    <tr style=\"text-align: right;\">\n",
       "      <th></th>\n",
       "      <th>0</th>\n",
       "      <th>1</th>\n",
       "      <th>2</th>\n",
       "      <th>3</th>\n",
       "      <th>4</th>\n",
       "      <th>5</th>\n",
       "      <th>6</th>\n",
       "      <th>7</th>\n",
       "      <th>8</th>\n",
       "      <th>9</th>\n",
       "      <th>10</th>\n",
       "      <th>11</th>\n",
       "      <th>12</th>\n",
       "      <th>13</th>\n",
       "      <th>14</th>\n",
       "      <th>15</th>\n",
       "    </tr>\n",
       "  </thead>\n",
       "  <tbody>\n",
       "    <tr>\n",
       "      <th>0</th>\n",
       "      <td>qui possiamo ammirare resti porta accesso anti...</td>\n",
       "      <td>0.168011</td>\n",
       "      <td>0.170521</td>\n",
       "      <td>0.164948</td>\n",
       "      <td>0.164785</td>\n",
       "      <td>0.164729</td>\n",
       "      <td>0.167006</td>\n",
       "      <td>0.063675</td>\n",
       "      <td>0.065274</td>\n",
       "      <td>0.061175</td>\n",
       "      <td>0.068719</td>\n",
       "      <td>0.063102</td>\n",
       "      <td>0.074818</td>\n",
       "      <td>0.071559</td>\n",
       "      <td>0.065387</td>\n",
       "      <td>0.063855</td>\n",
       "    </tr>\n",
       "    <tr>\n",
       "      <th>1</th>\n",
       "      <td>posizione dominante valle risacco val rasina r...</td>\n",
       "      <td>0.166217</td>\n",
       "      <td>0.152430</td>\n",
       "      <td>0.143166</td>\n",
       "      <td>0.152525</td>\n",
       "      <td>0.168885</td>\n",
       "      <td>0.216777</td>\n",
       "      <td>0.047505</td>\n",
       "      <td>0.043039</td>\n",
       "      <td>0.039715</td>\n",
       "      <td>0.037744</td>\n",
       "      <td>0.041493</td>\n",
       "      <td>0.041520</td>\n",
       "      <td>0.354589</td>\n",
       "      <td>0.036881</td>\n",
       "      <td>0.039487</td>\n",
       "    </tr>\n",
       "    <tr>\n",
       "      <th>2</th>\n",
       "      <td>collegiata santa maria assunta risale stile as...</td>\n",
       "      <td>0.164574</td>\n",
       "      <td>0.175959</td>\n",
       "      <td>0.159027</td>\n",
       "      <td>0.181936</td>\n",
       "      <td>0.163758</td>\n",
       "      <td>0.154746</td>\n",
       "      <td>0.058126</td>\n",
       "      <td>0.056921</td>\n",
       "      <td>0.059180</td>\n",
       "      <td>0.079963</td>\n",
       "      <td>0.058257</td>\n",
       "      <td>0.079685</td>\n",
       "      <td>0.060572</td>\n",
       "      <td>0.054586</td>\n",
       "      <td>0.074097</td>\n",
       "    </tr>\n",
       "    <tr>\n",
       "      <th>3</th>\n",
       "      <td>unica navata ampia luminosa due nicchioni due ...</td>\n",
       "      <td>0.157860</td>\n",
       "      <td>0.163119</td>\n",
       "      <td>0.158403</td>\n",
       "      <td>0.169790</td>\n",
       "      <td>0.167105</td>\n",
       "      <td>0.183723</td>\n",
       "      <td>0.049266</td>\n",
       "      <td>0.058064</td>\n",
       "      <td>0.059376</td>\n",
       "      <td>0.067053</td>\n",
       "      <td>0.065823</td>\n",
       "      <td>0.062558</td>\n",
       "      <td>0.070096</td>\n",
       "      <td>0.060654</td>\n",
       "      <td>0.056481</td>\n",
       "    </tr>\n",
       "    <tr>\n",
       "      <th>4</th>\n",
       "      <td>contesto urbano datazione secolo chiesa san fr...</td>\n",
       "      <td>0.189198</td>\n",
       "      <td>0.149947</td>\n",
       "      <td>0.157052</td>\n",
       "      <td>0.177126</td>\n",
       "      <td>0.160619</td>\n",
       "      <td>0.166058</td>\n",
       "      <td>0.033976</td>\n",
       "      <td>0.036256</td>\n",
       "      <td>0.035540</td>\n",
       "      <td>0.034272</td>\n",
       "      <td>0.030953</td>\n",
       "      <td>0.036670</td>\n",
       "      <td>0.035711</td>\n",
       "      <td>0.034928</td>\n",
       "      <td>0.049802</td>\n",
       "    </tr>\n",
       "    <tr>\n",
       "      <th>...</th>\n",
       "      <td>...</td>\n",
       "      <td>...</td>\n",
       "      <td>...</td>\n",
       "      <td>...</td>\n",
       "      <td>...</td>\n",
       "      <td>...</td>\n",
       "      <td>...</td>\n",
       "      <td>...</td>\n",
       "      <td>...</td>\n",
       "      <td>...</td>\n",
       "      <td>...</td>\n",
       "      <td>...</td>\n",
       "      <td>...</td>\n",
       "      <td>...</td>\n",
       "      <td>...</td>\n",
       "      <td>...</td>\n",
       "    </tr>\n",
       "    <tr>\n",
       "      <th>568</th>\n",
       "      <td>santuario madonna assunta cielo xii secolo sti...</td>\n",
       "      <td>0.170492</td>\n",
       "      <td>0.172596</td>\n",
       "      <td>0.162193</td>\n",
       "      <td>0.168836</td>\n",
       "      <td>0.165338</td>\n",
       "      <td>0.160544</td>\n",
       "      <td>0.060260</td>\n",
       "      <td>0.062438</td>\n",
       "      <td>0.064740</td>\n",
       "      <td>0.062486</td>\n",
       "      <td>0.058111</td>\n",
       "      <td>0.086876</td>\n",
       "      <td>0.055713</td>\n",
       "      <td>0.064662</td>\n",
       "      <td>0.083632</td>\n",
       "    </tr>\n",
       "    <tr>\n",
       "      <th>569</th>\n",
       "      <td>antico castello medievale assedi miracoli reli...</td>\n",
       "      <td>0.167003</td>\n",
       "      <td>0.179955</td>\n",
       "      <td>0.176678</td>\n",
       "      <td>0.161765</td>\n",
       "      <td>0.158436</td>\n",
       "      <td>0.156163</td>\n",
       "      <td>0.062688</td>\n",
       "      <td>0.064277</td>\n",
       "      <td>0.061327</td>\n",
       "      <td>0.072436</td>\n",
       "      <td>0.062440</td>\n",
       "      <td>0.069598</td>\n",
       "      <td>0.070801</td>\n",
       "      <td>0.068982</td>\n",
       "      <td>0.062110</td>\n",
       "    </tr>\n",
       "    <tr>\n",
       "      <th>570</th>\n",
       "      <td>splendido castello pupaggi comune sellano luog...</td>\n",
       "      <td>0.157865</td>\n",
       "      <td>0.170880</td>\n",
       "      <td>0.164101</td>\n",
       "      <td>0.175087</td>\n",
       "      <td>0.162719</td>\n",
       "      <td>0.169348</td>\n",
       "      <td>0.070011</td>\n",
       "      <td>0.068261</td>\n",
       "      <td>0.060266</td>\n",
       "      <td>0.065102</td>\n",
       "      <td>0.063212</td>\n",
       "      <td>0.068552</td>\n",
       "      <td>0.073447</td>\n",
       "      <td>0.065718</td>\n",
       "      <td>0.060919</td>\n",
       "    </tr>\n",
       "    <tr>\n",
       "      <th>571</th>\n",
       "      <td>esistono due tipologie prosciutto norcia primo...</td>\n",
       "      <td>0.165674</td>\n",
       "      <td>0.152964</td>\n",
       "      <td>0.173209</td>\n",
       "      <td>0.157556</td>\n",
       "      <td>0.189147</td>\n",
       "      <td>0.161451</td>\n",
       "      <td>0.035101</td>\n",
       "      <td>0.039152</td>\n",
       "      <td>0.036185</td>\n",
       "      <td>0.041237</td>\n",
       "      <td>0.038223</td>\n",
       "      <td>0.476000</td>\n",
       "      <td>0.042872</td>\n",
       "      <td>0.035943</td>\n",
       "      <td>0.035873</td>\n",
       "    </tr>\n",
       "    <tr>\n",
       "      <th>572</th>\n",
       "      <td>preziosa unica piccole dimensioni sapore incon...</td>\n",
       "      <td>0.185603</td>\n",
       "      <td>0.191550</td>\n",
       "      <td>0.154855</td>\n",
       "      <td>0.152481</td>\n",
       "      <td>0.153498</td>\n",
       "      <td>0.162012</td>\n",
       "      <td>0.061090</td>\n",
       "      <td>0.066740</td>\n",
       "      <td>0.080415</td>\n",
       "      <td>0.058323</td>\n",
       "      <td>0.087150</td>\n",
       "      <td>0.059720</td>\n",
       "      <td>0.048153</td>\n",
       "      <td>0.050653</td>\n",
       "      <td>0.059919</td>\n",
       "    </tr>\n",
       "  </tbody>\n",
       "</table>\n",
       "<p>573 rows × 16 columns</p>\n",
       "</div>"
      ],
      "text/plain": [
       "                                                    0         1         2    \n",
       "0    qui possiamo ammirare resti porta accesso anti...  0.168011  0.170521  \\\n",
       "1    posizione dominante valle risacco val rasina r...  0.166217  0.152430   \n",
       "2    collegiata santa maria assunta risale stile as...  0.164574  0.175959   \n",
       "3    unica navata ampia luminosa due nicchioni due ...  0.157860  0.163119   \n",
       "4    contesto urbano datazione secolo chiesa san fr...  0.189198  0.149947   \n",
       "..                                                 ...       ...       ...   \n",
       "568  santuario madonna assunta cielo xii secolo sti...  0.170492  0.172596   \n",
       "569  antico castello medievale assedi miracoli reli...  0.167003  0.179955   \n",
       "570  splendido castello pupaggi comune sellano luog...  0.157865  0.170880   \n",
       "571  esistono due tipologie prosciutto norcia primo...  0.165674  0.152964   \n",
       "572  preziosa unica piccole dimensioni sapore incon...  0.185603  0.191550   \n",
       "\n",
       "           3         4         5         6         7         8         9    \n",
       "0    0.164948  0.164785  0.164729  0.167006  0.063675  0.065274  0.061175  \\\n",
       "1    0.143166  0.152525  0.168885  0.216777  0.047505  0.043039  0.039715   \n",
       "2    0.159027  0.181936  0.163758  0.154746  0.058126  0.056921  0.059180   \n",
       "3    0.158403  0.169790  0.167105  0.183723  0.049266  0.058064  0.059376   \n",
       "4    0.157052  0.177126  0.160619  0.166058  0.033976  0.036256  0.035540   \n",
       "..        ...       ...       ...       ...       ...       ...       ...   \n",
       "568  0.162193  0.168836  0.165338  0.160544  0.060260  0.062438  0.064740   \n",
       "569  0.176678  0.161765  0.158436  0.156163  0.062688  0.064277  0.061327   \n",
       "570  0.164101  0.175087  0.162719  0.169348  0.070011  0.068261  0.060266   \n",
       "571  0.173209  0.157556  0.189147  0.161451  0.035101  0.039152  0.036185   \n",
       "572  0.154855  0.152481  0.153498  0.162012  0.061090  0.066740  0.080415   \n",
       "\n",
       "           10        11        12        13        14        15  \n",
       "0    0.068719  0.063102  0.074818  0.071559  0.065387  0.063855  \n",
       "1    0.037744  0.041493  0.041520  0.354589  0.036881  0.039487  \n",
       "2    0.079963  0.058257  0.079685  0.060572  0.054586  0.074097  \n",
       "3    0.067053  0.065823  0.062558  0.070096  0.060654  0.056481  \n",
       "4    0.034272  0.030953  0.036670  0.035711  0.034928  0.049802  \n",
       "..        ...       ...       ...       ...       ...       ...  \n",
       "568  0.062486  0.058111  0.086876  0.055713  0.064662  0.083632  \n",
       "569  0.072436  0.062440  0.069598  0.070801  0.068982  0.062110  \n",
       "570  0.065102  0.063212  0.068552  0.073447  0.065718  0.060919  \n",
       "571  0.041237  0.038223  0.476000  0.042872  0.035943  0.035873  \n",
       "572  0.058323  0.087150  0.059720  0.048153  0.050653  0.059919  \n",
       "\n",
       "[573 rows x 16 columns]"
      ]
     },
     "execution_count": 44,
     "metadata": {},
     "output_type": "execute_result"
    }
   ],
   "source": [
    "num = 1\n",
    "for topic in model_output_npmi['topic-document-matrix']:\n",
    "  for i in range(0,len(topic)):\n",
    "    new_df.loc[i,num] = topic[i]\n",
    "  num = num+1\n",
    "new_df"
   ]
  },
  {
   "cell_type": "code",
   "execution_count": 45,
   "metadata": {},
   "outputs": [],
   "source": [
    "# la salvo\n",
    "new_df.to_excel(r'C:\\Users\\franc\\Desktop\\PROJECTS\\PROJECTS\\RASTA\\risultati\\LDA\\result_npmi\\topic-document-matrix.xlsx', index=False)  "
   ]
  },
  {
   "cell_type": "code",
   "execution_count": 46,
   "metadata": {},
   "outputs": [
    {
     "name": "stdout",
     "output_type": "stream",
     "text": [
      "Topic diversity: 0.26666666666666666\n",
      "Coherence: 0.009654361904530942\n"
     ]
    }
   ],
   "source": [
    "# Retrieve metrics score\n",
    "topic_diversity_score = topic_diversity.score(model_output_npmi)\n",
    "print(\"Topic diversity: \"+str(topic_diversity_score))\n",
    "\n",
    "npmi_score = npmi.score(model_output_npmi)\n",
    "print(\"Coherence: \"+str(npmi_score))"
   ]
  }
 ],
 "metadata": {
  "kernelspec": {
   "display_name": "Python 3",
   "language": "python",
   "name": "python3"
  },
  "language_info": {
   "codemirror_mode": {
    "name": "ipython",
    "version": 3
   },
   "file_extension": ".py",
   "mimetype": "text/x-python",
   "name": "python",
   "nbconvert_exporter": "python",
   "pygments_lexer": "ipython3",
   "version": "3.10.8"
  }
 },
 "nbformat": 4,
 "nbformat_minor": 2
}
