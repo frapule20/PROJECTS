{
 "cells": [
  {
   "cell_type": "markdown",
   "metadata": {},
   "source": [
    "# LDA - Latent Dirichlet Allocation"
   ]
  },
  {
   "cell_type": "markdown",
   "metadata": {},
   "source": [
    "## Optimization"
   ]
  },
  {
   "cell_type": "code",
   "execution_count": 24,
   "metadata": {},
   "outputs": [],
   "source": [
    "from octis.models.LDA import LDA\n",
    "from octis.dataset.dataset import Dataset\n",
    "from octis.evaluation_metrics.diversity_metrics import TopicDiversity\n",
    "from octis.evaluation_metrics.coherence_metrics import Coherence"
   ]
  },
  {
   "cell_type": "code",
   "execution_count": 25,
   "metadata": {},
   "outputs": [],
   "source": [
    "dataset_save = 'dataset'"
   ]
  },
  {
   "cell_type": "code",
   "execution_count": 26,
   "metadata": {},
   "outputs": [],
   "source": [
    "dataset = Dataset()\n",
    "dataset.load_custom_dataset_from_folder(dataset_save)"
   ]
  },
  {
   "cell_type": "markdown",
   "metadata": {},
   "source": [
    "### Train a Model"
   ]
  },
  {
   "cell_type": "code",
   "execution_count": 27,
   "metadata": {},
   "outputs": [],
   "source": [
    "# Create Model\n",
    "model = LDA()"
   ]
  },
  {
   "cell_type": "code",
   "execution_count": 28,
   "metadata": {},
   "outputs": [],
   "source": [
    "from octis.dataset.dataset import Dataset\n",
    "from octis.models.LDA import LDA\n",
    "\n",
    "model_output = model.train_model(dataset)"
   ]
  },
  {
   "cell_type": "markdown",
   "metadata": {},
   "source": [
    "### Evaluate a Model"
   ]
  },
  {
   "cell_type": "code",
   "execution_count": 29,
   "metadata": {},
   "outputs": [
    {
     "name": "stdout",
     "output_type": "stream",
     "text": [
      "patrizio impossibile magnifica circostanti orvieto etruschi vista piccolo gode attrazione\n",
      "chiesa luogo trova santa maria clitunno custode tempio mura posta\n",
      "antica chiesa amerina area molto risalente sud vetro interventi differente\n",
      "antica citta san via antiquarium narni cattedrale origine xii pregevoli\n",
      "santuario rigone casa secondo origini frazione raggiungere recarsi prima san\n",
      "nucleo san pia abitato francesco chiesa cima flebeo urbano preghiera\n",
      "lago collina segua molto protezione marchesi cima costruito opera possedevano\n",
      "lungo piazza snoda chiesa pressi pia piazze todi torgiano monumento\n",
      "generazione solo costruito oggi medievale borgo centro visitabile conteso legna\n",
      "clitunno acqua piedi comune presenza turistica meta umbra tempio dominante\n",
      "ponte chiesa reggia santa maria torrente costruito xvi vicino costruzione\n",
      "paleocristiano san fine eretto secolo edificio basilica interessantissimo salvatore inizio\n",
      "interno perimetrale michele xiv arcangelo secolo castello ridosso san sorta\n",
      "francesco san palazzo trova sorge limpidissime laghetto gemini capra interno\n",
      "castello valle monte castaldo lungo torrente dominante circa citta abbazia\n",
      "chiesa museo piazza sorge santa maria fossili monte emanuele bacino\n",
      "festeggiato protettore innamorati vescovo stato febbraio terni divina pubblica matteotti\n",
      "cavalieri due sopra secolo facciata passi ricordata atto notarile rettangolare\n",
      "crescia natale alto gubbio mondo gusta perderti ceri pia albero\n",
      "secolo palazzo the oggi san chiesa xiii nicola centro urbano\n",
      "the since valle presenta sorge dominante castello citta margine tiliam\n",
      "centro chiesa perugia citta mura fuori storico cinta vicina abitato\n",
      "colle colloca presso costruire nome prende valle panoramica raniero castello\n",
      "vetrate chiesa mosaico moderna distanza centro monte custodito vibio particolarmente\n",
      "trova chiesa palazzo capitano lungo secolo popolo piazza strada nera\n",
      "chiesa sec unica francesco paesaggio battista giovanni costruzione poligonale tappa\n",
      "chiesa eretto parrocchiale bevagna eroli montecastrilli sorge spoleto santuario ecclesiastica\n",
      "unam cinquecentesca porta inserita sorge vasto architettonica paolina muratura meridionale\n",
      "chiesa secolo san trova xiv lisciano localita frazione forma edificata\n",
      "palazzo citta piazza pia pieve simbolo elementi compagno aoffrire fondatore\n",
      "francesco chiesa secolo complesso xiv san risalente oggi situato piccolo\n",
      "centro storico otricoli sorge medievale contesto san citta piccolo affaccia\n",
      "santa passato antichi tradizionali parla impiegati basilica fondata san tomba\n",
      "terreno ricerca conduce collepino situate settentrionale pubblica matteotti forum estremita\n",
      "museo pia palazzo trasimeno tuoro unico commedia suggestivi sole prima\n",
      "trova santa maria citta piazza palazzo chiesa parrocchiale borgo castello\n",
      "arte guardea valfabbrica personale dedicato collezionisti lauro via collezione palio\n",
      "perugia fronte inglobata abbazia pietro quattrocentesco frontone san ampliamento mura\n",
      "epoca quando confraternita vino acidita fresco avenerabile offre fruttati inaspettate\n",
      "secolo xiv bellezza umbro costruita fondamentale urna resse monte romanico\n",
      "pia antiche narni notizie benedetto precedente dono circondata prima gole\n",
      "chiesa mevania nere bianche secolo romani antichi citta mosaico bevagna\n",
      "chiesa calvi costruita chilometri san francesco trova the antico berardo\n",
      "risale porta ponte fronte sopra interno consentiva numerosi allora alcuni\n",
      "stato circa pia palazzo museo san chiesa trova soppresso medievale\n",
      "sperandio borgo trova chiesa anni via dedicata archeologia santo necropoli\n",
      "antica monte panorami sale multimediale gara sfida locale duomo tesoro\n",
      "museo interno trova sant via centro parte ala storico gualdo\n",
      "chiesa san fuori collepino todi probabilmente lungo passignano trova dedicato\n",
      "croce santa minori convento frati regolare piazza bastia avvento venne\n",
      "chiesa storico secolo san risale palazzo situato borgo felice santa\n",
      "the calvi initially building community rinaldo which entrust maestro iacovetti\n",
      "pietromarchi anno principale borgo tutte interamente giorgio stagioni colline san\n",
      "palazzo meta artistica comunale antico arti distruzione ideale priori crescente\n",
      "iniziativa legati artigianali oggetti raccolta cittadini lavoro locale museo attivita\n",
      "poco principale navatella distanza assunta impianto medievale breve comune absidata\n",
      "centro colle collega otricoli spoleto poco cosa luogo elia monteluco\n",
      "san trova ante villa presepe nativita perugia palazzo anversa centro\n",
      "mongiovino borgo castello secolo xvi palazzo fortificato acentroa esempio quattrocentesco\n",
      "arteria mare apertura iii sociale risalente portando fra seconda evoluzione\n",
      "piazza san chiesa edificio santa secolo paese pia corrispondente monte\n",
      "facciata cattedrale fornace localita capolavoro papa collegiata orizzontalmente tadino romanica\n",
      "san francesco chiesa piazza trova umbro cattedrale vescovado patrono colline\n",
      "terreno ricerca conduce collepino situate settentrionale pubblica matteotti forum estremita\n",
      "citta etrusca pia particolarita raccolta sorge museo attiguo visita soprattutto\n",
      "reticolo catino assicurato recentemente verde romano vero montereale statue chiesa\n",
      "maria storico santa centro chiesa interno pia pintoricchio fine commissione\n",
      "pia centro quattro chiesa sec sita bastia centrale porta cittadino\n",
      "chiesa paese lago abitato fine coperto sellano nucleo situata doveva\n",
      "nocera chiesa pia circa principale malakos europa pacifico mediterraneo indiano\n",
      "stato colle panoramica pannelli attivita anni dunarobba modelli supportare costruito\n",
      "assisi trecento pinacoteca casa storia castello racconta allestito olmeto pubblico\n",
      "palazzo maria piazza santa trova posto piccolo rancani dominante barone\n",
      "chiesa palazzo maria piazza chiamato assunta quasi popolo sorge comunale\n",
      "chiesa san secolo francesco umbro bernardino area belvedere trecentesca turistica\n",
      "domina costruita spoleto intorno orologio dellaantico seconda sinistra storia torre\n",
      "rosso trova docg danno canaiolo vita paese presso coltivano livello\n",
      "fabro colle gualdo tadino storia posizionato comunale parte territorio ceramica\n",
      "trova chiesa maria francescano bosco metri gia sacro antico grotte\n",
      "via due vicolo chiesa pia acquasparta matrice importante soffitto ampia\n",
      "palazzo consoli fronte trovandosi corpo comune monaci podesta eretta sede\n",
      "unisce apre lungo esempio costituita principale strati interno torre ricopre\n",
      "chiesa comunita antico suba popolazione resti eretta fortebracci maria antiche\n",
      "lato muro castello unam venne forme verticem testimonianza pia cimitero\n",
      "scoperta todi andando gola pittura fitta segreti verso baschi escursionistico\n",
      "san centro storico via chiesa palazzo trova sorbello citta lorenzo\n",
      "trova pietra seguito monumento riva molto dedicato architettura facciata isolato\n",
      "custodita assunta maria mura facciata armonica cittadine costruita stata due\n",
      "san citerna parte caratteristiche ricchissimo sponde bacino artigianale solfurea acqua\n",
      "vitelli caa san insieme ambienti minori trasformata montefalco palazzo borgo\n",
      "citta gubbio maria lungo trova germanica santa tragitto benedettina francesco\n",
      "parte sede piazza corso laarea monumenti pia stato affaccia abitato\n",
      "terreno ricerca conduce collepino situate settentrionale pubblica matteotti forum estremita\n",
      "citta quasi secolo situato anni pua nord dirimpetto possenti notare\n",
      "san sorge santa borgo chiesa abbazia francesco agricolo croce maria\n",
      "chiesa san originario scomparsa via percorrendo papa antonio viii privato\n",
      "san territorio assisi pittoresco gubbio francesco vicino santo preggio trova\n",
      "chiesa dellaumbria pia museo piediluco romanica cimitero dopo via sud\n",
      "suggestivo arco prima italia foresta marchigiano raccontano altopiano acque alluvionale\n",
      "ridosso tevere momenti mille marchigiano situata meta italia fortunato fianco\n"
     ]
    }
   ],
   "source": [
    "for t in model_output['topics']:\n",
    "  print(\" \".join(t))"
   ]
  },
  {
   "cell_type": "code",
   "execution_count": 71,
   "metadata": {},
   "outputs": [
    {
     "data": {
      "text/plain": [
       "100"
      ]
     },
     "execution_count": 71,
     "metadata": {},
     "output_type": "execute_result"
    }
   ],
   "source": [
    "len(model_output['topics'])"
   ]
  },
  {
   "cell_type": "code",
   "execution_count": 30,
   "metadata": {},
   "outputs": [],
   "source": [
    "# Initialize metric\n",
    "npmi = Coherence(texts=dataset.get_corpus(), topk=10, measure='c_npmi')"
   ]
  },
  {
   "cell_type": "code",
   "execution_count": 31,
   "metadata": {},
   "outputs": [],
   "source": [
    "# Initialize metric\n",
    "topic_diversity = TopicDiversity(topk=10)"
   ]
  },
  {
   "cell_type": "code",
   "execution_count": 32,
   "metadata": {},
   "outputs": [
    {
     "name": "stdout",
     "output_type": "stream",
     "text": [
      "Topic diversity: 0.566\n",
      "Coherence: -0.13421145938496226\n"
     ]
    }
   ],
   "source": [
    "# Retrieve metrics score\n",
    "topic_diversity_score = topic_diversity.score(model_output)\n",
    "print(\"Topic diversity: \"+str(topic_diversity_score))\n",
    "\n",
    "npmi_score = npmi.score(model_output)\n",
    "print(\"Coherence: \"+str(npmi_score))"
   ]
  },
  {
   "cell_type": "markdown",
   "metadata": {},
   "source": [
    "### Hyperparameter Optimization"
   ]
  },
  {
   "cell_type": "code",
   "execution_count": 35,
   "metadata": {},
   "outputs": [],
   "source": [
    "from octis.optimization.optimizer import Optimizer\n",
    "from skopt.space.space import Real\n",
    "from skopt.space.space import Real, Integer"
   ]
  },
  {
   "cell_type": "markdown",
   "metadata": {},
   "source": [
    "### Topic Diversity"
   ]
  },
  {
   "cell_type": "code",
   "execution_count": 49,
   "metadata": {},
   "outputs": [
    {
     "name": "stdout",
     "output_type": "stream",
     "text": [
      "Current call:  0\n",
      "Current call:  1\n",
      "Current call:  2\n",
      "Current call:  3\n",
      "Current call:  4\n",
      "Current call:  5\n",
      "Current call:  6\n",
      "Current call:  7\n",
      "Current call:  8\n",
      "Current call:  9\n",
      "Current call:  10\n",
      "Current call:  11\n",
      "Current call:  12\n",
      "Current call:  13\n",
      "Current call:  14\n",
      "Current call:  15\n",
      "Current call:  16\n",
      "Current call:  17\n",
      "Current call:  18\n",
      "Current call:  19\n",
      "Current call:  20\n",
      "Current call:  21\n",
      "Current call:  22\n",
      "Current call:  23\n",
      "Current call:  24\n",
      "Current call:  25\n",
      "Current call:  26\n",
      "Current call:  27\n",
      "Current call:  28\n",
      "Current call:  29\n"
     ]
    }
   ],
   "source": [
    "# Define the search space. To see which hyperparameters to optimize, see the topic model's initialization signature\n",
    "search_space = {\"alpha\": Real(low=0.001, high=5.0), \"eta\": Real(low=0.001, high=5.0), \"num_topics\": Integer(low=5, high=15)}\n",
    "\n",
    "# Initialize an optimizer object and start the optimization.\n",
    "optimizer=Optimizer()\n",
    "optResult=optimizer.optimize(model, dataset, topic_diversity, search_space, save_path=\"result\", # path to store the results\n",
    "                             number_of_call=30, # number of optimization iterations\n",
    "                             model_runs=5,save_models=False) # number of runs of the topic model\n",
    "#save the results of th optimization in a csv file\n",
    "optResult.save_to_csv(\"result_TD.csv\")"
   ]
  },
  {
   "cell_type": "code",
   "execution_count": 51,
   "metadata": {},
   "outputs": [
    {
     "data": {
      "text/plain": [
       "dict_keys(['dataset_name', 'dataset_path', 'is_cached', 'kernel', 'acq_func', 'surrogate_model', 'optimization_type', 'model_runs', 'save_models', 'save_step', 'save_name', 'save_path', 'early_stop', 'early_step', 'plot_model', 'plot_best_seen', 'plot_name', 'log_scale_plot', 'search_space', 'model_name', 'model_attributes', 'use_partitioning', 'metric_name', 'extra_metric_names', 'metric_attributes', 'extra_metric_attributes', 'current_call', 'number_of_call', 'random_state', 'x0', 'y0', 'n_random_starts', 'initial_point_generator', 'topk', 'time_eval', 'dict_model_runs', 'f_val', 'x_iters'])"
      ]
     },
     "execution_count": 51,
     "metadata": {},
     "output_type": "execute_result"
    }
   ],
   "source": [
    "import json\n",
    "res = json.load(open(\"result/result_TD.json\",'r'))\n",
    "res.keys()"
   ]
  },
  {
   "cell_type": "code",
   "execution_count": 52,
   "metadata": {},
   "outputs": [
    {
     "name": "stdout",
     "output_type": "stream",
     "text": [
      "Valore migliore ottenuto: \n",
      "0.45\n",
      "Numero di iterazione: \n",
      "25\n",
      "Valore di alpha:\n",
      "0.29621673756304395\n",
      "Valore di eta:\n",
      "4.41131880797779\n",
      "Numero di topic:\n",
      "6\n"
     ]
    }
   ],
   "source": [
    "# valuto qual è l'iterazione migliore\n",
    "print(\"Valore migliore di Topic Diversity ottenuto: \" )\n",
    "print(max(res[\"f_val\"]))\n",
    "print(\"Numero di iterazione: \")\n",
    "i = 0\n",
    "for j in res[\"f_val\"]:\n",
    "  if(j == max(res[\"f_val\"])):\n",
    "    i += 1\n",
    "    print(i)\n",
    "    break\n",
    "  else:\n",
    "    i += 1\n",
    "print(\"Valore di alpha:\")\n",
    "print(res['x_iters']['alpha'][i-1])\n",
    "print(\"Valore di eta:\")\n",
    "print(res['x_iters']['eta'][i-1])\n",
    "print(\"Numero di topic:\")\n",
    "print(res['x_iters']['num_topics'][i-1])"
   ]
  },
  {
   "cell_type": "code",
   "execution_count": 53,
   "metadata": {},
   "outputs": [
    {
     "data": {
      "text/plain": [
       "[<matplotlib.lines.Line2D at 0x277627acf10>]"
      ]
     },
     "execution_count": 53,
     "metadata": {},
     "output_type": "execute_result"
    },
    {
     "data": {
      "image/png": "[encoded data removed]",
      "text/plain": [
       "<Figure size 640x480 with 1 Axes>"
      ]
     },
     "metadata": {},
     "output_type": "display_data"
    }
   ],
   "source": [
    "import matplotlib.pyplot as plt\n",
    "\n",
    "plt.plot(res[\"f_val\"])"
   ]
  },
  {
   "cell_type": "code",
   "execution_count": 54,
   "metadata": {},
   "outputs": [
    {
     "name": "stdout",
     "output_type": "stream",
     "text": [
      "Current call:  30\n",
      "Current call:  31\n",
      "Current call:  32\n",
      "Current call:  33\n",
      "Current call:  34\n"
     ]
    }
   ],
   "source": [
    "optimizer=Optimizer()\n",
    "optimization_result = optimizer.resume_optimization('result/result_TD.json',extra_evaluations=5)"
   ]
  },
  {
   "cell_type": "code",
   "execution_count": 55,
   "metadata": {},
   "outputs": [
    {
     "data": {
      "text/plain": [
       "[<matplotlib.lines.Line2D at 0x27760e44c10>]"
      ]
     },
     "execution_count": 55,
     "metadata": {},
     "output_type": "execute_result"
    },
    {
     "data": {
      "image/png": "[encoded data removed]",
      "text/plain": [
       "<Figure size 640x480 with 1 Axes>"
      ]
     },
     "metadata": {},
     "output_type": "display_data"
    }
   ],
   "source": [
    "res = json.load(open(\"result/result_TD.json\",'r'))\n",
    "plt.plot(res[\"f_val\"])"
   ]
  },
  {
   "cell_type": "code",
   "execution_count": 77,
   "metadata": {},
   "outputs": [],
   "source": [
    "# Create Model\n",
    "model = LDA(num_topics=6, alpha= 0.29621673756304395, eta= 4.41131880797779)"
   ]
  },
  {
   "cell_type": "code",
   "execution_count": 78,
   "metadata": {},
   "outputs": [],
   "source": [
    "model_output = model.train_model(dataset)"
   ]
  },
  {
   "cell_type": "code",
   "execution_count": null,
   "metadata": {},
   "outputs": [],
   "source": [
    "print(*list(model_output.keys()), sep=\"\\n\") # Print the output identifiers"
   ]
  },
  {
   "cell_type": "code",
   "execution_count": null,
   "metadata": {},
   "outputs": [],
   "source": [
    "for t in model_output['topics']:\n",
    "  print(\" \".join(t))"
   ]
  },
  {
   "cell_type": "code",
   "execution_count": 79,
   "metadata": {},
   "outputs": [],
   "source": [
    "corpus_processed = pd.read_csv('dataset/corpus.tsv', sep='\\t', header=None)\n",
    "new_df = pd.DataFrame(corpus_processed[0])"
   ]
  },
  {
   "cell_type": "code",
   "execution_count": 80,
   "metadata": {},
   "outputs": [
    {
     "data": {
      "text/plain": [
       "6"
      ]
     },
     "execution_count": 80,
     "metadata": {},
     "output_type": "execute_result"
    }
   ],
   "source": [
    "len(model_output['topics'])"
   ]
  },
  {
   "cell_type": "code",
   "execution_count": 81,
   "metadata": {},
   "outputs": [
    {
     "data": {
      "text/html": [
       "<div>\n",
       "<style scoped>\n",
       "    .dataframe tbody tr th:only-of-type {\n",
       "        vertical-align: middle;\n",
       "    }\n",
       "\n",
       "    .dataframe tbody tr th {\n",
       "        vertical-align: top;\n",
       "    }\n",
       "\n",
       "    .dataframe thead th {\n",
       "        text-align: right;\n",
       "    }\n",
       "</style>\n",
       "<table border=\"1\" class=\"dataframe\">\n",
       "  <thead>\n",
       "    <tr style=\"text-align: right;\">\n",
       "      <th></th>\n",
       "      <th>0</th>\n",
       "      <th>1</th>\n",
       "      <th>2</th>\n",
       "      <th>3</th>\n",
       "      <th>4</th>\n",
       "      <th>5</th>\n",
       "      <th>6</th>\n",
       "    </tr>\n",
       "  </thead>\n",
       "  <tbody>\n",
       "    <tr>\n",
       "      <th>0</th>\n",
       "      <td>qui possiamo ammirare resti porta accesso anti...</td>\n",
       "      <td>0.025778</td>\n",
       "      <td>0.025439</td>\n",
       "      <td>0.025729</td>\n",
       "      <td>0.872012</td>\n",
       "      <td>0.025413</td>\n",
       "      <td>0.025628</td>\n",
       "    </tr>\n",
       "    <tr>\n",
       "      <th>1</th>\n",
       "      <td>posizione dominante valle risacco val rasina r...</td>\n",
       "      <td>0.011193</td>\n",
       "      <td>0.011132</td>\n",
       "      <td>0.019168</td>\n",
       "      <td>0.011156</td>\n",
       "      <td>0.011170</td>\n",
       "      <td>0.936181</td>\n",
       "    </tr>\n",
       "    <tr>\n",
       "      <th>2</th>\n",
       "      <td>collegiata santa maria assunta risale stile as...</td>\n",
       "      <td>0.027393</td>\n",
       "      <td>0.027409</td>\n",
       "      <td>0.861571</td>\n",
       "      <td>0.028243</td>\n",
       "      <td>0.027773</td>\n",
       "      <td>0.027610</td>\n",
       "    </tr>\n",
       "    <tr>\n",
       "      <th>3</th>\n",
       "      <td>unica navata ampia luminosa due nicchioni due ...</td>\n",
       "      <td>0.017766</td>\n",
       "      <td>0.017678</td>\n",
       "      <td>0.017711</td>\n",
       "      <td>0.017767</td>\n",
       "      <td>0.017621</td>\n",
       "      <td>0.911458</td>\n",
       "    </tr>\n",
       "    <tr>\n",
       "      <th>4</th>\n",
       "      <td>contesto urbano datazione xiii secolo chiesa s...</td>\n",
       "      <td>0.014093</td>\n",
       "      <td>0.013734</td>\n",
       "      <td>0.929847</td>\n",
       "      <td>0.014389</td>\n",
       "      <td>0.013976</td>\n",
       "      <td>0.013962</td>\n",
       "    </tr>\n",
       "    <tr>\n",
       "      <th>...</th>\n",
       "      <td>...</td>\n",
       "      <td>...</td>\n",
       "      <td>...</td>\n",
       "      <td>...</td>\n",
       "      <td>...</td>\n",
       "      <td>...</td>\n",
       "      <td>...</td>\n",
       "    </tr>\n",
       "    <tr>\n",
       "      <th>568</th>\n",
       "      <td>santuario madonna assunta cielo xii secolo sti...</td>\n",
       "      <td>NaN</td>\n",
       "      <td>NaN</td>\n",
       "      <td>NaN</td>\n",
       "      <td>NaN</td>\n",
       "      <td>NaN</td>\n",
       "      <td>NaN</td>\n",
       "    </tr>\n",
       "    <tr>\n",
       "      <th>569</th>\n",
       "      <td>antico castello medievale assedi miracoli reli...</td>\n",
       "      <td>NaN</td>\n",
       "      <td>NaN</td>\n",
       "      <td>NaN</td>\n",
       "      <td>NaN</td>\n",
       "      <td>NaN</td>\n",
       "      <td>NaN</td>\n",
       "    </tr>\n",
       "    <tr>\n",
       "      <th>570</th>\n",
       "      <td>splendido castello pupaggi comune sellano luog...</td>\n",
       "      <td>NaN</td>\n",
       "      <td>NaN</td>\n",
       "      <td>NaN</td>\n",
       "      <td>NaN</td>\n",
       "      <td>NaN</td>\n",
       "      <td>NaN</td>\n",
       "    </tr>\n",
       "    <tr>\n",
       "      <th>571</th>\n",
       "      <td>esistono due tipologie prosciutto norcia primo...</td>\n",
       "      <td>NaN</td>\n",
       "      <td>NaN</td>\n",
       "      <td>NaN</td>\n",
       "      <td>NaN</td>\n",
       "      <td>NaN</td>\n",
       "      <td>NaN</td>\n",
       "    </tr>\n",
       "    <tr>\n",
       "      <th>572</th>\n",
       "      <td>preziosa unica piccole dimensioni sapore incon...</td>\n",
       "      <td>NaN</td>\n",
       "      <td>NaN</td>\n",
       "      <td>NaN</td>\n",
       "      <td>NaN</td>\n",
       "      <td>NaN</td>\n",
       "      <td>NaN</td>\n",
       "    </tr>\n",
       "  </tbody>\n",
       "</table>\n",
       "<p>573 rows × 7 columns</p>\n",
       "</div>"
      ],
      "text/plain": [
       "                                                     0         1         2   \n",
       "0    qui possiamo ammirare resti porta accesso anti...  0.025778  0.025439  \\\n",
       "1    posizione dominante valle risacco val rasina r...  0.011193  0.011132   \n",
       "2    collegiata santa maria assunta risale stile as...  0.027393  0.027409   \n",
       "3    unica navata ampia luminosa due nicchioni due ...  0.017766  0.017678   \n",
       "4    contesto urbano datazione xiii secolo chiesa s...  0.014093  0.013734   \n",
       "..                                                 ...       ...       ...   \n",
       "568  santuario madonna assunta cielo xii secolo sti...       NaN       NaN   \n",
       "569  antico castello medievale assedi miracoli reli...       NaN       NaN   \n",
       "570  splendido castello pupaggi comune sellano luog...       NaN       NaN   \n",
       "571  esistono due tipologie prosciutto norcia primo...       NaN       NaN   \n",
       "572  preziosa unica piccole dimensioni sapore incon...       NaN       NaN   \n",
       "\n",
       "            3         4         5         6  \n",
       "0    0.025729  0.872012  0.025413  0.025628  \n",
       "1    0.019168  0.011156  0.011170  0.936181  \n",
       "2    0.861571  0.028243  0.027773  0.027610  \n",
       "3    0.017711  0.017767  0.017621  0.911458  \n",
       "4    0.929847  0.014389  0.013976  0.013962  \n",
       "..        ...       ...       ...       ...  \n",
       "568       NaN       NaN       NaN       NaN  \n",
       "569       NaN       NaN       NaN       NaN  \n",
       "570       NaN       NaN       NaN       NaN  \n",
       "571       NaN       NaN       NaN       NaN  \n",
       "572       NaN       NaN       NaN       NaN  \n",
       "\n",
       "[573 rows x 7 columns]"
      ]
     },
     "execution_count": 81,
     "metadata": {},
     "output_type": "execute_result"
    }
   ],
   "source": [
    "num = 1\n",
    "for topic in model_output['topic-document-matrix']:\n",
    "  for i in range(0,len(topic)):\n",
    "    new_df.loc[i,num] = topic[i]\n",
    "  num = num+1\n",
    "new_df"
   ]
  },
  {
   "cell_type": "code",
   "execution_count": 84,
   "metadata": {},
   "outputs": [
    {
     "name": "stdout",
     "output_type": "stream",
     "text": [
      "Topic diversity: 0.38333333333333336\n",
      "Coherence: -0.029192896555307834\n"
     ]
    }
   ],
   "source": [
    "# Retrieve metrics score\n",
    "topic_diversity_score = topic_diversity.score(model_output)\n",
    "print(\"Topic diversity: \"+str(topic_diversity_score))\n",
    "\n",
    "npmi_score = npmi.score(model_output)\n",
    "print(\"Coherence: \"+str(npmi_score))"
   ]
  },
  {
   "cell_type": "markdown",
   "metadata": {},
   "source": [
    "### Topic Coherence"
   ]
  },
  {
   "cell_type": "code",
   "execution_count": 56,
   "metadata": {},
   "outputs": [
    {
     "name": "stdout",
     "output_type": "stream",
     "text": [
      "Current call:  0\n",
      "Current call:  1\n",
      "Current call:  2\n",
      "Current call:  3\n",
      "Current call:  4\n",
      "Current call:  5\n",
      "Current call:  6\n",
      "Current call:  7\n",
      "Current call:  8\n",
      "Current call:  9\n",
      "Current call:  10\n",
      "Current call:  11\n",
      "Current call:  12\n",
      "Current call:  13\n",
      "Current call:  14\n",
      "Current call:  15\n",
      "Current call:  16\n",
      "Current call:  17\n",
      "Current call:  18\n",
      "Current call:  19\n",
      "Current call:  20\n",
      "Current call:  21\n",
      "Current call:  22\n",
      "Current call:  23\n",
      "Current call:  24\n",
      "Current call:  25\n",
      "Current call:  26\n",
      "Current call:  27\n",
      "Current call:  28\n",
      "Current call:  29\n"
     ]
    }
   ],
   "source": [
    "# Define the search space. To see which hyperparameters to optimize, see the topic model's initialization signature\n",
    "search_space = {\"alpha\": Real(low=0.001, high=5.0), \"eta\": Real(low=0.001, high=5.0), \"num_topics\": Integer(low=5, high=15)}\n",
    "\n",
    "# Initialize an optimizer object and start the optimization.\n",
    "optimizer=Optimizer()\n",
    "optResult=optimizer.optimize(model, dataset, npmi, search_space, save_path=\"result\", # path to store the results\n",
    "                             number_of_call=30, # number of optimization iterations\n",
    "                             model_runs=5,save_models=False) # number of runs of the topic model\n",
    "#save the results of th optimization in a csv file\n",
    "optResult.save_to_csv(\"result/result_npmi.csv\")"
   ]
  },
  {
   "cell_type": "code",
   "execution_count": 61,
   "metadata": {},
   "outputs": [
    {
     "data": {
      "text/plain": [
       "dict_keys(['dataset_name', 'dataset_path', 'is_cached', 'kernel', 'acq_func', 'surrogate_model', 'optimization_type', 'model_runs', 'save_models', 'save_step', 'save_name', 'save_path', 'early_stop', 'early_step', 'plot_model', 'plot_best_seen', 'plot_name', 'log_scale_plot', 'search_space', 'model_name', 'model_attributes', 'use_partitioning', 'metric_name', 'extra_metric_names', 'metric_attributes', 'extra_metric_attributes', 'current_call', 'number_of_call', 'random_state', 'x0', 'y0', 'n_random_starts', 'initial_point_generator', 'topk', 'time_eval', 'dict_model_runs', 'f_val', 'x_iters'])"
      ]
     },
     "execution_count": 61,
     "metadata": {},
     "output_type": "execute_result"
    }
   ],
   "source": [
    "import json\n",
    "res = json.load(open(\"result/result_npmi.json\",'r'))\n",
    "res.keys()"
   ]
  },
  {
   "cell_type": "code",
   "execution_count": 62,
   "metadata": {},
   "outputs": [
    {
     "name": "stdout",
     "output_type": "stream",
     "text": [
      "Valore migliore di Topic Coherence ottenuto: \n",
      "0.04189626025966379\n",
      "Numero di iterazione: \n",
      "4\n",
      "Valore di alpha:\n",
      "4.509781223032633\n",
      "Valore di eta:\n",
      "0.9548581064535537\n",
      "Numero di topic:\n",
      "12\n"
     ]
    }
   ],
   "source": [
    "# valuto qual è l'iterazione migliore\n",
    "print(\"Valore migliore di Topic Coherence ottenuto: \" )\n",
    "print(max(res[\"f_val\"]))\n",
    "print(\"Numero di iterazione: \")\n",
    "i = 0\n",
    "for j in res[\"f_val\"]:\n",
    "  if(j == max(res[\"f_val\"])):\n",
    "    i += 1\n",
    "    print(i)\n",
    "    break\n",
    "  else:\n",
    "    i += 1\n",
    "print(\"Valore di alpha:\")\n",
    "print(res['x_iters']['alpha'][i-1])\n",
    "print(\"Valore di eta:\")\n",
    "print(res['x_iters']['eta'][i-1])\n",
    "print(\"Numero di topic:\")\n",
    "print(res['x_iters']['num_topics'][i-1])"
   ]
  },
  {
   "cell_type": "code",
   "execution_count": 63,
   "metadata": {},
   "outputs": [
    {
     "data": {
      "text/plain": [
       "[<matplotlib.lines.Line2D at 0x27762797eb0>]"
      ]
     },
     "execution_count": 63,
     "metadata": {},
     "output_type": "execute_result"
    },
    {
     "data": {
      "image/png": "[encoded data removed]",
      "text/plain": [
       "<Figure size 640x480 with 1 Axes>"
      ]
     },
     "metadata": {},
     "output_type": "display_data"
    }
   ],
   "source": [
    "import matplotlib.pyplot as plt\n",
    "\n",
    "plt.plot(res[\"f_val\"])"
   ]
  },
  {
   "cell_type": "code",
   "execution_count": 67,
   "metadata": {},
   "outputs": [],
   "source": [
    "corpus_processed = pd.read_csv('dataset/corpus.tsv', sep='\\t', header=None)\n",
    "new_df = pd.DataFrame(corpus_processed[0])"
   ]
  }
 ],
 "metadata": {
  "kernelspec": {
   "display_name": "Python 3",
   "language": "python",
   "name": "python3"
  },
  "language_info": {
   "codemirror_mode": {
    "name": "ipython",
    "version": 3
   },
   "file_extension": ".py",
   "mimetype": "text/x-python",
   "name": "python",
   "nbconvert_exporter": "python",
   "pygments_lexer": "ipython3",
   "version": "3.10.8"
  }
 },
 "nbformat": 4,
 "nbformat_minor": 2
}
